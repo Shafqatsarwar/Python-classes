{
 "cells": [
  {
   "cell_type": "code",
   "execution_count": null,
   "metadata": {},
   "outputs": [],
   "source": []
  },
  {
   "cell_type": "markdown",
   "metadata": {},
   "source": [
    "# Loop and input for user\n",
    "* while\n",
    "* for\n",
    "* controls\n",
    " * break\n",
    " * contnue\n",
    " * pass\n",
    "* input with input function\n",
    "* input from console\n",
    "\n",
    "# Loop working on otterative data type\n",
    "* list\n",
    "* dictionary \n",
    "* tuple\n",
    "* string\n"
   ]
  },
  {
   "cell_type": "code",
   "execution_count": 1,
   "metadata": {},
   "outputs": [
    {
     "name": "stdout",
     "output_type": "stream",
     "text": [
      "[1, 2, 3, 4, 5, 6]\n"
     ]
    }
   ],
   "source": [
    "#                 0  1  2  3  4  5\n",
    "l1 : list[int] = [1, 2, 3, 4, 5, 6]\n",
    "print(l1)"
   ]
  },
  {
   "cell_type": "code",
   "execution_count": 2,
   "metadata": {},
   "outputs": [
    {
     "name": "stdout",
     "output_type": "stream",
     "text": [
      "1\n",
      "2\n",
      "3\n",
      "4\n",
      "5\n",
      "6\n"
     ]
    }
   ],
   "source": [
    "#                 0  1  2  3  4  5\n",
    "l1 : list[int] = [1, 2, 3, 4, 5, 6]\n",
    "\n",
    "for n in l1:\n",
    "    print (n)"
   ]
  },
  {
   "cell_type": "code",
   "execution_count": 3,
   "metadata": {},
   "outputs": [
    {
     "name": "stdout",
     "output_type": "stream",
     "text": [
      "current number :1\n",
      "current number :2\n",
      "current number :3\n",
      "current number :4\n",
      "current number :5\n",
      "current number :6\n"
     ]
    }
   ],
   "source": [
    "#                 0  1  2  3  4  5\n",
    "l1 : list[int] = [1, 2, 3, 4, 5, 6]\n",
    "\n",
    "for n in l1:\n",
    "    print (f\"current number :{n}\")"
   ]
  },
  {
   "cell_type": "code",
   "execution_count": 4,
   "metadata": {},
   "outputs": [
    {
     "name": "stdout",
     "output_type": "stream",
     "text": [
      "current number :P\n",
      "current number :a\n",
      "current number :k\n",
      "current number :i\n",
      "current number :s\n",
      "current number :t\n",
      "current number :a\n",
      "current number :n\n"
     ]
    }
   ],
   "source": [
    "#                 01234567\n",
    "l1 : list[int] = \"Pakistan\"\n",
    "\n",
    "for n in l1:\n",
    "    print (f\"current number :{n}\")"
   ]
  },
  {
   "cell_type": "code",
   "execution_count": 5,
   "metadata": {},
   "outputs": [
    {
     "name": "stdout",
     "output_type": "stream",
     "text": [
      "dictionary key:name and value is khan\n",
      "dictionary key:fname and value is sarwar\n"
     ]
    }
   ],
   "source": [
    "#                 01234567\n",
    "l1 : dict[str,str] = {\"name\":\"khan\", \"fname\":\"sarwar\"}\n",
    "\n",
    "for k in l1:\n",
    "    print (f\"dictionary key:{k} and value is {l1[k]}\")"
   ]
  },
  {
   "cell_type": "code",
   "execution_count": 9,
   "metadata": {},
   "outputs": [
    {
     "name": "stdout",
     "output_type": "stream",
     "text": [
      "value from list of set : 1\n",
      "value from list of set : 2\n",
      "value from list of set : 3\n",
      "value from list of set : 4\n",
      "value from list of set : 5\n",
      "value from list of set : 6\n",
      "value from list of set : 7\n",
      "value from list of set : 8\n",
      "value from list of set : 9\n"
     ]
    }
   ],
   "source": [
    "l2 : list  [set[int]] = list({1,2,3,5,6,7,9,4,6,8})\n",
    "\n",
    "for k in l2:\n",
    "    print (f\"value from list of set : {k}\")"
   ]
  },
  {
   "cell_type": "markdown",
   "metadata": {},
   "source": [
    "# input from user\n",
    "* input function \n",
    "20 minutes video from "
   ]
  }
 ],
 "metadata": {
  "kernelspec": {
   "display_name": "python12",
   "language": "python",
   "name": "python3"
  },
  "language_info": {
   "codemirror_mode": {
    "name": "ipython",
    "version": 3
   },
   "file_extension": ".py",
   "mimetype": "text/x-python",
   "name": "python",
   "nbconvert_exporter": "python",
   "pygments_lexer": "ipython3",
   "version": "3.12.0"
  }
 },
 "nbformat": 4,
 "nbformat_minor": 2
}
