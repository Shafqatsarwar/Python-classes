{
  "nbformat": 4,
  "nbformat_minor": 0,
  "metadata": {
    "colab": {
      "provenance": [],
      "authorship_tag": "ABX9TyPYgZ4IYenTdv8VVuHTYQvC",
      "include_colab_link": true
    },
    "kernelspec": {
      "name": "python3",
      "display_name": "Python 3"
    },
    "language_info": {
      "name": "python"
    }
  },
  "cells": [
    {
      "cell_type": "markdown",
      "metadata": {
        "id": "view-in-github",
        "colab_type": "text"
      },
      "source": [
        "<a href=\"https://colab.research.google.com/github/Shafqatsarwar/Python-classes/blob/main/Python_Assignment08.ipynb\" target=\"_parent\"><img src=\"https://colab.research.google.com/assets/colab-badge.svg\" alt=\"Open In Colab\"/></a>"
      ]
    },
    {
      "cell_type": "code",
      "source": [
        "# Water Bucket Puzzle Game\n",
        "\n",
        "class Bucket:\n",
        "    def __init__(self, capacity):\n",
        "        self.capacity = capacity\n",
        "        self.current = 0\n",
        "\n",
        "    def fill(self):\n",
        "        self.current = self.capacity\n",
        "\n",
        "    def empty(self):\n",
        "        self.current = 0\n",
        "\n",
        "    def pour_into(self, other):\n",
        "        transfer = min(self.current, other.capacity - other.current)\n",
        "        self.current -= transfer\n",
        "        other.current += transfer\n",
        "\n",
        "def display_buckets(buckets):\n",
        "    for i, bucket in enumerate(buckets):\n",
        "        print(f\"Bucket {i+1}: {bucket.current}/{bucket.capacity} liters\")\n",
        "\n",
        "def main():\n",
        "    buckets = [Bucket(8), Bucket(5), Bucket(3)]\n",
        "    goal = 4\n",
        "\n",
        "    while True:\n",
        "        display_buckets(buckets)\n",
        "        if any(bucket.current == goal for bucket in buckets):\n",
        "            print(f\"Congratulations! You've achieved {goal} liters.\")\n",
        "            break\n",
        "\n",
        "        print(\"\\nActions: (F)ill, (E)mpty, (P)our, (Q)uit\")\n",
        "        action = input(\"Choose an action (F/E/P/Q): \").strip().upper()\n",
        "\n",
        "        if action == 'Q':\n",
        "            print(\"Thanks for playing!\")\n",
        "            break\n",
        "\n",
        "        bucket_index = int(input(\"Select a bucket (1, 2, 3): \")) - 1\n",
        "        if action == 'F':\n",
        "            buckets[bucket_index].fill()\n",
        "        elif action == 'E':\n",
        "            buckets[bucket_index].empty()\n",
        "        elif action == 'P':\n",
        "            target_index = int(input(\"Select a target bucket (1, 2, 3): \")) - 1\n",
        "            buckets[bucket_index].pour_into(buckets[target_index])\n",
        "        else:\n",
        "            print(\"Invalid action. Please try again.\")\n",
        "\n",
        "if __name__ == \"__main__\":\n",
        "    main()\n"
      ],
      "metadata": {
        "colab": {
          "base_uri": "https://localhost:8080/"
        },
        "id": "Ez3e6zt4zTd8",
        "outputId": "d6d6fb4b-7fa1-4320-9453-9a8603266a48"
      },
      "execution_count": null,
      "outputs": [
        {
          "output_type": "stream",
          "name": "stdout",
          "text": [
            "Bucket 1: 0/8 liters\n",
            "Bucket 2: 0/5 liters\n",
            "Bucket 3: 0/3 liters\n",
            "\n",
            "Actions: (F)ill, (E)mpty, (P)our, (Q)uit\n",
            "Choose an action (F/E/P/Q): P\n",
            "Select a bucket (1, 2, 3): 2\n",
            "Select a target bucket (1, 2, 3): 1\n",
            "Bucket 1: 0/8 liters\n",
            "Bucket 2: 0/5 liters\n",
            "Bucket 3: 0/3 liters\n",
            "\n",
            "Actions: (F)ill, (E)mpty, (P)our, (Q)uit\n",
            "Choose an action (F/E/P/Q): F\n",
            "Select a bucket (1, 2, 3): 2\n",
            "Bucket 1: 0/8 liters\n",
            "Bucket 2: 5/5 liters\n",
            "Bucket 3: 0/3 liters\n",
            "\n",
            "Actions: (F)ill, (E)mpty, (P)our, (Q)uit\n",
            "Choose an action (F/E/P/Q): F\n",
            "Select a bucket (1, 2, 3): 1\n",
            "Bucket 1: 8/8 liters\n",
            "Bucket 2: 5/5 liters\n",
            "Bucket 3: 0/3 liters\n",
            "\n",
            "Actions: (F)ill, (E)mpty, (P)our, (Q)uit\n",
            "Choose an action (F/E/P/Q): P\n",
            "Select a bucket (1, 2, 3): 3\n",
            "Select a target bucket (1, 2, 3): 2\n",
            "Bucket 1: 8/8 liters\n",
            "Bucket 2: 5/5 liters\n",
            "Bucket 3: 0/3 liters\n",
            "\n",
            "Actions: (F)ill, (E)mpty, (P)our, (Q)uit\n"
          ]
        }
      ]
    },
    {
      "cell_type": "code",
      "source": [
        "# class Bucket:\n",
        "#     def __init__(self, capacity):\n",
        "#         self.capacity = capacity\n",
        "#         self.current = 0\n",
        "\n",
        "#     def fill(self):\n",
        "#         self.current = self.capacity\n",
        "\n",
        "#     def empty(self):\n",
        "#         self.current = 0\n",
        "\n",
        "#     def pour_into(self, other):\n",
        "#         transfer = min(self.current, other.capacity - other.current)\n",
        "#         self.current -= transfer\n",
        "#         other.current += transfer\n",
        "\n",
        "# def display_buckets(buckets):\n",
        "#     for i, bucket in enumerate(buckets):\n",
        "#         print(f\"Bucket {i+1}: {bucket.current}/{bucket.capacity} liters\")\n",
        "\n",
        "# def main():\n",
        "#     buckets = [Bucket(8), Bucket(5), Bucket(3)]\n",
        "#     goal = 4\n",
        "\n",
        "#     while True:\n",
        "#         display_buckets(buckets)\n",
        "#         if any(bucket.current == goal for bucket in buckets):\n",
        "#             print(f\"Congratulations! You've achieved {goal} liters.\")\n",
        "#             break\n",
        "\n",
        "#         print(\"\\nActions: (F)ill, (E)mpty, (P)our, (Q)uit\")\n",
        "#         action = input(\"Choose an action: \").strip().upper()\n",
        "\n",
        "#         if action == 'Q':\n",
        "#             print(\"Thanks for playing!\")\n",
        "#             break\n",
        "\n",
        "#         bucket_index = int(input(\"Select a bucket (1, 2, 3): \")) - 1\n",
        "#         if action == 'F':\n",
        "#             buckets[bucket_index].fill()\n",
        "#         elif action == 'E':\n",
        "#             buckets[bucket_index].empty()\n",
        "#         elif action == 'P':\n",
        "#             target_index = int(input(\"Select a target bucket (1, 2, 3): \")) - 1\n",
        "#             buckets[bucket_index].pour_into(buckets[target_index])\n",
        "#         else:\n",
        "#             print(\"Invalid action. Please try again.\")\n",
        "\n",
        "# if __name__ == \"__main__\":\n",
        "#     main()\n"
      ],
      "metadata": {
        "id": "sVC6RNcKz1d0"
      },
      "execution_count": null,
      "outputs": []
    }
  ]
}