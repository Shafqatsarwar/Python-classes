{
 "cells": [
  {
   "cell_type": "markdown",
   "metadata": {},
   "source": [
    "# 3: Encapsulation\n",
    " * use ._ or __ dunder to make private content"
   ]
  },
  {
   "cell_type": "code",
   "execution_count": 5,
   "metadata": {},
   "outputs": [
    {
     "name": "stdout",
     "output_type": "stream",
     "text": [
      "0800\n"
     ]
    }
   ],
   "source": [
    "class Piaic():\n",
    "    def __init__(self) -> None:\n",
    "        self.piaic_helpline : str = \"0800\" # Public\n",
    "        self._total_expense : int = 6000 # Protected ._ before name\n",
    "        self.__test_annoncment : str = \"June 2024\" # Private .__ dunder before name\n",
    "\n",
    "isfahan : Piaic = Piaic()\n",
    "\n",
    "print (isfahan.piaic_helpline)"
   ]
  },
  {
   "cell_type": "code",
   "execution_count": 6,
   "metadata": {},
   "outputs": [
    {
     "name": "stdout",
     "output_type": "stream",
     "text": [
      "0300\n"
     ]
    }
   ],
   "source": [
    "isfahan.piaic_helpline = '0300'\n",
    "print (isfahan.piaic_helpline)"
   ]
  },
  {
   "cell_type": "code",
   "execution_count": 7,
   "metadata": {},
   "outputs": [
    {
     "ename": "AttributeError",
     "evalue": "'Piaic' object has no attribute '__test_annoncment'",
     "output_type": "error",
     "traceback": [
      "\u001b[1;31m---------------------------------------------------------------------------\u001b[0m",
      "\u001b[1;31mAttributeError\u001b[0m                            Traceback (most recent call last)",
      "Cell \u001b[1;32mIn[7], line 1\u001b[0m\n\u001b[1;32m----> 1\u001b[0m \u001b[38;5;28mprint\u001b[39m (\u001b[43misfahan\u001b[49m\u001b[38;5;241;43m.\u001b[39;49m\u001b[43m__test_annoncment\u001b[49m)\n",
      "\u001b[1;31mAttributeError\u001b[0m: 'Piaic' object has no attribute '__test_annoncment'"
     ]
    }
   ],
   "source": [
    "print (isfahan.__test_annoncment)"
   ]
  },
  {
   "cell_type": "code",
   "execution_count": null,
   "metadata": {},
   "outputs": [
    {
     "data": {
      "text/plain": [
       "'June 2024'"
      ]
     },
     "execution_count": 6,
     "metadata": {},
     "output_type": "execute_result"
    }
   ],
   "source": [
    "isfahan._Piaic__test_annoncment"
   ]
  },
  {
   "cell_type": "code",
   "execution_count": 12,
   "metadata": {},
   "outputs": [],
   "source": [
    "class StudentLogin():\n",
    "    def __init__(self) -> None:\n",
    "        self.__username : str = \"admin\"\n",
    "        self.__password : str = \"Admin\"\n",
    "\n",
    "    def __dbconnectivity (self, user:str, password:str):\n",
    "        print ( \"Successfuly connected\" )\n",
    "        if user == self.__username and password == self.__password:\n",
    "            return \"valid User\"\n",
    "        else:\n",
    "            return \"invalid User\"\n",
    "        \n",
    "    def update_password(self, password:str):\n",
    "        self.__password = password\n",
    "        \n",
    "    def student_login(self, user:str, password:str):\n",
    "        message : str = self.__dbconnectivity (user, password)\n",
    "        print (message)\n",
    "\n",
    "    def display_information(self):\n",
    "        print (f\"Hello Dear, {self.__username} and Password {self.__password}\")\n",
    "\n",
    "\n",
    "\n",
    "khan : StudentLogin = StudentLogin()"
   ]
  },
  {
   "cell_type": "code",
   "execution_count": null,
   "metadata": {},
   "outputs": [
    {
     "ename": "AttributeError",
     "evalue": "'StudentLogin' object has no attribute '__password'",
     "output_type": "error",
     "traceback": [
      "\u001b[1;31m---------------------------------------------------------------------------\u001b[0m",
      "\u001b[1;31mAttributeError\u001b[0m                            Traceback (most recent call last)",
      "Cell \u001b[1;32mIn[2], line 1\u001b[0m\n\u001b[1;32m----> 1\u001b[0m \u001b[43mkhan\u001b[49m\u001b[38;5;241;43m.\u001b[39;49m\u001b[43m__password\u001b[49m\n",
      "\u001b[1;31mAttributeError\u001b[0m: 'StudentLogin' object has no attribute '__password'"
     ]
    }
   ],
   "source": [
    "khan.__password"
   ]
  },
  {
   "cell_type": "code",
   "execution_count": 10,
   "metadata": {},
   "outputs": [
    {
     "name": "stdout",
     "output_type": "stream",
     "text": [
      "Successfuly connected\n",
      "valid User\n"
     ]
    }
   ],
   "source": [
    "khan.student_login (\"admin\", \"Admin\")"
   ]
  },
  {
   "cell_type": "code",
   "execution_count": 8,
   "metadata": {},
   "outputs": [
    {
     "name": "stdout",
     "output_type": "stream",
     "text": [
      "Successfuly connected\n",
      "invalid User\n"
     ]
    }
   ],
   "source": [
    "khan.student_login (\"admin\", \"admin\")"
   ]
  },
  {
   "cell_type": "code",
   "execution_count": 9,
   "metadata": {},
   "outputs": [
    {
     "name": "stdout",
     "output_type": "stream",
     "text": [
      "Hello Dear, admin and Password Admin\n"
     ]
    }
   ],
   "source": [
    "khan.display_information()"
   ]
  },
  {
   "cell_type": "code",
   "execution_count": 13,
   "metadata": {},
   "outputs": [],
   "source": [
    "khan.update_password(\"adminadmin\")"
   ]
  },
  {
   "cell_type": "code",
   "execution_count": 14,
   "metadata": {},
   "outputs": [
    {
     "name": "stdout",
     "output_type": "stream",
     "text": [
      "Hello Dear, admin and Password adminadmin\n"
     ]
    }
   ],
   "source": [
    "khan.display_information()"
   ]
  },
  {
   "cell_type": "markdown",
   "metadata": {},
   "source": [
    "# __str__"
   ]
  },
  {
   "cell_type": "code",
   "execution_count": 21,
   "metadata": {},
   "outputs": [
    {
     "name": "stdout",
     "output_type": "stream",
     "text": [
      "<__main__.Teacher object at 0x000001D9D1CCC470>\n"
     ]
    }
   ],
   "source": [
    "class Teacher():\n",
    "    def __init__(self, name) -> None:\n",
    "        self.name : str = name\n",
    "\n",
    "sir_zia : Teacher = Teacher(\"Sir Zia\")\n",
    "print(sir_zia)"
   ]
  },
  {
   "cell_type": "code",
   "execution_count": 25,
   "metadata": {},
   "outputs": [
    {
     "name": "stdout",
     "output_type": "stream",
     "text": [
      "Teacher name is Sir Zia\n"
     ]
    }
   ],
   "source": [
    "class Teacher():\n",
    "    def __init__(self, name) -> None:\n",
    "        self.name : str = name\n",
    "\n",
    "    def __str__(self) -> str:\n",
    "        return f\"Teacher name is {self.name}\"\n",
    "\n",
    "sir_zia : Teacher = Teacher(\"Sir Zia\")\n",
    "print(sir_zia)"
   ]
  }
 ],
 "metadata": {
  "kernelspec": {
   "display_name": "Python 3",
   "language": "python",
   "name": "python3"
  },
  "language_info": {
   "codemirror_mode": {
    "name": "ipython",
    "version": 3
   },
   "file_extension": ".py",
   "mimetype": "text/x-python",
   "name": "python",
   "nbconvert_exporter": "python",
   "pygments_lexer": "ipython3",
   "version": "3.12.2"
  }
 },
 "nbformat": 4,
 "nbformat_minor": 2
}
