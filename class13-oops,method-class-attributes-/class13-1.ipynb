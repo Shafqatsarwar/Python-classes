{
 "cells": [
  {
   "cell_type": "markdown",
   "metadata": {},
   "source": [
    "1.Encapsulation:\n",
    "The bundling of data and methods that work on the data into a single unit, hiding the internal state and requiring all interactions to occur through well-defined interfaces.\n",
    "\n",
    "2.Abstraction:\n",
    "The concept of representing essential features without including the background details or explanations.\n",
    "\n",
    "3.Inheritance:\n",
    "The mechanism by which a class can inherit properties and behavior from another class, enabling code reusability and creating a hierarchy of classes.\n",
    "\n",
    "4.Polymorphism:\n",
    "The ability for different classes to be treated as instances of a common superclass, allowing for more flexible and modular code design with multiple implementations of methods."
   ]
  },
  {
   "cell_type": "markdown",
   "metadata": {},
   "source": [
    "# 1. Inheritance:\n",
    "1:24 minutes\n"
   ]
  }
 ],
 "metadata": {
  "language_info": {
   "name": "python"
  }
 },
 "nbformat": 4,
 "nbformat_minor": 2
}
