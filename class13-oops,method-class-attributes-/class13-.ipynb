{
 "cells": [
  {
   "cell_type": "markdown",
   "metadata": {},
   "source": [
    "# OOP (object oriented programming)\n",
    " * class\n",
    "  * method\n",
    "  * attributes\n",
    "  * class variables"
   ]
  },
  {
   "cell_type": "code",
   "execution_count": null,
   "metadata": {
    "vscode": {
     "languageId": "plaintext"
    }
   },
   "outputs": [],
   "source": [
    "def obj1_speak(): pass\n",
    "def obj2_speak(): pass\n",
    "\n",
    "obj1_name: str =\"khan\"\n",
    "obj2_name: str =\"Sarwar\"\n"
   ]
  }
 ],
 "metadata": {
  "language_info": {
   "name": "python"
  }
 },
 "nbformat": 4,
 "nbformat_minor": 2
}
