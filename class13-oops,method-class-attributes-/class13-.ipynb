{
 "cells": [
  {
   "cell_type": "markdown",
   "metadata": {},
   "source": [
    "## OOP (object oriented programming)\n",
    "* class\n",
    "  * method\n",
    "    * first argument must be additional variable\n",
    "    (self, this, or anything else)\n",
    "  * attributes\n",
    "  * class variables\n",
    "  * constructor\n",
    "   * def ''' __init__''' (self, arg1, arg2)\n",
    "   (in class called method out side def called function)\n",
    "# syntax of class\n",
    "'''\n",
    "class Class_Name(): will always capital 1st letter\n",
    "pass"
   ]
  },
  {
   "cell_type": "code",
   "execution_count": 1,
   "metadata": {},
   "outputs": [],
   "source": [
    "def obj1_speak(): pass\n",
    "def obj2_speak(): pass\n",
    "\n",
    "obj1_name: str =\"khan\"\n",
    "obj2_name: str =\"Sarwar\"\n"
   ]
  },
  {
   "cell_type": "code",
   "execution_count": 2,
   "metadata": {},
   "outputs": [],
   "source": [
    "class Teacher():\n",
    "    def __init__(self, teacher_id: int, teacher_name: str) -> None: # method/constructor\n",
    "        self.name: str= teacher_name\n",
    "        self.teacher_id= teacher_id\n",
    "        self.organisation_name = \"PIAIC\"\n",
    "\n",
    "    def speak (self, words:str):\n",
    "        print (f\"{self.name} is speaking {words}\")\n",
    "    def teaching (self, subject: str) -> None:\n",
    "        print (f\"{self.name} is teaching {subject} ...!\")"
   ]
  },
  {
   "cell_type": "code",
   "execution_count": null,
   "metadata": {},
   "outputs": [],
   "source": []
  },
  {
   "cell_type": "code",
   "execution_count": 3,
   "metadata": {},
   "outputs": [],
   "source": [
    "obj1 : Teacher = Teacher (1, \"khan\")\n",
    "obj2 : Teacher = Teacher (2, \"Muhammed\")\n"
   ]
  },
  {
   "cell_type": "code",
   "execution_count": 4,
   "metadata": {},
   "outputs": [
    {
     "name": "stdout",
     "output_type": "stream",
     "text": [
      "khan\n",
      "Muhammed\n",
      "1\n",
      "2\n",
      "PIAIC\n"
     ]
    }
   ],
   "source": [
    "print(obj1.name)\n",
    "print(obj2.name)\n",
    "print(obj1.teacher_id)\n",
    "print(obj2.teacher_id)\n",
    "print(obj1.organisation_name)"
   ]
  },
  {
   "cell_type": "code",
   "execution_count": 11,
   "metadata": {},
   "outputs": [
    {
     "ename": "TypeError",
     "evalue": "'str' object is not callable",
     "output_type": "error",
     "traceback": [
      "\u001b[1;31m---------------------------------------------------------------------------\u001b[0m",
      "\u001b[1;31mTypeError\u001b[0m                                 Traceback (most recent call last)",
      "Cell \u001b[1;32mIn[11], line 1\u001b[0m\n\u001b[1;32m----> 1\u001b[0m \u001b[43mobj2\u001b[49m\u001b[38;5;241;43m.\u001b[39;49m\u001b[43morganisation_name\u001b[49m\u001b[43m(\u001b[49m\u001b[43m)\u001b[49m\n",
      "\u001b[1;31mTypeError\u001b[0m: 'str' object is not callable"
     ]
    }
   ],
   "source": [
    "obj2.organisation_name()"
   ]
  },
  {
   "cell_type": "code",
   "execution_count": null,
   "metadata": {},
   "outputs": [],
   "source": [
    "class Teacher():\n",
    "    def __init__(self, teacher_id: int, teacher_name: str) -> None: # method/constructor\n",
    "        self.name: str= teacher_name\n",
    "        self.teacher_id= teacher_id\n",
    "        self.organisation_name = \"PIAIC\"\n",
    "\n",
    "    def speak (self, words:str):\n",
    "        print (f\"{self.name} is speaking {words}\")\n",
    "    def teaching (self, subject: str) -> None:\n",
    "        print (f\"{self.name} is teaching {subject} ...!\")"
   ]
  },
  {
   "cell_type": "markdown",
   "metadata": {},
   "source": [
    "# Class Variable\n",
    " * Class variable\n",
    " * this value use for all objects\n",
    "  * 'ClassName.class_verriable'\n",
    "  * 'object_name.class_veriable\n",
    "  '''\n",
    "  class ClassName():\n",
    "    class_veriable1 : type = value\n",
    "    '''\n",
    "    \n"
   ]
  },
  {
   "cell_type": "code",
   "execution_count": 13,
   "metadata": {},
   "outputs": [],
   "source": [
    "class Teacher():\n",
    "    counter : int = 0 # class variable 1\n",
    "    help_line_number : str = \"0324\" #class variable 2\n",
    "    \n",
    "    def __init__(self, teacher_id: int, teacher_name: str) -> None: # method/constructor\n",
    "        self.name: str= teacher_name\n",
    "        self.teacher_id= teacher_id\n",
    "        self.organisation_name = \"PIAIC\"\n",
    "\n",
    "    def speak (self, words:str):\n",
    "        print (f\"{self.name} is speaking {words}\")\n",
    "    def teaching (self, subject: str) -> None:\n",
    "        print (f\"{self.name} is teaching {subject} ...!\")\n",
    "\n",
    "obj1 : Teacher = Teacher (1, \"khan\")\n",
    "obj2 : Teacher = Teacher (2, \"Muhammed\")\n"
   ]
  },
  {
   "cell_type": "code",
   "execution_count": 19,
   "metadata": {},
   "outputs": [
    {
     "name": "stdout",
     "output_type": "stream",
     "text": [
      "0\n",
      "0\n",
      "0\n",
      "0324\n",
      "0324\n",
      "0324\n"
     ]
    }
   ],
   "source": [
    "print(obj1.counter)\n",
    "print(obj2.counter)\n",
    "print (Teacher.counter)\n",
    "\n",
    "print(obj1.help_line_number)\n",
    "print(obj2.help_line_number)\n",
    "print (Teacher.help_line_number)"
   ]
  },
  {
   "cell_type": "code",
   "execution_count": null,
   "metadata": {},
   "outputs": [],
   "source": [
    "class Teacher():\n",
    "    counter : int = 0 # class variable 1\n",
    "    help_line_number : str = \"0324\" #class variable 2\n",
    "    \n",
    "    def __init__(self, teacher_id: int, teacher_name: str) -> None: # method/constructor\n",
    "        self.name: str= teacher_name\n",
    "        self.teacher_id= teacher_id\n",
    "        self.organisation_name = \"PIAIC\"\n",
    "\n",
    "    def speak (self, words:str):\n",
    "        print (f\"{self.name} is speaking {words}\")\n",
    "    def teaching (self, subject: str) -> None:\n",
    "        print (f\"{self.name} is teaching {subject} ...!\")\n",
    "\n",
    "    def details(self) -> None:\n",
    "        information : str = f\"\"\"\n",
    "Teacher name is {self.name}\n",
    "our help line number is {Teacher.help_line_number}\n",
    "\n",
    "\"\"\"\n",
    "\n",
    "obj1 : Teacher = Teacher (1, \"khan\")\n",
    "obj2 : Teacher = Teacher (2, \"Muhammed\")\n"
   ]
  }
 ],
 "metadata": {
  "kernelspec": {
   "display_name": "Python 3",
   "language": "python",
   "name": "python3"
  },
  "language_info": {
   "codemirror_mode": {
    "name": "ipython",
    "version": 3
   },
   "file_extension": ".py",
   "mimetype": "text/x-python",
   "name": "python",
   "nbconvert_exporter": "python",
   "pygments_lexer": "ipython3",
   "version": "3.12.2"
  }
 },
 "nbformat": 4,
 "nbformat_minor": 2
}
