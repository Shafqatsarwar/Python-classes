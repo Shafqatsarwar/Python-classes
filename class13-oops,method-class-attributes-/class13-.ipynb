{
 "cells": [
  {
   "cell_type": "markdown",
   "metadata": {},
   "source": [
    "## OOP (object oriented programming)\n",
    "* class\n",
    "  * method\n",
    "    * first argument must be additional variable\n",
    "    (self, this, or anything else)\n",
    "  * attributes\n",
    "  * class variables\n",
    "  * constructor\n",
    "   * def ''' __init__''' (self, arg1, arg2)\n",
    "   (in class called method out side def called function)\n",
    "# syntax of class\n",
    "'''\n",
    "class Class_Name(): will always capital 1st letter\n",
    "pass"
   ]
  },
  {
   "cell_type": "code",
   "execution_count": 1,
   "metadata": {},
   "outputs": [],
   "source": [
    "def obj1_speak(): pass\n",
    "def obj2_speak(): pass\n",
    "\n",
    "obj1_name: str =\"khan\"\n",
    "obj2_name: str =\"Sarwar\"\n"
   ]
  },
  {
   "cell_type": "code",
   "execution_count": 10,
   "metadata": {},
   "outputs": [],
   "source": [
    "class Teacher():\n",
    "    def __init__(self, teacher_id: int, teacher_name: str) -> None: # method/constructor\n",
    "        self.name: str= teacher_name\n",
    "        self.teacher_id= teacher_id\n",
    "        self.organisation_name = \"PIAIC\"\n",
    "\n",
    "    def speak (self, words:str):\n",
    "        print (f\"{self.name} is speaking {words}\")\n",
    "    def teaching (self, subject: str) -> None:\n",
    "        print (f\"{self.name} is teaching {subject} ...!\")"
   ]
  },
  {
   "cell_type": "code",
   "execution_count": 11,
   "metadata": {},
   "outputs": [],
   "source": [
    "obj1 : Teacher = Teacher (1, \"khan\")\n",
    "obj2 : Teacher = Teacher (2, \"Muhammed\")\n"
   ]
  },
  {
   "cell_type": "code",
   "execution_count": 7,
   "metadata": {},
   "outputs": [
    {
     "name": "stdout",
     "output_type": "stream",
     "text": [
      "khan\n",
      "Muhammed\n",
      "1\n",
      "2\n",
      "PIAIC\n"
     ]
    }
   ],
   "source": [
    "print(obj1.name)\n",
    "print(obj2.name)\n",
    "print(obj1.teacher_id)\n",
    "print(obj2.teacher_id)\n",
    "print(obj1.organisation_name)"
   ]
  },
  {
   "cell_type": "code",
   "execution_count": 12,
   "metadata": {},
   "outputs": [
    {
     "name": "stdout",
     "output_type": "stream",
     "text": [
      "khan is teaching Generative AI ...!\n"
     ]
    }
   ],
   "source": [
    "obj1.teaching (\"Generative AI\")\n"
   ]
  },
  {
   "cell_type": "code",
   "execution_count": 13,
   "metadata": {},
   "outputs": [
    {
     "name": "stdout",
     "output_type": "stream",
     "text": [
      "Muhammed is teaching Python ...!\n"
     ]
    }
   ],
   "source": [
    "obj2.teaching (\"Python\")"
   ]
  },
  {
   "cell_type": "code",
   "execution_count": null,
   "metadata": {},
   "outputs": [],
   "source": [
    "40 minutes"
   ]
  }
 ],
 "metadata": {
  "kernelspec": {
   "display_name": "Python 3",
   "language": "python",
   "name": "python3"
  },
  "language_info": {
   "codemirror_mode": {
    "name": "ipython",
    "version": 3
   },
   "file_extension": ".py",
   "mimetype": "text/x-python",
   "name": "python",
   "nbconvert_exporter": "python",
   "pygments_lexer": "ipython3",
   "version": "3.12.2"
  }
 },
 "nbformat": 4,
 "nbformat_minor": 2
}
