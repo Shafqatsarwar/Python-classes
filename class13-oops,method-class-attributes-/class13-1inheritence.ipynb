{
 "cells": [
  {
   "cell_type": "markdown",
   "metadata": {},
   "source": [
    "1.Encapsulation:\n",
    "The bundling of data and methods that work on the data into a single unit, hiding the internal state and requiring all interactions to occur through well-defined interfaces.\n",
    "\n",
    "2.Abstraction:\n",
    "The concept of representing essential features without including the background details or explanations.\n",
    "\n",
    "3.Inheritance:\n",
    "The mechanism by which a class can inherit properties and behavior from another class, enabling code reusability and creating a hierarchy of classes.\n",
    "\n",
    "4.Polymorphism:\n",
    "The ability for different classes to be treated as instances of a common superclass, allowing for more flexible and modular code design with multiple implementations of methods."
   ]
  },
  {
   "cell_type": "markdown",
   "metadata": {},
   "source": [
    "# 1. Inheritance:\n"
   ]
  },
  {
   "cell_type": "code",
   "execution_count": 2,
   "metadata": {},
   "outputs": [
    {
     "name": "stdout",
     "output_type": "stream",
     "text": [
      "Brown\n",
      "black\n",
      "Parent method speak: Pakistan Zinda Abad\n",
      "you are looking TV...!\n"
     ]
    }
   ],
   "source": [
    "class Parents():\n",
    "    def __init__ (self) -> None:\n",
    "        self.eye_color : str = \"Brown\"\n",
    "        self.hair_color : str = \"black\"\n",
    "\n",
    "    def speak (self, words : str) -> None:\n",
    "        print (f\"Parent method speak: {words}\")\n",
    "\n",
    "    def watching (self, object_name : str) -> None:\n",
    "        print (f\"you are looking {object_name}...!\")\n",
    "\n",
    "class Child (Parents):\n",
    "    pass\n",
    "\n",
    "obj1 : Parents = Parents ()\n",
    "print (obj1.eye_color)\n",
    "print (obj1.hair_color)\n",
    "obj1.speak (\"Pakistan Zinda Abad\")\n",
    "obj1.watching (\"TV\")\n",
    "  "
   ]
  },
  {
   "cell_type": "code",
   "execution_count": 4,
   "metadata": {},
   "outputs": [
    {
     "name": "stdout",
     "output_type": "stream",
     "text": [
      "Brown\n",
      "black\n",
      "Parent method speak: Pakistan Zinda Abad\n",
      "you are looking TV...!\n",
      "========child object =======\n",
      "you are looking Cenima...!\n",
      "None\n",
      "Parent method speak: Hellow Word\n",
      "None\n"
     ]
    },
    {
     "data": {
      "text/plain": [
       "'black'"
      ]
     },
     "execution_count": 4,
     "metadata": {},
     "output_type": "execute_result"
    }
   ],
   "source": [
    "class Parents():\n",
    "    def __init__ (self) -> None:\n",
    "        self.eye_color : str = \"Brown\"\n",
    "        self.hair_color : str = \"black\"\n",
    "\n",
    "    def speak (self, words : str) -> None:\n",
    "        print (f\"Parent method speak: {words}\")\n",
    "\n",
    "    def watching (self, object_name : str) -> None:\n",
    "        print (f\"you are looking {object_name}...!\")\n",
    "\n",
    "class Child (Parents):\n",
    "    pass\n",
    "\n",
    "obj1 : Parents = Parents ()\n",
    "print (obj1.eye_color)\n",
    "print (obj1.hair_color)\n",
    "obj1.speak (\"Pakistan Zinda Abad\")\n",
    "obj1.watching (\"TV\")\n",
    "\n",
    "print (\"========child object =======\")\n",
    "\n",
    "obj2 : Child = Child()\n",
    "print (obj2.watching (\"Cenima\"))\n",
    "print (obj2.speak (\"Hellow Word\"))\n",
    "obj2.eye_color\n",
    "obj2.hair_color"
   ]
  },
  {
   "cell_type": "code",
   "execution_count": 7,
   "metadata": {},
   "outputs": [
    {
     "name": "stdout",
     "output_type": "stream",
     "text": [
      "Brown\n",
      "black\n",
      "Parent method speak: Pakistan Zinda Abad\n",
      "you are looking TV...!\n",
      "========child object =======\n",
      "Brown\n",
      "black\n",
      "you are looking Cenima...!\n",
      "Parent method speak: Hellow Word\n",
      "child method for teaching: Generative Ai\n"
     ]
    }
   ],
   "source": [
    "class Parents():\n",
    "    def __init__ (self) -> None:\n",
    "        self.eye_color : str = \"Brown\"\n",
    "        self.hair_color : str = \"black\"\n",
    "\n",
    "    def speak (self, words : str) -> None:\n",
    "        print (f\"Parent method speak: {words}\")\n",
    "\n",
    "    def watching (self, object_name : str) -> None:\n",
    "        print (f\"you are looking {object_name}...!\")\n",
    "\n",
    "class Child (Parents):\n",
    "    def teaching (self, subject: str= None) -> None:\n",
    "        print (f\"child method for teaching: {subject}\")\n",
    "\n",
    "obj1 : Parents = Parents ()\n",
    "print (obj1.eye_color)\n",
    "print (obj1.hair_color)\n",
    "obj1.speak (\"Pakistan Zinda Abad\")\n",
    "obj1.watching (\"TV\")\n",
    "# obj1.teaching\n",
    "print (\"========child object =======\")\n",
    "\n",
    "obj2 : Child = Child()\n",
    "print (obj2.eye_color)\n",
    "print (obj2.hair_color)\n",
    "obj2.watching (\"Cenima\")\n",
    "obj2.speak (\"Hellow Word\")\n",
    "\n",
    "obj2.teaching (\"Generative Ai\")"
   ]
  }
 ],
 "metadata": {
  "kernelspec": {
   "display_name": "Python 3",
   "language": "python",
   "name": "python3"
  },
  "language_info": {
   "codemirror_mode": {
    "name": "ipython",
    "version": 3
   },
   "file_extension": ".py",
   "mimetype": "text/x-python",
   "name": "python",
   "nbconvert_exporter": "python",
   "pygments_lexer": "ipython3",
   "version": "3.12.2"
  }
 },
 "nbformat": 4,
 "nbformat_minor": 2
}
