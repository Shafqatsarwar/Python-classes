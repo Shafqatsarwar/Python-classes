{
 "cells": [
  {
   "cell_type": "markdown",
   "metadata": {},
   "source": [
    "# List method"
   ]
  },
  {
   "cell_type": "markdown",
   "metadata": {},
   "source": []
  },
  {
   "cell_type": "code",
   "execution_count": 315,
   "metadata": {},
   "outputs": [],
   "source": [
    "\n",
    "name1 : str =\"Sarwar\"\n",
    "name2 : str =\"Shafqat\"\n",
    "name3 : str = \"Khan\""
   ]
  },
  {
   "cell_type": "code",
   "execution_count": 316,
   "metadata": {},
   "outputs": [
    {
     "name": "stdout",
     "output_type": "stream",
     "text": [
      "Sarwar\n",
      "Shafqat\n",
      "Khan\n"
     ]
    }
   ],
   "source": [
    "#  ->     0        1          2\n",
    "names=[\"Sarwar\", \"Shafqat\", \"Khan\"]\n",
    "# <-    -3         -2         -1\n",
    "print (names[0])\n",
    "print (names[-2])\n",
    "print (names[-1])"
   ]
  },
  {
   "cell_type": "code",
   "execution_count": 317,
   "metadata": {},
   "outputs": [
    {
     "name": "stdout",
     "output_type": "stream",
     "text": [
      " Student of PIAIC Shafqat\n"
     ]
    }
   ],
   "source": [
    "from typing import Any, List\n",
    "#  ->                   0        1          2\n",
    "names : List[Any] = [\"Sarwar\", \"Shafqat\", \"Khan\"]\n",
    "# <-                   -3         -2         -1\n",
    "print (f' Student of PIAIC {names[-2]}')\n",
    "\n",
    "# from typing import Any, List\n",
    "\n",
    "# names: List[Any] = [\"Sarwar\", \"Shafqat\", \"Khan\"]\n",
    "# print(f'Student of PIAIC {names[-2]}')\n"
   ]
  },
  {
   "cell_type": "code",
   "execution_count": 318,
   "metadata": {},
   "outputs": [
    {
     "name": "stdout",
     "output_type": "stream",
     "text": [
      "<class 'list'>\n",
      "Shafqat\n",
      "KHAN\n"
     ]
    }
   ],
   "source": [
    "from typing import Any\n",
    "#  ->              0        1          2\n",
    "names : List[Any] = [\"Sarwar\", \"Shafqat\", \"Khan\"]\n",
    "# <-              -3         -2         -1\n",
    "print (type(names))\n",
    "print (names[-2])\n",
    "print (names[-1].upper())"
   ]
  },
  {
   "cell_type": "markdown",
   "metadata": {},
   "source": [
    "Sclicing\n",
    "start : int = include variab 'names[:start :end :step]\n",
    "end : int = n-1\n",
    "step : int = sequence"
   ]
  },
  {
   "cell_type": "code",
   "execution_count": 319,
   "metadata": {},
   "outputs": [],
   "source": [
    "# characters : List[str] = list (\"ABCDEFGHIJKLMNOPQRSTUVWXYZ\")\n",
    "# #print (characters)"
   ]
  },
  {
   "cell_type": "code",
   "execution_count": 320,
   "metadata": {},
   "outputs": [
    {
     "name": "stdout",
     "output_type": "stream",
     "text": [
      "['A', 'B']\n",
      "['A', 'B']\n",
      "[]\n",
      "['A', 'B']\n"
     ]
    }
   ],
   "source": [
    "#  ->   0    1    2    3\n",
    "list =['A', 'B', 'C', 'D', 'E', 'F', 'G', 'H', 'I', 'J', 'K', 'L', 'M', 'N', 'O', 'P', 'Q', 'R', 'S', 'T', 'U', 'V', 'W', 'X', 'Y', 'Z']\n",
    "# <-   -26    -25 \n",
    "\n",
    "print (characters [0:2]) # type: ignore # 0= include : index 2-1=1\n",
    "print (characters [:2]) # type: ignore # not pass any number =all\n",
    "print (characters [-26:-24]) # type: ignore #0 = include : index -24-1 = -25\n",
    "\n",
    "print (characters [0:2:1]) # type: ignore # 0= include : index 2-1=1"
   ]
  },
  {
   "cell_type": "code",
   "execution_count": 321,
   "metadata": {},
   "outputs": [
    {
     "name": "stdout",
     "output_type": "stream",
     "text": [
      "['A', 'C', 'E', 'G']\n",
      "['H', 'G', 'F', 'E', 'D', 'C', 'B', 'A']\n",
      "[]\n",
      "['G', 'F', 'E']\n",
      "['D', 'E', 'F', 'G']\n"
     ]
    }
   ],
   "source": [
    "#\n",
    "characters = ['A', 'B', 'C', 'D', 'E', 'F', 'G','H']\n",
    "#   <-          -8  -7   -6   -5   -4   -3   -2   -1\n",
    "#step -> positive\n",
    "#step <- negative\n",
    "print (characters[::2])\n",
    "print (characters[::-1])\n",
    "print (characters[-2:-5])\n",
    "print (characters[-2:-5:-1])\n",
    "print (characters[-5:-1])"
   ]
  },
  {
   "cell_type": "code",
   "execution_count": 322,
   "metadata": {},
   "outputs": [
    {
     "name": "stdout",
     "output_type": "stream",
     "text": [
      "<class 'list'>\n",
      "['Sarwar', 'Shafqat', 'Khan']\n"
     ]
    }
   ],
   "source": [
    "from typing import Any\n",
    "#       ->             0        1          2      3\n",
    "names : List [Any] = [\"Sarwar\", \"Shafqat\", \"Khan\", 35]\n",
    "#      <-               -4       -3        -2     -1\n",
    "print (type(names))\n",
    "del names[3]\n",
    "print (names)"
   ]
  },
  {
   "cell_type": "code",
   "execution_count": 323,
   "metadata": {},
   "outputs": [
    {
     "name": "stdout",
     "output_type": "stream",
     "text": [
      "pakistan\n"
     ]
    },
    {
     "data": {
      "text/plain": [
       "None"
      ]
     },
     "metadata": {},
     "output_type": "display_data"
    }
   ],
   "source": [
    "a: str= print('pakistan')\n",
    "display(a)"
   ]
  },
  {
   "cell_type": "code",
   "execution_count": 324,
   "metadata": {},
   "outputs": [
    {
     "data": {
      "text/plain": [
       "2020011263232"
      ]
     },
     "metadata": {},
     "output_type": "display_data"
    }
   ],
   "source": [
    "a: str= id(names)\n",
    "display(a)"
   ]
  },
  {
   "cell_type": "code",
   "execution_count": 325,
   "metadata": {},
   "outputs": [
    {
     "data": {
      "text/plain": [
       "['__add__',\n",
       " '__class__',\n",
       " '__class_getitem__',\n",
       " '__contains__',\n",
       " '__delattr__',\n",
       " '__delitem__',\n",
       " '__dir__',\n",
       " '__doc__',\n",
       " '__eq__',\n",
       " '__format__',\n",
       " '__ge__',\n",
       " '__getattribute__',\n",
       " '__getitem__',\n",
       " '__getstate__',\n",
       " '__gt__',\n",
       " '__hash__',\n",
       " '__iadd__',\n",
       " '__imul__',\n",
       " '__init__',\n",
       " '__init_subclass__',\n",
       " '__iter__',\n",
       " '__le__',\n",
       " '__len__',\n",
       " '__lt__',\n",
       " '__mul__',\n",
       " '__ne__',\n",
       " '__new__',\n",
       " '__reduce__',\n",
       " '__reduce_ex__',\n",
       " '__repr__',\n",
       " '__reversed__',\n",
       " '__rmul__',\n",
       " '__setattr__',\n",
       " '__setitem__',\n",
       " '__sizeof__',\n",
       " '__str__',\n",
       " '__subclasshook__',\n",
       " 'append',\n",
       " 'clear',\n",
       " 'copy',\n",
       " 'count',\n",
       " 'extend',\n",
       " 'index',\n",
       " 'insert',\n",
       " 'pop',\n",
       " 'remove',\n",
       " 'reverse',\n",
       " 'sort']"
      ]
     },
     "execution_count": 325,
     "metadata": {},
     "output_type": "execute_result"
    }
   ],
   "source": [
    "[i for i in dir (list) if \"-\" not in i]"
   ]
  },
  {
   "cell_type": "code",
   "execution_count": 326,
   "metadata": {},
   "outputs": [
    {
     "name": "stdout",
     "output_type": "stream",
     "text": [
      "Help on built-in function print in module builtins:\n",
      "\n",
      "print(*args, sep=' ', end='\\n', file=None, flush=False)\n",
      "    Prints the values to a stream, or to sys.stdout by default.\n",
      "\n",
      "    sep\n",
      "      string inserted between values, default a space.\n",
      "    end\n",
      "      string appended after the last value, default a newline.\n",
      "    file\n",
      "      a file-like object (stream); defaults to the current sys.stdout.\n",
      "    flush\n",
      "      whether to forcibly flush the stream.\n",
      "\n"
     ]
    }
   ],
   "source": [
    "help(print)"
   ]
  },
  {
   "cell_type": "code",
   "execution_count": 327,
   "metadata": {},
   "outputs": [
    {
     "name": "stdout",
     "output_type": "stream",
     "text": [
      "['Sarwar', 'Shafqat', 'Khan', 35]\n",
      "35\n"
     ]
    }
   ],
   "source": [
    "from typing import Any\n",
    "#       ->             0        1          2      3\n",
    "names : List [Any] = [\"Sarwar\", \"Shafqat\", \"Khan\", 35]\n",
    "#      <-               -4       -3        -2     -1\n",
    "print(names)\n",
    "a : str = names.pop()\n",
    "print(a)"
   ]
  },
  {
   "cell_type": "code",
   "execution_count": 328,
   "metadata": {},
   "outputs": [
    {
     "name": "stdout",
     "output_type": "stream",
     "text": [
      "pakistan\n",
      "None\n"
     ]
    }
   ],
   "source": [
    "print(print('pakistan'))"
   ]
  },
  {
   "cell_type": "markdown",
   "metadata": {},
   "source": [
    "# Pop method\n",
    "append method add element at last"
   ]
  },
  {
   "cell_type": "code",
   "execution_count": 329,
   "metadata": {},
   "outputs": [
    {
     "name": "stdout",
     "output_type": "stream",
     "text": [
      "['Sarwar', 'Shafqat', 'Khan', 35]\n",
      "Sarwar\n",
      "['Shafqat', 'Khan', 35]\n"
     ]
    }
   ],
   "source": [
    "from typing import Any\n",
    "#       ->             0        1          2      3\n",
    "names : List [Any] = [\"Sarwar\", \"Shafqat\", \"Khan\", 35]\n",
    "#      <-               -4       -3        -2     -1\n",
    "print(names)\n",
    "a : str = names.pop(0)\n",
    "print(a)\n",
    "\n",
    "print(names)\n"
   ]
  },
  {
   "cell_type": "code",
   "execution_count": 330,
   "metadata": {},
   "outputs": [
    {
     "name": "stdout",
     "output_type": "stream",
     "text": [
      "['sarwar', 'khan', '35', 'shafqat']\n"
     ]
    }
   ],
   "source": [
    "names: List[str] = []\n",
    "names.append('sarwar')\n",
    "names.append('khan')\n",
    "names.append('35')\n",
    "names.append('shafqat')\n",
    "\n",
    "\n",
    "\n",
    "print(names)"
   ]
  },
  {
   "cell_type": "code",
   "execution_count": 331,
   "metadata": {},
   "outputs": [
    {
     "name": "stdout",
     "output_type": "stream",
     "text": [
      "[1, 2, 3]\n"
     ]
    }
   ],
   "source": [
    "a:List[str]=[1,2,3]\n",
    "#del a\n",
    "print (a)"
   ]
  },
  {
   "cell_type": "code",
   "execution_count": 332,
   "metadata": {},
   "outputs": [
    {
     "name": "stdout",
     "output_type": "stream",
     "text": [
      "[1, 2, 3]\n"
     ]
    }
   ],
   "source": [
    "a:List[str]=[1,2,3]\n",
    "a.clear\n",
    "print (a)"
   ]
  },
  {
   "cell_type": "code",
   "execution_count": 333,
   "metadata": {},
   "outputs": [
    {
     "name": "stdout",
     "output_type": "stream",
     "text": [
      "['a', 'b', 'c', 'd', 'e', 1]\n",
      "['a', 'b', 'c', 'khan', 'd', 'e', 1]\n"
     ]
    }
   ],
   "source": [
    "# ->                  0    1    2    3    4   5\n",
    "names : List[str] = ['a', 'b', 'c', 'd', 'e', 1]\n",
    "print(names)\n",
    "names.insert(3,'khan')\n",
    "print(names)"
   ]
  },
  {
   "cell_type": "code",
   "execution_count": 334,
   "metadata": {},
   "outputs": [
    {
     "name": "stdout",
     "output_type": "stream",
     "text": [
      "[1, 2, 3]\n",
      "[1, 2, 3]\n",
      "['pakistan', 2, 3]\n",
      "['pakistan', 2, 3]\n"
     ]
    }
   ],
   "source": [
    "a:List[str]=[1,2,3]\n",
    "b=a\n",
    "print (a)\n",
    "print (b)\n",
    "\n",
    "b[0]='pakistan'\n",
    "\n",
    "print (a)\n",
    "print (b)"
   ]
  },
  {
   "cell_type": "code",
   "execution_count": 335,
   "metadata": {},
   "outputs": [
    {
     "name": "stdout",
     "output_type": "stream",
     "text": [
      "a [1, 2, 3]\n",
      "b [1, 2, 3]\n",
      "a [1, 2, 3]\n",
      "b ['pakistan', 2, 3]\n"
     ]
    }
   ],
   "source": [
    "a:List[str]=[1,2,3]\n",
    "b=a.copy()\n",
    "print ('a',a)\n",
    "print ('b',b)\n",
    "\n",
    "b[0]='pakistan'\n",
    "\n",
    "print ('a',a)\n",
    "print ('b',b)"
   ]
  },
  {
   "cell_type": "code",
   "execution_count": 336,
   "metadata": {},
   "outputs": [
    {
     "name": "stdout",
     "output_type": "stream",
     "text": [
      "4\n"
     ]
    }
   ],
   "source": [
    "names : List[str] = ['a','a','b','b','b','c','c','c','c']\n",
    "print (names.count('c'))"
   ]
  },
  {
   "cell_type": "code",
   "execution_count": 337,
   "metadata": {},
   "outputs": [
    {
     "data": {
      "text/plain": [
       "['a', 'b', 'c', ['shafqat', 'khan', 'sarwar']]"
      ]
     },
     "execution_count": 337,
     "metadata": {},
     "output_type": "execute_result"
    }
   ],
   "source": [
    "names : List[str] = ['a','b','c']\n",
    "new_names : List[str] = ['shafqat', 'khan', 'sarwar']\n",
    "names.append(new_names)\n",
    "names\n"
   ]
  },
  {
   "cell_type": "code",
   "execution_count": 338,
   "metadata": {},
   "outputs": [
    {
     "data": {
      "text/plain": [
       "['a', 'b', 'c', 'shafqat', 'khan', 'sarwar']"
      ]
     },
     "execution_count": 338,
     "metadata": {},
     "output_type": "execute_result"
    }
   ],
   "source": [
    "names : List[str] = ['a','b','c']\n",
    "new_names : List[str] = ['shafqat', 'khan', 'sarwar']\n",
    "names.extend(new_names)\n",
    "names"
   ]
  },
  {
   "cell_type": "code",
   "execution_count": 339,
   "metadata": {},
   "outputs": [
    {
     "data": {
      "text/plain": [
       "['a', 'c']"
      ]
     },
     "execution_count": 339,
     "metadata": {},
     "output_type": "execute_result"
    }
   ],
   "source": [
    "names : List[str] = ['a','b','c']\n",
    "names.remove('b')\n",
    "names"
   ]
  },
  {
   "cell_type": "code",
   "execution_count": 340,
   "metadata": {},
   "outputs": [
    {
     "data": {
      "text/plain": [
       "2"
      ]
     },
     "execution_count": 340,
     "metadata": {},
     "output_type": "execute_result"
    }
   ],
   "source": [
    "names : List[str] = ['a','b','c','b']\n",
    "names.index('c')"
   ]
  },
  {
   "cell_type": "code",
   "execution_count": 341,
   "metadata": {},
   "outputs": [
    {
     "data": {
      "text/plain": [
       "3"
      ]
     },
     "execution_count": 341,
     "metadata": {},
     "output_type": "execute_result"
    }
   ],
   "source": [
    "names : List[str] = ['a','b','c','b']\n",
    "names.index('b',2)"
   ]
  },
  {
   "cell_type": "code",
   "execution_count": 342,
   "metadata": {},
   "outputs": [
    {
     "name": "stdout",
     "output_type": "stream",
     "text": [
      "['a', 'b', 'c', 'b']\n",
      "['b', 'c', 'b', 'a']\n"
     ]
    }
   ],
   "source": [
    "names : List[str] = ['a','b','c','b']\n",
    "print (names)\n",
    "names.reverse()\n",
    "print (names)\n"
   ]
  },
  {
   "cell_type": "code",
   "execution_count": 343,
   "metadata": {},
   "outputs": [
    {
     "name": "stdout",
     "output_type": "stream",
     "text": [
      "['a', 'b', 'c', 'b']\n",
      "['a', 'b', 'b', 'c']\n"
     ]
    }
   ],
   "source": [
    "names : List[str] = ['a','b','c','b']\n",
    "print (names)\n",
    "names.sort()\n",
    "print (names)"
   ]
  },
  {
   "cell_type": "code",
   "execution_count": 344,
   "metadata": {},
   "outputs": [
    {
     "name": "stdout",
     "output_type": "stream",
     "text": [
      "['a', 'b', 'c', 'b']\n",
      "['c', 'b', 'b', 'a']\n"
     ]
    }
   ],
   "source": [
    "names : List[str] = ['a','b','c','b']\n",
    "print (names)\n",
    "names.sort(reverse=True)\n",
    "print (names)"
   ]
  },
  {
   "cell_type": "code",
   "execution_count": 345,
   "metadata": {},
   "outputs": [
    {
     "data": {
      "text/plain": [
       "4"
      ]
     },
     "execution_count": 345,
     "metadata": {},
     "output_type": "execute_result"
    }
   ],
   "source": [
    "names : List[str] = ['a','b','c','b']\n",
    "len(names)"
   ]
  },
  {
   "cell_type": "code",
   "execution_count": 346,
   "metadata": {},
   "outputs": [
    {
     "data": {
      "text/plain": [
       "['a']"
      ]
     },
     "execution_count": 346,
     "metadata": {},
     "output_type": "execute_result"
    }
   ],
   "source": [
    "names : List[str] = ['a','b','c','b']\n",
    "\n",
    "del names[1:4]\n",
    "names"
   ]
  }
 ],
 "metadata": {
  "kernelspec": {
   "display_name": "python12",
   "language": "python",
   "name": "python3"
  },
  "language_info": {
   "codemirror_mode": {
    "name": "ipython",
    "version": 3
   },
   "file_extension": ".py",
   "mimetype": "text/x-python",
   "name": "python",
   "nbconvert_exporter": "python",
   "pygments_lexer": "ipython3",
   "version": "3.12.3"
  }
 },
 "nbformat": 4,
 "nbformat_minor": 2
}
