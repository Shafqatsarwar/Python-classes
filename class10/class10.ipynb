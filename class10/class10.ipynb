{
 "cells": [
  {
   "cell_type": "markdown",
   "metadata": {},
   "source": [
    "# Pyhton Functions\n",
    "* pre defined functions\n",
    " * provided by in language\n",
    "* user defined functions\n",
    " * custom functions\n",
    "* Return and None-returne function/ similar properties on both type\n",
    " * Return\n",
    "  * we can assign this function output in any variable\n",
    "* None-Return function\n",
    " * only run, we cant assign value to any variable\n",
    "## components\n",
    "* functin declaration\n",
    "* function body\n",
    "* function calling\n",
    "\n",
    "### Syntax function\n",
    "'''\n",
    "def function_name (param1:type, param2:type, ...) -> Return type:\n",
    "function_body\n",
    "\n",
    "function_name (arg1,arg2) '''"
   ]
  },
  {
   "cell_type": "markdown",
   "metadata": {},
   "source": [
    "# predfine functions\n",
    "print \n",
    "len\n",
    "id\n",
    "dir\n",
    "str\n",
    "chr\n",
    "order\n",
    "execute\n"
   ]
  },
  {
   "cell_type": "code",
   "execution_count": 10,
   "metadata": {},
   "outputs": [
    {
     "name": "stdout",
     "output_type": "stream",
     "text": [
      "Pakistan\n"
     ]
    },
    {
     "data": {
      "text/plain": [
       "None"
      ]
     },
     "metadata": {},
     "output_type": "display_data"
    }
   ],
   "source": [
    "a : str = print(\"Pakistan\")\n",
    "display(a) # None that is none return function Print"
   ]
  },
  {
   "cell_type": "code",
   "execution_count": 11,
   "metadata": {},
   "outputs": [
    {
     "data": {
      "text/plain": [
       "8"
      ]
     },
     "metadata": {},
     "output_type": "display_data"
    }
   ],
   "source": [
    "a : int = len(\"Pakistan\")\n",
    "display(a)"
   ]
  },
  {
   "cell_type": "markdown",
   "metadata": {},
   "source": [
    "## components\n",
    "* functin declaration\n",
    "  * unique name\n",
    "* function body\n",
    "* function calling\n",
    "### Syntax function\n",
    "'''\n",
    "def function_name (param1:type, param2:type, ...) -> Return type: # function decleration\n",
    "function_body # Function body\n",
    "\n",
    "function_name (arg1,arg2) '''  # function calling\n",
    "\n",
    "#### Create simple function with out any argument ( defaukt function)"
   ]
  },
  {
   "cell_type": "code",
   "execution_count": 12,
   "metadata": {},
   "outputs": [
    {
     "name": "stdout",
     "output_type": "stream",
     "text": [
      "PIAIC Ai\n",
      "Python classes\n"
     ]
    }
   ],
   "source": [
    "def piaic () -> None: # declaration\n",
    "    # function body\n",
    "    print (\"PIAIC Ai\") # step 1\n",
    "    print (\"Python classes\") # step 2\n",
    "    # function bdy end\n",
    "piaic()"
   ]
  },
  {
   "cell_type": "code",
   "execution_count": 13,
   "metadata": {},
   "outputs": [
    {
     "data": {
      "text/plain": [
       "27"
      ]
     },
     "execution_count": 13,
     "metadata": {},
     "output_type": "execute_result"
    }
   ],
   "source": [
    "def add_two_numbers( num1:int, num2: int) ->int:\n",
    "    return num1+ num2\n",
    "add_two_numbers(7,20)"
   ]
  },
  {
   "cell_type": "markdown",
   "metadata": {},
   "source": [
    "# Required perameters functions"
   ]
  },
  {
   "cell_type": "code",
   "execution_count": 14,
   "metadata": {},
   "outputs": [
    {
     "data": {
      "text/plain": [
       "27"
      ]
     },
     "execution_count": 14,
     "metadata": {},
     "output_type": "execute_result"
    }
   ],
   "source": [
    "#                    param1    param2\n",
    "def add_two_numbers( num1:int, num2: int) ->int:\n",
    "    return num1+ num2\n",
    "add_two_numbers(7,20)"
   ]
  },
  {
   "cell_type": "markdown",
   "metadata": {},
   "source": [
    "# Function with optional perameters\n",
    "* required perameters"
   ]
  },
  {
   "cell_type": "code",
   "execution_count": 15,
   "metadata": {},
   "outputs": [
    {
     "name": "stdout",
     "output_type": "stream",
     "text": [
      "1 2\n"
     ]
    },
    {
     "data": {
      "text/plain": [
       "3"
      ]
     },
     "execution_count": 15,
     "metadata": {},
     "output_type": "execute_result"
    }
   ],
   "source": [
    "#                    param1    param2\n",
    "def add_two_numbers( num1:int, num2: int = 0) ->int:\n",
    "    print (num1, num2)\n",
    "    return num1+ num2\n",
    "add_two_numbers(1,2)"
   ]
  },
  {
   "cell_type": "markdown",
   "metadata": {},
   "source": [
    "### Syntax  Lambda Function (Anonymous function)\n",
    "* one line function\n",
    "* with out name\n",
    "* only use in single line\n",
    "'''\n",
    "lamda Param1:type ,,, ,param1:type ,,, , -> Return_type\n",
    "  function body\n",
    "  function_name (arg1, arg2)\n",
    "  '''\n",
    "\n"
   ]
  },
  {
   "cell_type": "code",
   "execution_count": 16,
   "metadata": {},
   "outputs": [
    {
     "data": {
      "text/plain": [
       "15"
      ]
     },
     "execution_count": 16,
     "metadata": {},
     "output_type": "execute_result"
    }
   ],
   "source": [
    "a =  lambda num1, num2 : num1 + num2\n",
    "a(7,8)"
   ]
  },
  {
   "cell_type": "code",
   "execution_count": 17,
   "metadata": {},
   "outputs": [
    {
     "data": {
      "text/plain": [
       "[1, 4, 9, 16, 25, 36, 49, 64, 81, 100]"
      ]
     },
     "execution_count": 17,
     "metadata": {},
     "output_type": "execute_result"
    }
   ],
   "source": [
    "data : list[int] = [1,2,3,4,5,6,7,8,9,10]\n",
    "data = list (map (lambda x:x**2, data))\n",
    "data"
   ]
  },
  {
   "cell_type": "code",
   "execution_count": 18,
   "metadata": {},
   "outputs": [
    {
     "data": {
      "text/plain": [
       "[2, 4, 6, 8, 10]"
      ]
     },
     "execution_count": 18,
     "metadata": {},
     "output_type": "execute_result"
    }
   ],
   "source": [
    "data : list[int] = [1,2,3,4,5,6,7,8,9,10]\n",
    "data = list (filter (lambda x:x%2==0, data))\n",
    "data"
   ]
  },
  {
   "cell_type": "code",
   "execution_count": 22,
   "metadata": {},
   "outputs": [
    {
     "data": {
      "text/plain": [
       "[1, 3, 5, 7, 9]"
      ]
     },
     "execution_count": 22,
     "metadata": {},
     "output_type": "execute_result"
    }
   ],
   "source": [
    "data  = [1,2,3,4,5,6,7,8,9,10]\n",
    "data  = list (filter (lambda x:x%2!=0, data))\n",
    "data"
   ]
  },
  {
   "cell_type": "markdown",
   "metadata": {},
   "source": [
    "## Generator Function\n",
    "* iterate on element one by one\n",
    "* stop after every iteration\n",
    "* remember old iteration value\n",
    "* next iterate\n",
    "  * go forward from last iterate value"
   ]
  },
  {
   "cell_type": "code",
   "execution_count": null,
   "metadata": {},
   "outputs": [],
   "source": []
  }
 ],
 "metadata": {
  "kernelspec": {
   "display_name": "Python 3",
   "language": "python",
   "name": "python3"
  },
  "language_info": {
   "codemirror_mode": {
    "name": "ipython",
    "version": 3
   },
   "file_extension": ".py",
   "mimetype": "text/x-python",
   "name": "python",
   "nbconvert_exporter": "python",
   "pygments_lexer": "ipython3",
   "version": "3.12.2"
  }
 },
 "nbformat": 4,
 "nbformat_minor": 2
}
