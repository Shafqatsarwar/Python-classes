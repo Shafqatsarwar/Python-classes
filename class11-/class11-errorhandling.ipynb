{
 "cells": [
  {
   "cell_type": "code",
   "execution_count": null,
   "metadata": {},
   "outputs": [],
   "source": []
  },
  {
   "cell_type": "markdown",
   "metadata": {},
   "source": [
    "## Error Handling\n",
    "# Run time Error"
   ]
  },
  {
   "cell_type": "code",
   "execution_count": 55,
   "metadata": {},
   "outputs": [
    {
     "name": "stdout",
     "output_type": "stream",
     "text": [
      "1.0\n"
     ]
    }
   ],
   "source": [
    "a:int=  int (input(\"Enter you number1\\t\"))\n",
    "b:int=  int (input(\"Enter you number12\\t\"))\n",
    "print(a/b)"
   ]
  },
  {
   "cell_type": "code",
   "execution_count": 56,
   "metadata": {},
   "outputs": [
    {
     "name": "stdout",
     "output_type": "stream",
     "text": [
      "sarwar\n",
      "1\n"
     ]
    }
   ],
   "source": [
    "name: list[str] = ['khan', 'sarwar', 'shafqat']\n",
    "index : int = int (input('Enter index number please'))\n",
    "print (name[index])\n",
    "print (input(type))"
   ]
  },
  {
   "cell_type": "code",
   "execution_count": 57,
   "metadata": {},
   "outputs": [
    {
     "ename": "TypeError",
     "evalue": "'tuple' object does not support item assignment",
     "output_type": "error",
     "traceback": [
      "\u001b[1;31m---------------------------------------------------------------------------\u001b[0m",
      "\u001b[1;31mTypeError\u001b[0m                                 Traceback (most recent call last)",
      "Cell \u001b[1;32mIn[57], line 2\u001b[0m\n\u001b[0;32m      1\u001b[0m data: \u001b[38;5;28mtuple\u001b[39m [\u001b[38;5;28mint\u001b[39m,\u001b[38;5;28mint\u001b[39m,\u001b[38;5;28mint\u001b[39m] \u001b[38;5;241m=\u001b[39m(\u001b[38;5;241m1\u001b[39m,\u001b[38;5;241m2\u001b[39m,\u001b[38;5;241m3\u001b[39m,\u001b[38;5;241m4\u001b[39m,\u001b[38;5;241m4\u001b[39m)\n\u001b[1;32m----> 2\u001b[0m \u001b[43mdata\u001b[49m\u001b[43m[\u001b[49m\u001b[38;5;241;43m0\u001b[39;49m\u001b[43m]\u001b[49m \u001b[38;5;241m=\u001b[39m \u001b[38;5;241m200\u001b[39m\n",
      "\u001b[1;31mTypeError\u001b[0m: 'tuple' object does not support item assignment"
     ]
    }
   ],
   "source": [
    "data: tuple [int,int,int] =(1,2,3,4,4)\n",
    "data[0] = 200"
   ]
  },
  {
   "cell_type": "code",
   "execution_count": null,
   "metadata": {},
   "outputs": [],
   "source": [
    "'2'+2"
   ]
  },
  {
   "cell_type": "code",
   "execution_count": null,
   "metadata": {},
   "outputs": [],
   "source": [
    "data : dict [str,str] = {\n",
    "    'name': 'khan',\n",
    "    'education': 'MCS'\n",
    "    }\n",
    "data['father name']"
   ]
  },
  {
   "cell_type": "code",
   "execution_count": null,
   "metadata": {},
   "outputs": [],
   "source": [
    "# Handle Run time Error\n",
    " try:\n",
    "   logic\n",
    "except (Error_class1. Error_class2):\n",
    "   if Error accured then run this Block\n",
    "else:\n",
    "   if Erroe not accured\n",
    "finally:\n",
    "   always run"
   ]
  },
  {
   "cell_type": "code",
   "execution_count": null,
   "metadata": {},
   "outputs": [
    {
     "ename": "ZeroDivisionError",
     "evalue": "division by zero",
     "output_type": "error",
     "traceback": [
      "\u001b[1;31m---------------------------------------------------------------------------\u001b[0m",
      "\u001b[1;31mZeroDivisionError\u001b[0m                         Traceback (most recent call last)",
      "Cell \u001b[1;32mIn[5], line 1\u001b[0m\n\u001b[1;32m----> 1\u001b[0m \u001b[38;5;241;43m7\u001b[39;49m\u001b[38;5;241;43m/\u001b[39;49m\u001b[38;5;241;43m0\u001b[39;49m\n",
      "\u001b[1;31mZeroDivisionError\u001b[0m: division by zero"
     ]
    }
   ],
   "source": [
    "7/0"
   ]
  },
  {
   "cell_type": "code",
   "execution_count": null,
   "metadata": {},
   "outputs": [
    {
     "name": "stdout",
     "output_type": "stream",
     "text": [
      "There is an Error\n"
     ]
    }
   ],
   "source": [
    "try:\n",
    "    print (7/0)\n",
    "except (ZeroDivisionError):\n",
    "    print('There is an Error')"
   ]
  },
  {
   "cell_type": "code",
   "execution_count": null,
   "metadata": {},
   "outputs": [
    {
     "name": "stdout",
     "output_type": "stream",
     "text": [
      "logic1\n",
      "logic1\n",
      "logic1\n"
     ]
    },
    {
     "ename": "ZeroDivisionError",
     "evalue": "division by zero",
     "output_type": "error",
     "traceback": [
      "\u001b[1;31m---------------------------------------------------------------------------\u001b[0m",
      "\u001b[1;31mZeroDivisionError\u001b[0m                         Traceback (most recent call last)",
      "Cell \u001b[1;32mIn[9], line 4\u001b[0m\n\u001b[0;32m      2\u001b[0m \u001b[38;5;28mprint\u001b[39m (\u001b[38;5;124m'\u001b[39m\u001b[38;5;124mlogic1\u001b[39m\u001b[38;5;124m'\u001b[39m)\n\u001b[0;32m      3\u001b[0m \u001b[38;5;28mprint\u001b[39m (\u001b[38;5;124m'\u001b[39m\u001b[38;5;124mlogic1\u001b[39m\u001b[38;5;124m'\u001b[39m)\n\u001b[1;32m----> 4\u001b[0m \u001b[38;5;28mprint\u001b[39m (\u001b[38;5;241;43m5\u001b[39;49m\u001b[38;5;241;43m/\u001b[39;49m\u001b[38;5;241;43m0\u001b[39;49m) \u001b[38;5;66;03m# Error\u001b[39;00m\n\u001b[0;32m      5\u001b[0m \u001b[38;5;28mprint\u001b[39m (\u001b[38;5;124m'\u001b[39m\u001b[38;5;124mlogic1\u001b[39m\u001b[38;5;124m'\u001b[39m)\n\u001b[0;32m      6\u001b[0m \u001b[38;5;28mprint\u001b[39m (\u001b[38;5;124m'\u001b[39m\u001b[38;5;124mlogic1\u001b[39m\u001b[38;5;124m'\u001b[39m)\n",
      "\u001b[1;31mZeroDivisionError\u001b[0m: division by zero"
     ]
    }
   ],
   "source": [
    "print ('logic1')\n",
    "print ('logic1')\n",
    "print ('logic1')\n",
    "print (5/0) # Error\n",
    "print ('logic1')\n",
    "print ('logic1')"
   ]
  },
  {
   "cell_type": "code",
   "execution_count": null,
   "metadata": {},
   "outputs": [
    {
     "name": "stdout",
     "output_type": "stream",
     "text": [
      "logic1\n",
      "logic1\n",
      "logic1\n",
      "zero division error!\n",
      "logic1\n",
      "logic1\n"
     ]
    }
   ],
   "source": [
    "print ('logic1')\n",
    "print ('logic1')\n",
    "print ('logic1')\n",
    "try:\n",
    "    print (5/0) # Error\n",
    "except ZeroDivisionError:\n",
    "    print ('zero division error!')\n",
    "print ('logic1')\n",
    "print ('logic1')"
   ]
  },
  {
   "cell_type": "code",
   "execution_count": null,
   "metadata": {},
   "outputs": [
    {
     "name": "stdout",
     "output_type": "stream",
     "text": [
      "logic1\n",
      "logic1\n",
      "2.5\n",
      "zero division error!\n",
      "logic1\n",
      "logic1\n"
     ]
    }
   ],
   "source": [
    "print ('logic1')\n",
    "print ('logic1')\n",
    "l1: list[int]= [1,2,3,4,4]\n",
    "try:\n",
    "    print (5/2) # Error\n",
    "    print (l1[7]) # Error\n",
    "except (ZeroDivisionError, IndexError):\n",
    "    print ('zero division error!')\n",
    "print ('logic1')\n",
    "print ('logic1')"
   ]
  },
  {
   "cell_type": "code",
   "execution_count": null,
   "metadata": {},
   "outputs": [
    {
     "name": "stdout",
     "output_type": "stream",
     "text": [
      "logic1\n",
      "logic1\n",
      "2.5\n",
      "1\n",
      "zero division error! index name\n",
      "logic1\n",
      "logic1\n"
     ]
    }
   ],
   "source": [
    "print ('logic1')\n",
    "print ('logic1')\n",
    "l1: list[int]= [1,2,3,4,4]\n",
    "try:\n",
    "    print (5/2) # Error\n",
    "    print (l1[0]) # Error\n",
    "    print(xyz)\n",
    "\n",
    "except (ZeroDivisionError, IndexError, NameError):\n",
    "    print ('zero division error!','index', 'name')\n",
    "print ('logic1')\n",
    "print ('logic1')"
   ]
  },
  {
   "cell_type": "code",
   "execution_count": null,
   "metadata": {},
   "outputs": [
    {
     "name": "stdout",
     "output_type": "stream",
     "text": [
      "logic1\n",
      "logic2\n",
      "zero division error!\n",
      "logic3\n",
      "logic4\n",
      "logic5\n"
     ]
    }
   ],
   "source": [
    "print ('logic1')\n",
    "print ('logic2')\n",
    "l1: list[int]= [1,2,3,4,]\n",
    "try:\n",
    "    print (7/0) # Error\n",
    "    print (l1[2]) # Error\n",
    "    print ( xyz ) # Error\n",
    "except ZeroDivisionError:\n",
    "    print ('zero division error!')\n",
    "except IndexError:\n",
    "    print ('index Error')\n",
    "except NameError:\n",
    "    print ('name Error')\n",
    "print ('logic3')\n",
    "print ('logic4')\n",
    "print ('logic5')"
   ]
  }
 ],
 "metadata": {
  "kernelspec": {
   "display_name": "Python 3",
   "language": "python",
   "name": "python3"
  },
  "language_info": {
   "codemirror_mode": {
    "name": "ipython",
    "version": 3
   },
   "file_extension": ".py",
   "mimetype": "text/x-python",
   "name": "python",
   "nbconvert_exporter": "python",
   "pygments_lexer": "ipython3",
   "version": "3.12.2"
  }
 },
 "nbformat": 4,
 "nbformat_minor": 2
}
