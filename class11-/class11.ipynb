{
 "cells": [
  {
   "cell_type": "markdown",
   "metadata": {},
   "source": [
    "# Mutable objects\n",
    " * immutable objects"
   ]
  },
  {
   "cell_type": "code",
   "execution_count": 14,
   "metadata": {},
   "outputs": [
    {
     "name": "stdout",
     "output_type": "stream",
     "text": [
      "[1, 2, 3, 4]\n"
     ]
    }
   ],
   "source": [
    "list_a :list[int] = [1,2,3]\n",
    "list_b = list_a\n",
    "list_a.append(4)\n",
    "print (list_b)\n"
   ]
  },
  {
   "cell_type": "code",
   "execution_count": 15,
   "metadata": {},
   "outputs": [
    {
     "name": "stdout",
     "output_type": "stream",
     "text": [
      "5\n"
     ]
    }
   ],
   "source": [
    "num_a : int =5\n",
    "num_b = num_a\n",
    "num_a += 1\n",
    "print( num_b )"
   ]
  },
  {
   "cell_type": "markdown",
   "metadata": {},
   "source": [
    "# Addresing changes without Function calling\n",
    "10 minutes\n"
   ]
  },
  {
   "cell_type": "code",
   "execution_count": 16,
   "metadata": {},
   "outputs": [
    {
     "name": "stdout",
     "output_type": "stream",
     "text": [
      "before modification 10 140727580642008\n",
      "after modification: 11 140727580642040\n"
     ]
    }
   ],
   "source": [
    "x= 10\n",
    "print (\"before modification\",x, id(x))\n",
    "x += 1\n",
    "print (\"after modification:\",x, id(x))\n"
   ]
  },
  {
   "cell_type": "code",
   "execution_count": 17,
   "metadata": {},
   "outputs": [
    {
     "name": "stdout",
     "output_type": "stream",
     "text": [
      "num1 value is 6\n",
      "5\n"
     ]
    }
   ],
   "source": [
    "a : int = 5\n",
    "def abc ( num1 : int) -> None:\n",
    "    num1 = 6\n",
    "    print (f\"num1 value is {num1}\")\n",
    "\n",
    "abc(a)\n",
    "print (a)\n"
   ]
  },
  {
   "cell_type": "code",
   "execution_count": 18,
   "metadata": {},
   "outputs": [
    {
     "name": "stdout",
     "output_type": "stream",
     "text": [
      "num1 value is [1, 2, 3, 4, 200]\n",
      "[1, 2, 3, 4, 200]\n"
     ]
    }
   ],
   "source": [
    "a : list[int] = [1,2,3,4]\n",
    "def abc ( num1 : int) -> None:\n",
    "    num1.append(200) # added on element\n",
    "    print (f\"num1 value is {num1}\")\n",
    "\n",
    "abc(a)# pass by reference (Mutable data type)\n",
    "print (a)\n"
   ]
  },
  {
   "cell_type": "code",
   "execution_count": 19,
   "metadata": {},
   "outputs": [
    {
     "name": "stdout",
     "output_type": "stream",
     "text": [
      "num1 value before 5\n",
      "num1 value is 6\n",
      "5\n"
     ]
    }
   ],
   "source": [
    "a : int = 5\n",
    "def abc ( num1 : int) -> None:\n",
    "    print (f\"num1 value before {num1}\")\n",
    "    num1 = 6 # copy\n",
    "    print (f\"num1 value is {num1}\")\n",
    "\n",
    "abc(a) # pass by reference (Mutable data type)\n",
    "print (a)\n"
   ]
  },
  {
   "cell_type": "code",
   "execution_count": 20,
   "metadata": {},
   "outputs": [
    {
     "name": "stdout",
     "output_type": "stream",
     "text": [
      "num1 value is [7, 200]\n",
      "[1, 2, 3, 4]\n"
     ]
    }
   ],
   "source": [
    "a : list[int] = [1,2,3,4]\n",
    "def abc ( num1 : int) -> None:\n",
    "    num1 = [7]\n",
    "    num1.append(200) # added on element\n",
    "    print (f\"num1 value is {num1}\")\n",
    "\n",
    "abc(a)# pass by reference (Mutable data type)\n",
    "print (a)\n"
   ]
  },
  {
   "cell_type": "code",
   "execution_count": 21,
   "metadata": {},
   "outputs": [
    {
     "name": "stdout",
     "output_type": "stream",
     "text": [
      "first assign value to a address is 140727580641848\n",
      "num1 value start of function 5 address is 140727580641848\n",
      "num1 value end of function is 6 and address is 140727580641880\n",
      "Program ends\n",
      "End of Program variaable a value is 5 and adress of a is 140727580641848\n"
     ]
    }
   ],
   "source": [
    "a : int = 5\n",
    "print ( f\"first assign value to a address is {id(a)}\")\n",
    "def abc ( num1 : int) -> None:\n",
    "    print (f\"num1 value start of function {num1} address is {id(num1)}\")\n",
    "    num1 = 6 # copy\n",
    "    print (f\"num1 value end of function is {num1} and address is {id(num1)}\") # address will change here\n",
    "    print ( \"Program ends\")\n",
    "\n",
    "abc(a) # pass by reference (Mutable data type)\n",
    "print (f\"End of Program variaable a value is {a} and adress of a is {id(a)}\")\n"
   ]
  },
  {
   "cell_type": "code",
   "execution_count": 22,
   "metadata": {},
   "outputs": [
    {
     "name": "stdout",
     "output_type": "stream",
     "text": [
      "X value is (x) address is 140727580641912\n",
      "B value is (b) address is 140727580641912\n",
      "X value is (b) address is 140727580648088\n"
     ]
    }
   ],
   "source": [
    "x  : int = 7\n",
    "b : int = 7\n",
    "print (f\"X value is (x) address is {id(x)}\")\n",
    "print (f\"B value is (b) address is {id(b)}\")\n",
    "b=200\n",
    "print (f\"X value is (b) address is {id(b)}\")"
   ]
  }
 ],
 "metadata": {
  "kernelspec": {
   "display_name": "Python 3",
   "language": "python",
   "name": "python3"
  },
  "language_info": {
   "codemirror_mode": {
    "name": "ipython",
    "version": 3
   },
   "file_extension": ".py",
   "mimetype": "text/x-python",
   "name": "python",
   "nbconvert_exporter": "python",
   "pygments_lexer": "ipython3",
   "version": "3.12.2"
  }
 },
 "nbformat": 4,
 "nbformat_minor": 2
}
