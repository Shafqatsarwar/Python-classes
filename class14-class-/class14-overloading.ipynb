{
 "cells": [
  {
   "cell_type": "markdown",
   "metadata": {},
   "source": [
    "# Method overLoading"
   ]
  },
  {
   "cell_type": "code",
   "execution_count": 4,
   "metadata": {},
   "outputs": [
    {
     "name": "stdout",
     "output_type": "stream",
     "text": [
      "10.5\n",
      "10\n"
     ]
    }
   ],
   "source": [
    "class Adder():\n",
    "    def add(self, x: int, y:int) -> int:\n",
    "        return x+y\n",
    "\n",
    "    def add(self, x: float, y: float) -> float:\n",
    "        return x+y\n",
    "\n",
    "obj: Adder = Adder()\n",
    "print(obj.add(7.0, 3.5))\n",
    "print(obj.add(7, 3))"
   ]
  },
  {
   "cell_type": "code",
   "execution_count": 12,
   "metadata": {},
   "outputs": [
    {
     "name": "stdout",
     "output_type": "stream",
     "text": [
      "3\n",
      "4.8\n",
      "HellowPakistan\n"
     ]
    }
   ],
   "source": [
    "from typing import overload, Union\n",
    "\n",
    "@overload\n",
    "def add(self, x: int, y: int) -> int:\n",
    "    ...\n",
    "\n",
    "@overload\n",
    "def add(self, x: float, y: float) -> float:\n",
    "    ...\n",
    "\n",
    "@overload\n",
    "def add(self, x: str, y: str) -> str:\n",
    "    ...\n",
    "\n",
    "def add( x: Union[int, float, str], y: Union[int, float, str]) -> Union[int, float, str]:\n",
    "   if isinstance(x, int) and isinstance (y, int):\n",
    "       return x+y\n",
    "   elif isinstance (x, float) and (y, float):\n",
    "       return x+y\n",
    "   elif isinstance (x, str) and (y, str):\n",
    "       return x+y\n",
    "   else:\n",
    "       raise TypeError(\"invalid type entered\")\n",
    "   \n",
    "result1 = add(1, 2)\n",
    "result2 = add(1.5, 3.3)\n",
    "result3 = add(\"Hellow\", \"Pakistan\")\n",
    "print (result1)\n",
    "print (result2)\n",
    "print (result3)"
   ]
  },
  {
   "cell_type": "code",
   "execution_count": 2,
   "metadata": {},
   "outputs": [
    {
     "data": {
      "text/plain": [
       "6"
      ]
     },
     "execution_count": 2,
     "metadata": {},
     "output_type": "execute_result"
    }
   ],
   "source": [
    "add(1,5)"
   ]
  },
  {
   "cell_type": "code",
   "execution_count": 7,
   "metadata": {},
   "outputs": [
    {
     "name": "stdout",
     "output_type": "stream",
     "text": [
      "10\n",
      "30\n"
     ]
    }
   ],
   "source": [
    "def my_sum(*nums:int) -> int:\n",
    "    total : int = 0\n",
    "    for i in nums:\n",
    "        total +=i\n",
    "    return total\n",
    "\n",
    "print (my_sum(1,2,3,4))\n",
    "print (my_sum (3,3,3,3,3,3,3,3,3,3))"
   ]
  }
 ],
 "metadata": {
  "kernelspec": {
   "display_name": "Python 3",
   "language": "python",
   "name": "python3"
  },
  "language_info": {
   "codemirror_mode": {
    "name": "ipython",
    "version": 3
   },
   "file_extension": ".py",
   "mimetype": "text/x-python",
   "name": "python",
   "nbconvert_exporter": "python",
   "pygments_lexer": "ipython3",
   "version": "3.12.2"
  }
 },
 "nbformat": 4,
 "nbformat_minor": 2
}
