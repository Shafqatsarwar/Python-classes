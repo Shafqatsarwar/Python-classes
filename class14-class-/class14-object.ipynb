{
 "cells": [
  {
   "cell_type": "markdown",
   "metadata": {},
   "source": [
    "# Everything is an object in Python"
   ]
  },
  {
   "cell_type": "code",
   "execution_count": 3,
   "metadata": {},
   "outputs": [
    {
     "name": "stdout",
     "output_type": "stream",
     "text": [
      "Human is eating Bread\n"
     ]
    }
   ],
   "source": [
    "class Human ():\n",
    "    def eating (self, food:str) -> None:\n",
    "        print (f\"Human is eating {food}\")\n",
    "\n",
    "object: Human = Human()\n",
    "object.eating(\"Bread\")"
   ]
  },
  {
   "cell_type": "code",
   "execution_count": 17,
   "metadata": {},
   "outputs": [
    {
     "name": "stdout",
     "output_type": "stream",
     "text": [
      "Human is eating Bread\n"
     ]
    }
   ],
   "source": [
    "class Human():\n",
    "    def eating (self, food : str) -> None:\n",
    "        print (f\"Human is eating {food}\")\n",
    "\n",
    "obj2 : Human = Human()\n",
    "obj2.eating(\"Bread\")"
   ]
  },
  {
   "cell_type": "markdown",
   "metadata": {},
   "source": [
    "# callable"
   ]
  },
  {
   "cell_type": "code",
   "execution_count": 19,
   "metadata": {},
   "outputs": [
    {
     "name": "stdout",
     "output_type": "stream",
     "text": [
      "Human is eating Bread\n",
      "Human is eating Nihari!\n"
     ]
    }
   ],
   "source": [
    "from typing import Any\n",
    "\n",
    "class Human1():\n",
    "    def eating (self, food : str) -> None:\n",
    "        print (f\"Human is eating {food}\")\n",
    "\n",
    "    def __call__ (self) -> None:\n",
    "        self.eating(\"Nihari!\")\n",
    "\n",
    "obj3 : Human1 = Human1()\n",
    "obj3.eating(\"Bread !\")\n",
    "obj3.__call__()"
   ]
  },
  {
   "cell_type": "code",
   "execution_count": 20,
   "metadata": {},
   "outputs": [
    {
     "data": {
      "text/plain": [
       "<__main__.Human1 at 0x19fb4ffc740>"
      ]
     },
     "execution_count": 20,
     "metadata": {},
     "output_type": "execute_result"
    }
   ],
   "source": [
    "Human1()"
   ]
  }
 ],
 "metadata": {
  "kernelspec": {
   "display_name": "Python 3",
   "language": "python",
   "name": "python3"
  },
  "language_info": {
   "codemirror_mode": {
    "name": "ipython",
    "version": 3
   },
   "file_extension": ".py",
   "mimetype": "text/x-python",
   "name": "python",
   "nbconvert_exporter": "python",
   "pygments_lexer": "ipython3",
   "version": "3.12.2"
  }
 },
 "nbformat": 4,
 "nbformat_minor": 2
}
