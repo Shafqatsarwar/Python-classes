{
 "cells": [
  {
   "cell_type": "code",
   "execution_count": null,
   "metadata": {},
   "outputs": [],
   "source": []
  },
  {
   "cell_type": "markdown",
   "metadata": {},
   "source": [
    "# Multiple class"
   ]
  },
  {
   "cell_type": "code",
   "execution_count": 1,
   "metadata": {},
   "outputs": [
    {
     "name": "stdout",
     "output_type": "stream",
     "text": [
      "Animation Artist\n",
      "['Python']\n",
      "<class 'int'>\n"
     ]
    }
   ],
   "source": [
    "class Employee():\n",
    "    def __init__(self, name: str) -> None:\n",
    "        self.name: str = name\n",
    "        self.education: str = \"\"\n",
    "        self.department: str = \"\"\n",
    "\n",
    "class Designer(Employee):\n",
    "    def __init__(self, title: str, name: str) -> None:\n",
    "        super().__init__(name)\n",
    "        self.title: str = title\n",
    "\n",
    "class Developer(Employee):\n",
    "    def __init__(self, title: str, name: str) -> None:\n",
    "        super().__init__(name)\n",
    "        self.title: str = title\n",
    "        self.programing_skills: list[str] = ['Python']\n",
    "\n",
    "class Manager(Employee):\n",
    "    def __init__(self, title: str, name: str) -> None:\n",
    "        super().__init__(name)\n",
    "        self.title: str = title\n",
    "        self.expirience: int = int\n",
    "\n",
    "designer1: Designer = Designer(\"Animation Artist\", \"Khan\")\n",
    "\n",
    "# Provide both title and name for Developer\n",
    "dev1: Developer = Developer(\"Software Engineer\", \"GenAi\")\n",
    "\n",
    "man2 : Manager = Manager (\"Sarwar\", 10)\n",
    "\n",
    "print(designer1.title)\n",
    "print(dev1.programing_skills)\n",
    "print(man2.expirience)\n"
   ]
  },
  {
   "cell_type": "code",
   "execution_count": 2,
   "metadata": {},
   "outputs": [],
   "source": [
    "class Mother :\n",
    "    def __init__(self,name:str) -> None:\n",
    "        self.name: str = name\n",
    "        self.eye_color: str = \"Blue\"\n",
    "\n",
    "    def speaking (self, words: str) -> None:\n",
    "        return(f\"Mother speacking function\")\n",
    "    \n",
    "class Father ():\n",
    "    def __init__(self,name: str) -> None:\n",
    "        self.name: str = name\n",
    "        self.height: str = \"6f\"\n",
    "\n",
    "class Child (Mother, Father):\n",
    "    def __init__(self, mother_name: str, father_name: str, child_name: str) -> None:\n",
    "        Mother.__init__(self, mother_name)\n",
    "        Father.__init__(self, father_name)\n",
    "        self.child_name : str = child_name\n",
    "\n",
    "qasim : Child = Child (\"Naseem\",\"Aslam\", \"Qasim\")"
   ]
  },
  {
   "cell_type": "code",
   "execution_count": 3,
   "metadata": {},
   "outputs": [
    {
     "data": {
      "text/plain": [
       "['__class__',\n",
       " '__delattr__',\n",
       " '__dict__',\n",
       " '__dir__',\n",
       " '__doc__',\n",
       " '__eq__',\n",
       " '__format__',\n",
       " '__ge__',\n",
       " '__getattribute__',\n",
       " '__getstate__',\n",
       " '__gt__',\n",
       " '__hash__',\n",
       " '__init__',\n",
       " '__init_subclass__',\n",
       " '__le__',\n",
       " '__lt__',\n",
       " '__module__',\n",
       " '__ne__',\n",
       " '__new__',\n",
       " '__reduce__',\n",
       " '__reduce_ex__',\n",
       " '__repr__',\n",
       " '__setattr__',\n",
       " '__sizeof__',\n",
       " '__str__',\n",
       " '__subclasshook__',\n",
       " '__weakref__',\n",
       " 'child_name',\n",
       " 'eye_color',\n",
       " 'height',\n",
       " 'name',\n",
       " 'speaking']"
      ]
     },
     "execution_count": 3,
     "metadata": {},
     "output_type": "execute_result"
    }
   ],
   "source": [
    "dir (qasim)"
   ]
  },
  {
   "cell_type": "code",
   "execution_count": 7,
   "metadata": {},
   "outputs": [
    {
     "name": "stdout",
     "output_type": "stream",
     "text": [
      "object height 6 Feet\n",
      "object eye_color Blue\n"
     ]
    },
    {
     "name": "stderr",
     "output_type": "stream",
     "text": [
      "<>:24: SyntaxWarning: 'str' object is not callable; perhaps you missed a comma?\n",
      "<>:24: SyntaxWarning: 'str' object is not callable; perhaps you missed a comma?\n",
      "C:\\Users\\ST\\AppData\\Local\\Temp\\ipykernel_15952\\2869915558.py:24: SyntaxWarning: 'str' object is not callable; perhaps you missed a comma?\n",
      "  print (f\"qasim.speaking\"(\"Pakistan Zinda Abad\"))\n"
     ]
    },
    {
     "ename": "TypeError",
     "evalue": "'str' object is not callable",
     "output_type": "error",
     "traceback": [
      "\u001b[1;31m---------------------------------------------------------------------------\u001b[0m",
      "\u001b[1;31mTypeError\u001b[0m                                 Traceback (most recent call last)",
      "Cell \u001b[1;32mIn[7], line 24\u001b[0m\n\u001b[0;32m     22\u001b[0m \u001b[38;5;28mprint\u001b[39m (\u001b[38;5;124mf\u001b[39m\u001b[38;5;124m\"\u001b[39m\u001b[38;5;124mobject height \u001b[39m\u001b[38;5;132;01m{\u001b[39;00mqasim\u001b[38;5;241m.\u001b[39mheight\u001b[38;5;132;01m}\u001b[39;00m\u001b[38;5;124m\"\u001b[39m)\n\u001b[0;32m     23\u001b[0m \u001b[38;5;28mprint\u001b[39m (\u001b[38;5;124mf\u001b[39m\u001b[38;5;124m\"\u001b[39m\u001b[38;5;124mobject eye_color \u001b[39m\u001b[38;5;132;01m{\u001b[39;00mqasim\u001b[38;5;241m.\u001b[39meye_color\u001b[38;5;132;01m}\u001b[39;00m\u001b[38;5;124m\"\u001b[39m)\n\u001b[1;32m---> 24\u001b[0m \u001b[38;5;28mprint\u001b[39m (\u001b[38;5;124;43mf\u001b[39;49m\u001b[38;5;124;43m\"\u001b[39;49m\u001b[38;5;124;43mqasim.speaking\u001b[39;49m\u001b[38;5;124;43m\"\u001b[39;49m\u001b[43m(\u001b[49m\u001b[38;5;124;43m\"\u001b[39;49m\u001b[38;5;124;43mPakistan Zinda Abad\u001b[39;49m\u001b[38;5;124;43m\"\u001b[39;49m\u001b[43m)\u001b[49m)\n",
      "\u001b[1;31mTypeError\u001b[0m: 'str' object is not callable"
     ]
    }
   ],
   "source": [
    "class Mother :\n",
    "    def __init__(self,name:str) -> None:\n",
    "        self.name : str = name\n",
    "        self.eye_color : str = \"Blue\"\n",
    "\n",
    "    def speaking (self, words: str) -> None:\n",
    "        return f\"Mother speacking function : {words}\"\n",
    "    \n",
    "class Father ():\n",
    "    def __init__(self,name: str) -> None:\n",
    "        self.name: str = name\n",
    "        self.height: str = \"6 Feet\"\n",
    "\n",
    "class Child (Mother, Father):\n",
    "    def __init__(self, mother_name: str, father_name: str, child_name: str) -> None:\n",
    "        Mother.__init__(self, mother_name)\n",
    "        Father.__init__(self, father_name)\n",
    "        self.child_name : str = child_name\n",
    "\n",
    "qasim : Child = Child (\"Naseem\",\"Aslam\", \"Qasim\")\n",
    "\n",
    "print (f\"object height {qasim.height}\")\n",
    "print (f\"object eye_color {qasim.eye_color}\")\n",
    "print (f\"qasim.speaking\"(\"Pakistan Zinda Abad\"))"
   ]
  },
  {
   "cell_type": "code",
   "execution_count": 5,
   "metadata": {},
   "outputs": [
    {
     "name": "stdout",
     "output_type": "stream",
     "text": [
      "object height: 6ft\n",
      "object eye_color: Blue\n",
      "Mother speaking: Pakistan Zinda Abad\n"
     ]
    }
   ],
   "source": [
    "class Mother:\n",
    "    def __init__(self, name: str) -> None:\n",
    "        self.name: str = name\n",
    "        self.eye_color: str = \"Blue\"\n",
    "\n",
    "    def speaking(self, words: str) -> None:\n",
    "        return f\"Mother speaking: {words}\"\n",
    "    \n",
    "class Father:\n",
    "    def __init__(self, name: str) -> None:\n",
    "        self.name: str = name\n",
    "        self.height: str = \"6ft\"\n",
    "\n",
    "class Child(Mother, Father):\n",
    "    def __init__(self, mother_name: str, father_name: str, child_name: str) -> None:\n",
    "        Mother.__init__(self, mother_name)\n",
    "        Father.__init__(self, father_name)\n",
    "        self.child_name: str = child_name\n",
    "\n",
    "qasim = Child(\"Naseem\", \"Aslam\", \"Qasim\")\n",
    "\n",
    "print(f\"object height: {qasim.height}\")\n",
    "print(f\"object eye_color: {qasim.eye_color}\")\n",
    "print(qasim.speaking(\"Pakistan Zinda Abad\"))\n"
   ]
  },
  {
   "cell_type": "code",
   "execution_count": 8,
   "metadata": {},
   "outputs": [
    {
     "name": "stdout",
     "output_type": "stream",
     "text": [
      "object height: 6ft\n",
      "object eye_color: Blue\n",
      "Father speaking: Pakistan Zinda Abad\n"
     ]
    }
   ],
   "source": [
    "class Mother:\n",
    "    def __init__(self, name: str) -> None:\n",
    "        self.name: str = name\n",
    "        self.eye_color: str = \"Blue\"\n",
    "\n",
    "    def speaking(self, words: str) -> None:\n",
    "        return f\"Mother speaking: {words}\"\n",
    "    \n",
    "class Father:\n",
    "    def __init__(self, name: str) -> None:\n",
    "        self.name: str = name\n",
    "        self.height: str = \"6ft\"\n",
    "\n",
    "    def speaking(self, words: str) -> None:\n",
    "        return f\"Father speaking: {words}\"\n",
    "\n",
    "class Child(Father, Mother):\n",
    "    def __init__(self, mother_name: str, father_name: str, child_name: str) -> None:\n",
    "        Mother.__init__(self, mother_name)\n",
    "        Father.__init__(self, father_name)\n",
    "        self.child_name: str = child_name\n",
    "\n",
    "qasim = Child(\"Naseem\", \"Aslam\", \"Qasim\")\n",
    "\n",
    "print(f\"object height: {qasim.height}\")\n",
    "print(f\"object eye_color: {qasim.eye_color}\")\n",
    "print(qasim.speaking(\"Pakistan Zinda Abad\"))\n"
   ]
  }
 ],
 "metadata": {
  "kernelspec": {
   "display_name": "Python 3",
   "language": "python",
   "name": "python3"
  },
  "language_info": {
   "codemirror_mode": {
    "name": "ipython",
    "version": 3
   },
   "file_extension": ".py",
   "mimetype": "text/x-python",
   "name": "python",
   "nbconvert_exporter": "python",
   "pygments_lexer": "ipython3",
   "version": "3.12.2"
  }
 },
 "nbformat": 4,
 "nbformat_minor": 2
}
