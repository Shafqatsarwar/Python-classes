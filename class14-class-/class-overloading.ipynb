{
 "cells": [
  {
   "cell_type": "markdown",
   "metadata": {},
   "source": [
    "# over Loading"
   ]
  },
  {
   "cell_type": "code",
   "execution_count": 4,
   "metadata": {},
   "outputs": [
    {
     "name": "stdout",
     "output_type": "stream",
     "text": [
      "10.5\n",
      "10\n"
     ]
    }
   ],
   "source": [
    "class Adder():\n",
    "    def add(self, x: int, y:int) -> int:\n",
    "        return x+y\n",
    "\n",
    "    def add(self, x: float, y: float) -> float:\n",
    "        return x+y\n",
    "\n",
    "obj: Adder = Adder()\n",
    "print(obj.add(7.0, 3.5))\n",
    "print(obj.add(7, 3))"
   ]
  },
  {
   "cell_type": "code",
   "execution_count": 8,
   "metadata": {},
   "outputs": [
    {
     "ename": "TypeError",
     "evalue": "'result1' is an invalid keyword argument for print()",
     "output_type": "error",
     "traceback": [
      "\u001b[1;31m---------------------------------------------------------------------------\u001b[0m",
      "\u001b[1;31mTypeError\u001b[0m                                 Traceback (most recent call last)",
      "Cell \u001b[1;32mIn[8], line 25\u001b[0m\n\u001b[0;32m     22\u001b[0m    \u001b[38;5;28;01melse\u001b[39;00m:\n\u001b[0;32m     23\u001b[0m        \u001b[38;5;28;01mraise\u001b[39;00m \u001b[38;5;167;01mTypeError\u001b[39;00m(\u001b[38;5;124m\"\u001b[39m\u001b[38;5;124minvalid type entered\u001b[39m\u001b[38;5;124m\"\u001b[39m)\n\u001b[1;32m---> 25\u001b[0m \u001b[38;5;28;43mprint\u001b[39;49m\u001b[43m \u001b[49m\u001b[43m(\u001b[49m\u001b[43mresult1\u001b[49m\u001b[43m \u001b[49m\u001b[38;5;241;43m=\u001b[39;49m\u001b[43m \u001b[49m\u001b[43madd\u001b[49m\u001b[43m(\u001b[49m\u001b[38;5;241;43m1\u001b[39;49m\u001b[43m,\u001b[49m\u001b[43m \u001b[49m\u001b[38;5;241;43m2\u001b[39;49m\u001b[43m)\u001b[49m\u001b[43m)\u001b[49m\n\u001b[0;32m     26\u001b[0m result2 \u001b[38;5;241m=\u001b[39m add(\u001b[38;5;241m1.5\u001b[39m, \u001b[38;5;241m3.3\u001b[39m)\n\u001b[0;32m     27\u001b[0m result3 \u001b[38;5;241m=\u001b[39m add(\u001b[38;5;124m\"\u001b[39m\u001b[38;5;124mHellow\u001b[39m\u001b[38;5;124m\"\u001b[39m, \u001b[38;5;124m\"\u001b[39m\u001b[38;5;124mPakistan\u001b[39m\u001b[38;5;124m\"\u001b[39m)\n",
      "\u001b[1;31mTypeError\u001b[0m: 'result1' is an invalid keyword argument for print()"
     ]
    }
   ],
   "source": [
    "from typing import overload, Union\n",
    "\n",
    "@overload\n",
    "def add(x: int, y: int) -> int:\n",
    "    ...\n",
    "\n",
    "@overload\n",
    "def add(x: float, y: float) -> float:\n",
    "    ...\n",
    "\n",
    "@overload\n",
    "def add(x: str, y: str) -> str:\n",
    "    ...\n",
    "\n",
    "def add(x: Union[int, float, str], y: Union[int, float, str]) -> Union[int, float, str]:\n",
    "   if isinstance(x, int) and isinstance (y, int):\n",
    "       return x+y\n",
    "   elif isinstance (x, float) and (y, float):\n",
    "       return x+y\n",
    "   elif isinstance (x, str) and (y, str):\n",
    "       return x+y\n",
    "   else:\n",
    "       raise TypeError(\"invalid type entered\")\n",
    "   \n",
    "result1 = add(1, 2)\n",
    "result2 = add(1.5, 3.3)\n",
    "result3 = add(\"Hellow\", \"Pakistan\")"
   ]
  }
 ],
 "metadata": {
  "kernelspec": {
   "display_name": "Python 3",
   "language": "python",
   "name": "python3"
  },
  "language_info": {
   "codemirror_mode": {
    "name": "ipython",
    "version": 3
   },
   "file_extension": ".py",
   "mimetype": "text/x-python",
   "name": "python",
   "nbconvert_exporter": "python",
   "pygments_lexer": "ipython3",
   "version": "3.12.2"
  }
 },
 "nbformat": 4,
 "nbformat_minor": 2
}
