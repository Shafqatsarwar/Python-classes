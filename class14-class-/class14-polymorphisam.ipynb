{
 "cells": [
  {
   "cell_type": "markdown",
   "metadata": {},
   "source": [
    "# 2 Polymorphism\n",
    "# overriding"
   ]
  },
  {
   "cell_type": "code",
   "execution_count": 3,
   "metadata": {},
   "outputs": [
    {
     "name": "stdout",
     "output_type": "stream",
     "text": [
      " Bird is eating Bread\n",
      " Animal eating Grass\n",
      " Animal eating Grass\n"
     ]
    }
   ],
   "source": [
    "class Animal ():\n",
    "    def eating(self, food: str) -> None:\n",
    "        print (f\" Animal eating {food}\")\n",
    "\n",
    "class Bird(Animal):\n",
    "    def eating(self, food: str) -> None:\n",
    "        #return super().eating(food)\n",
    "        print (f\" Bird is eating {food}\")\n",
    "\n",
    "bird : Bird = Bird()\n",
    "bird.eating(\"Bread\")\n",
    "\n",
    "animal: Animal= Animal()\n",
    "animal.eating(\"Grass\")\n",
    "\n",
    "goat: Animal= Animal()\n",
    "goat.eating(\"Grass\")"
   ]
  },
  {
   "cell_type": "markdown",
   "metadata": {},
   "source": [
    "# Static Method"
   ]
  }
 ],
 "metadata": {
  "kernelspec": {
   "display_name": "Python 3",
   "language": "python",
   "name": "python3"
  },
  "language_info": {
   "codemirror_mode": {
    "name": "ipython",
    "version": 3
   },
   "file_extension": ".py",
   "mimetype": "text/x-python",
   "name": "python",
   "nbconvert_exporter": "python",
   "pygments_lexer": "ipython3",
   "version": "3.12.2"
  }
 },
 "nbformat": 4,
 "nbformat_minor": 2
}
