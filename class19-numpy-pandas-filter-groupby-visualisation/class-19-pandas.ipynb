{
 "cells": [
  {
   "cell_type": "markdown",
   "metadata": {},
   "source": [
    "# Pandas\n",
    " * filtering\n",
    " * sorting\n",
    " * useful methods\n",
    " * group by\n",
    " * merge"
   ]
  },
  {
   "cell_type": "code",
   "execution_count": 1,
   "metadata": {},
   "outputs": [],
   "source": [
    "import pandas as pd\n",
    "from datetime import date\n",
    "from typing import types"
   ]
  },
  {
   "cell_type": "code",
   "execution_count": 5,
   "metadata": {},
   "outputs": [
    {
     "name": "stdout",
     "output_type": "stream",
     "text": [
      "   roll_no     name   fathername            course date_of_admission   fee\n",
      "0        1    Alice         John       Mathematics        2022-01-10  1500\n",
      "1        2      Bob       Robert           Physics        2022-02-14  2000\n",
      "2        3  Charlie      Michael         Chemistry        2022-03-18  1500\n",
      "3        4    David      William       Mathematics        2022-04-22  2500\n",
      "4        5      Eva      Richard  Computer Science        2022-05-26  2000\n",
      "5        6    Frank       Joseph       Mathematics        2022-06-30  1500\n",
      "6        7    Grace      Charles           Physics        2022-07-04  2500\n",
      "7        8   Hannah       Thomas       Mathematics        2022-08-08  2000\n",
      "8        9     Ivan  Christopher           Biology        2022-09-12  1500\n",
      "9       10     Jack       Daniel  Computer Science        2022-10-16  2500\n"
     ]
    }
   ],
   "source": [
    "import pandas as pd\n",
    "from datetime import datetime\n",
    "from typing import List\n",
    "import pandera as pa\n",
    "from pandera.typing import DataFrame, Series\n",
    "\n",
    "# Define the data structure with static type annotations\n",
    "class Student:\n",
    "    def __init__(self, roll_no: int, name: str, fathername: str, date_of_admission: datetime, fee: int, course: str):\n",
    "        self.roll_no = roll_no\n",
    "        self.name = name\n",
    "        self.fathername = fathername\n",
    "        self.date_of_admission = date_of_admission\n",
    "        self.fee = fee\n",
    "        self.course = course\n",
    "\n",
    "# Create a list of students\n",
    "students: List[Student] = [\n",
    "    Student(1, \"Alice\", \"John\", datetime(2022, 1, 10), 1500, \"Mathematics\"),\n",
    "    Student(2, \"Bob\", \"Robert\", datetime(2022, 2, 14), 2000, \"Physics\"),\n",
    "    Student(3, \"Charlie\", \"Michael\", datetime(2022, 3, 18), 1500, \"Chemistry\"),\n",
    "    Student(4, \"David\", \"William\", datetime(2022, 4, 22), 2500, \"Mathematics\"),\n",
    "    Student(5, \"Eva\", \"Richard\", datetime(2022, 5, 26), 2000, \"Computer Science\"),\n",
    "    Student(6, \"Frank\", \"Joseph\", datetime(2022, 6, 30), 1500, \"Mathematics\"),\n",
    "    Student(7, \"Grace\", \"Charles\", datetime(2022, 7, 4), 2500, \"Physics\"),\n",
    "    Student(8, \"Hannah\", \"Thomas\", datetime(2022, 8, 8), 2000, \"Mathematics\"),\n",
    "    Student(9, \"Ivan\", \"Christopher\", datetime(2022, 9, 12), 1500, \"Biology\"),\n",
    "    Student(10, \"Jack\", \"Daniel\", datetime(2022, 10, 16), 2500, \"Computer Science\")\n",
    "]\n",
    "\n",
    "# Convert the list of students to a DataFrame\n",
    "student_df = pd.DataFrame([{\n",
    "    \"roll_no\": student.roll_no,\n",
    "    \"name\": student.name,\n",
    "    \"fathername\": student.fathername,\n",
    "    \"course\": student.course,\n",
    "    \"date_of_admission\": student.date_of_admission,\n",
    "    \"fee\": student.fee,\n",
    "} for student in students])\n",
    "\n",
    "# Define the schema using pandera\n",
    "\n",
    "class StudentSchema(pa.SchemaModel):\n",
    "    roll_no: Series[int] = pa.Field(ge=1)\n",
    "    name: Series[str] = pa.Field()\n",
    "    fathername: Series[str] = pa.Field()\n",
    "    course: Series[str] = pa.Field()\n",
    "    date_of_admission: Series[datetime] = pa.Field()\n",
    "    fee: Series[int] = pa.Field(ge=0)\n",
    "\n",
    "    class Config:\n",
    "        coerce = True\n",
    "\n",
    "# Validate the DataFrame\n",
    "validated_student_df: DataFrame[StudentSchema] = StudentSchema.validate(student_df)\n",
    "\n",
    "# Display the validated DataFrame\n",
    "print(validated_student_df)"
   ]
  },
  {
   "cell_type": "markdown",
   "metadata": {},
   "source": [
    "# apply filter function on Dataframe"
   ]
  },
  {
   "cell_type": "code",
   "execution_count": 6,
   "metadata": {},
   "outputs": [
    {
     "data": {
      "text/html": [
       "<div>\n",
       "<style scoped>\n",
       "    .dataframe tbody tr th:only-of-type {\n",
       "        vertical-align: middle;\n",
       "    }\n",
       "\n",
       "    .dataframe tbody tr th {\n",
       "        vertical-align: top;\n",
       "    }\n",
       "\n",
       "    .dataframe thead th {\n",
       "        text-align: right;\n",
       "    }\n",
       "</style>\n",
       "<table border=\"1\" class=\"dataframe\">\n",
       "  <thead>\n",
       "    <tr style=\"text-align: right;\">\n",
       "      <th></th>\n",
       "      <th>roll_no</th>\n",
       "      <th>name</th>\n",
       "      <th>fathername</th>\n",
       "      <th>course</th>\n",
       "      <th>date_of_admission</th>\n",
       "      <th>fee</th>\n",
       "    </tr>\n",
       "  </thead>\n",
       "  <tbody>\n",
       "    <tr>\n",
       "      <th>0</th>\n",
       "      <td>1</td>\n",
       "      <td>Alice</td>\n",
       "      <td>John</td>\n",
       "      <td>Mathematics</td>\n",
       "      <td>2022-01-10</td>\n",
       "      <td>1500</td>\n",
       "    </tr>\n",
       "  </tbody>\n",
       "</table>\n",
       "</div>"
      ],
      "text/plain": [
       "   roll_no   name fathername       course date_of_admission   fee\n",
       "0        1  Alice       John  Mathematics        2022-01-10  1500"
      ]
     },
     "execution_count": 6,
     "metadata": {},
     "output_type": "execute_result"
    }
   ],
   "source": [
    "student_df.head(1)"
   ]
  },
  {
   "cell_type": "code",
   "execution_count": 7,
   "metadata": {},
   "outputs": [
    {
     "data": {
      "text/plain": [
       "course\n",
       "Mathematics         4\n",
       "Physics             2\n",
       "Computer Science    2\n",
       "Chemistry           1\n",
       "Biology             1\n",
       "Name: count, dtype: int64"
      ]
     },
     "execution_count": 7,
     "metadata": {},
     "output_type": "execute_result"
    }
   ],
   "source": [
    "student_df.course.value_counts()"
   ]
  },
  {
   "cell_type": "code",
   "execution_count": 8,
   "metadata": {},
   "outputs": [
    {
     "data": {
      "text/plain": [
       "course\n",
       "Mathematics         4\n",
       "Physics             2\n",
       "Computer Science    2\n",
       "Chemistry           1\n",
       "Biology             1\n",
       "Name: count, dtype: int64"
      ]
     },
     "execution_count": 8,
     "metadata": {},
     "output_type": "execute_result"
    }
   ],
   "source": [
    "student_df.course.value_counts(dropna=False)"
   ]
  },
  {
   "cell_type": "code",
   "execution_count": 9,
   "metadata": {},
   "outputs": [
    {
     "data": {
      "text/plain": [
       "course\n",
       "Mathematics         0.4\n",
       "Physics             0.2\n",
       "Computer Science    0.2\n",
       "Chemistry           0.1\n",
       "Biology             0.1\n",
       "Name: proportion, dtype: float64"
      ]
     },
     "execution_count": 9,
     "metadata": {},
     "output_type": "execute_result"
    }
   ],
   "source": [
    "student_df.course.value_counts(dropna=False, normalize=True)"
   ]
  },
  {
   "cell_type": "code",
   "execution_count": 10,
   "metadata": {},
   "outputs": [
    {
     "data": {
      "text/plain": [
       "course\n",
       "Mathematics         40.0\n",
       "Physics             20.0\n",
       "Computer Science    20.0\n",
       "Chemistry           10.0\n",
       "Biology             10.0\n",
       "Name: proportion, dtype: float64"
      ]
     },
     "execution_count": 10,
     "metadata": {},
     "output_type": "execute_result"
    }
   ],
   "source": [
    "student_df.course.value_counts(dropna=False, normalize=True)*100 # for percentage values"
   ]
  },
  {
   "cell_type": "code",
   "execution_count": 11,
   "metadata": {},
   "outputs": [
    {
     "data": {
      "text/html": [
       "<div>\n",
       "<style scoped>\n",
       "    .dataframe tbody tr th:only-of-type {\n",
       "        vertical-align: middle;\n",
       "    }\n",
       "\n",
       "    .dataframe tbody tr th {\n",
       "        vertical-align: top;\n",
       "    }\n",
       "\n",
       "    .dataframe thead th {\n",
       "        text-align: right;\n",
       "    }\n",
       "</style>\n",
       "<table border=\"1\" class=\"dataframe\">\n",
       "  <thead>\n",
       "    <tr style=\"text-align: right;\">\n",
       "      <th></th>\n",
       "      <th>roll_no</th>\n",
       "      <th>name</th>\n",
       "      <th>fathername</th>\n",
       "      <th>course</th>\n",
       "      <th>date_of_admission</th>\n",
       "      <th>fee</th>\n",
       "    </tr>\n",
       "  </thead>\n",
       "  <tbody>\n",
       "    <tr>\n",
       "      <th>0</th>\n",
       "      <td>1</td>\n",
       "      <td>Alice</td>\n",
       "      <td>John</td>\n",
       "      <td>Mathematics</td>\n",
       "      <td>2022-01-10</td>\n",
       "      <td>1500</td>\n",
       "    </tr>\n",
       "    <tr>\n",
       "      <th>1</th>\n",
       "      <td>2</td>\n",
       "      <td>Bob</td>\n",
       "      <td>Robert</td>\n",
       "      <td>Physics</td>\n",
       "      <td>2022-02-14</td>\n",
       "      <td>2000</td>\n",
       "    </tr>\n",
       "    <tr>\n",
       "      <th>2</th>\n",
       "      <td>3</td>\n",
       "      <td>Charlie</td>\n",
       "      <td>Michael</td>\n",
       "      <td>Chemistry</td>\n",
       "      <td>2022-03-18</td>\n",
       "      <td>1500</td>\n",
       "    </tr>\n",
       "    <tr>\n",
       "      <th>3</th>\n",
       "      <td>4</td>\n",
       "      <td>David</td>\n",
       "      <td>William</td>\n",
       "      <td>Mathematics</td>\n",
       "      <td>2022-04-22</td>\n",
       "      <td>2500</td>\n",
       "    </tr>\n",
       "    <tr>\n",
       "      <th>4</th>\n",
       "      <td>5</td>\n",
       "      <td>Eva</td>\n",
       "      <td>Richard</td>\n",
       "      <td>Computer Science</td>\n",
       "      <td>2022-05-26</td>\n",
       "      <td>2000</td>\n",
       "    </tr>\n",
       "    <tr>\n",
       "      <th>5</th>\n",
       "      <td>6</td>\n",
       "      <td>Frank</td>\n",
       "      <td>Joseph</td>\n",
       "      <td>Mathematics</td>\n",
       "      <td>2022-06-30</td>\n",
       "      <td>1500</td>\n",
       "    </tr>\n",
       "    <tr>\n",
       "      <th>6</th>\n",
       "      <td>7</td>\n",
       "      <td>Grace</td>\n",
       "      <td>Charles</td>\n",
       "      <td>Physics</td>\n",
       "      <td>2022-07-04</td>\n",
       "      <td>2500</td>\n",
       "    </tr>\n",
       "    <tr>\n",
       "      <th>7</th>\n",
       "      <td>8</td>\n",
       "      <td>Hannah</td>\n",
       "      <td>Thomas</td>\n",
       "      <td>Mathematics</td>\n",
       "      <td>2022-08-08</td>\n",
       "      <td>2000</td>\n",
       "    </tr>\n",
       "    <tr>\n",
       "      <th>8</th>\n",
       "      <td>9</td>\n",
       "      <td>Ivan</td>\n",
       "      <td>Christopher</td>\n",
       "      <td>Biology</td>\n",
       "      <td>2022-09-12</td>\n",
       "      <td>1500</td>\n",
       "    </tr>\n",
       "    <tr>\n",
       "      <th>9</th>\n",
       "      <td>10</td>\n",
       "      <td>Jack</td>\n",
       "      <td>Daniel</td>\n",
       "      <td>Computer Science</td>\n",
       "      <td>2022-10-16</td>\n",
       "      <td>2500</td>\n",
       "    </tr>\n",
       "  </tbody>\n",
       "</table>\n",
       "</div>"
      ],
      "text/plain": [
       "   roll_no     name   fathername            course date_of_admission   fee\n",
       "0        1    Alice         John       Mathematics        2022-01-10  1500\n",
       "1        2      Bob       Robert           Physics        2022-02-14  2000\n",
       "2        3  Charlie      Michael         Chemistry        2022-03-18  1500\n",
       "3        4    David      William       Mathematics        2022-04-22  2500\n",
       "4        5      Eva      Richard  Computer Science        2022-05-26  2000\n",
       "5        6    Frank       Joseph       Mathematics        2022-06-30  1500\n",
       "6        7    Grace      Charles           Physics        2022-07-04  2500\n",
       "7        8   Hannah       Thomas       Mathematics        2022-08-08  2000\n",
       "8        9     Ivan  Christopher           Biology        2022-09-12  1500\n",
       "9       10     Jack       Daniel  Computer Science        2022-10-16  2500"
      ]
     },
     "execution_count": 11,
     "metadata": {},
     "output_type": "execute_result"
    }
   ],
   "source": [
    "student_df"
   ]
  },
  {
   "cell_type": "code",
   "execution_count": 12,
   "metadata": {},
   "outputs": [
    {
     "name": "stdout",
     "output_type": "stream",
     "text": [
      "          date   fee\n",
      "0   2024-06-12  1228\n",
      "1   2024-01-07  2518\n",
      "2   2024-03-11  1501\n",
      "3   2024-02-27  1285\n",
      "4   2024-07-07  1209\n",
      "..         ...   ...\n",
      "995 2024-06-04  2902\n",
      "996 2024-06-17  2698\n",
      "997 2024-06-26  1547\n",
      "998 2024-01-08  1369\n",
      "999 2024-03-10  2439\n",
      "\n",
      "[1000 rows x 2 columns]\n"
     ]
    }
   ],
   "source": [
    "import pandas as pd\n",
    "import numpy as np\n",
    "from datetime import datetime, timedelta\n",
    "import pandera as pa\n",
    "from pandera.typing import DataFrame, Series\n",
    "import random\n",
    "\n",
    "# Define the schema using pandera\n",
    "class FeeTransactionSchema(pa.SchemaModel):\n",
    "    date: Series[datetime] = pa.Field()\n",
    "    fee: Series[int] = pa.Field(ge=0)\n",
    "\n",
    "    class Config:\n",
    "        coerce = True\n",
    "\n",
    "# Generate random dates within the year 2023\n",
    "def random_date(start: datetime, end: datetime) -> datetime:\n",
    "    return start + timedelta(days=random.randint(0, (end - start).days))\n",
    "\n",
    "# Define the start and end dates for the year 2024\n",
    "current_year = datetime.now().year\n",
    "start_date = datetime(current_year, 1, 1)\n",
    "end_date = datetime.now()\n",
    "\n",
    "# Generate random fee transactions data\n",
    "num_transactions = 1000\n",
    "random.seed(42)  # For reproducibility\n",
    "fee_transactions = [\n",
    "    {\"date\": random_date(start_date, end_date), \"fee\": random.randint(1000, 3000)}\n",
    "    for _ in range(num_transactions)\n",
    "]\n",
    "\n",
    "# Convert the list of fee transactions to a DataFrame\n",
    "fee_transactions_df = pd.DataFrame(fee_transactions)\n",
    "\n",
    "# Validate the DataFrame\n",
    "validated_fee_transactions_df: DataFrame[FeeTransactionSchema] = FeeTransactionSchema.validate(fee_transactions_df)\n",
    "\n",
    "# Display the validated DataFrame\n",
    "print(validated_fee_transactions_df)\n"
   ]
  },
  {
   "cell_type": "code",
   "execution_count": 13,
   "metadata": {},
   "outputs": [
    {
     "data": {
      "text/plain": [
       "0      (1000, 2000]\n",
       "1      (2000, 3000]\n",
       "2      (1000, 2000]\n",
       "3      (1000, 2000]\n",
       "4      (1000, 2000]\n",
       "           ...     \n",
       "995    (2000, 3000]\n",
       "996    (2000, 3000]\n",
       "997    (1000, 2000]\n",
       "998    (1000, 2000]\n",
       "999    (2000, 3000]\n",
       "Name: fee, Length: 1000, dtype: category\n",
       "Categories (6, interval[int64, right]): [(1, 500] < (500, 1000] < (1000, 2000] < (2000, 3000] < (3000, 4000] < (4000, 5000]]"
      ]
     },
     "execution_count": 13,
     "metadata": {},
     "output_type": "execute_result"
    }
   ],
   "source": [
    "pd.cut(fee_transactions_df.fee,\n",
    "       [1,500,1000,2000,3000,4000,5000])"
   ]
  },
  {
   "cell_type": "code",
   "execution_count": 14,
   "metadata": {},
   "outputs": [
    {
     "data": {
      "text/plain": [
       "fee\n",
       "(1000, 2000]    515\n",
       "(2000, 3000]    485\n",
       "(1, 500]          0\n",
       "(500, 1000]       0\n",
       "(3000, 4000]      0\n",
       "(4000, 5000]      0\n",
       "Name: count, dtype: int64"
      ]
     },
     "execution_count": 14,
     "metadata": {},
     "output_type": "execute_result"
    }
   ],
   "source": [
    "pd.cut(fee_transactions_df.fee,\n",
    "       [1,500,1000,2000,3000,4000,5000]).value_counts()"
   ]
  },
  {
   "cell_type": "code",
   "execution_count": 15,
   "metadata": {},
   "outputs": [
    {
     "data": {
      "text/plain": [
       "fee\n",
       "(1000, 2000]    51.5\n",
       "(2000, 3000]    48.5\n",
       "(1, 500]         0.0\n",
       "(500, 1000]      0.0\n",
       "(3000, 4000]     0.0\n",
       "(4000, 5000]     0.0\n",
       "Name: proportion, dtype: float64"
      ]
     },
     "execution_count": 15,
     "metadata": {},
     "output_type": "execute_result"
    }
   ],
   "source": [
    "pd.cut(fee_transactions_df.fee,\n",
    "       [1,500,1000,2000,3000,4000,5000]).value_counts(normalize=True)*100"
   ]
  },
  {
   "cell_type": "code",
   "execution_count": 16,
   "metadata": {},
   "outputs": [
    {
     "data": {
      "text/plain": [
       "0                   NaN\n",
       "1      (1969.0, 2794.0]\n",
       "2                   NaN\n",
       "3                   NaN\n",
       "4                   NaN\n",
       "             ...       \n",
       "995    (2794.0, 2999.0]\n",
       "996    (1969.0, 2794.0]\n",
       "997                 NaN\n",
       "998                 NaN\n",
       "999    (1969.0, 2794.0]\n",
       "Name: fee, Length: 1000, dtype: category\n",
       "Categories (3, interval[float64, right]): [(1600.699, 1969.0] < (1969.0, 2794.0] < (2794.0, 2999.0]]"
      ]
     },
     "execution_count": 16,
     "metadata": {},
     "output_type": "execute_result"
    }
   ],
   "source": [
    "pd.qcut(fee_transactions_df.fee, [0.3, 0.5, 0.9,1])"
   ]
  },
  {
   "cell_type": "code",
   "execution_count": 17,
   "metadata": {},
   "outputs": [
    {
     "data": {
      "text/plain": [
       "fee\n",
       "(1969.0, 2794.0]      400\n",
       "(1003.999, 1600.7]    300\n",
       "(1600.7, 1969.0]      201\n",
       "(2794.0, 2999.0]       99\n",
       "Name: count, dtype: int64"
      ]
     },
     "execution_count": 17,
     "metadata": {},
     "output_type": "execute_result"
    }
   ],
   "source": [
    "pd.qcut(fee_transactions_df.fee, [0, 0.3, 0.5, 0.9, 1]).value_counts()"
   ]
  },
  {
   "cell_type": "code",
   "execution_count": 18,
   "metadata": {},
   "outputs": [
    {
     "data": {
      "text/plain": [
       "fee\n",
       "(1969.0, 2794.0]      40.0\n",
       "(1003.999, 1600.7]    30.0\n",
       "(1600.7, 1969.0]      20.1\n",
       "(2794.0, 2999.0]       9.9\n",
       "Name: proportion, dtype: float64"
      ]
     },
     "execution_count": 18,
     "metadata": {},
     "output_type": "execute_result"
    }
   ],
   "source": [
    "pd.qcut(fee_transactions_df.fee, [0, 0.3, 0.5, 0.9, 1]).value_counts(normalize=True)*100"
   ]
  },
  {
   "cell_type": "code",
   "execution_count": 19,
   "metadata": {},
   "outputs": [
    {
     "data": {
      "text/html": [
       "<div>\n",
       "<style scoped>\n",
       "    .dataframe tbody tr th:only-of-type {\n",
       "        vertical-align: middle;\n",
       "    }\n",
       "\n",
       "    .dataframe tbody tr th {\n",
       "        vertical-align: top;\n",
       "    }\n",
       "\n",
       "    .dataframe thead th {\n",
       "        text-align: right;\n",
       "    }\n",
       "</style>\n",
       "<table border=\"1\" class=\"dataframe\">\n",
       "  <thead>\n",
       "    <tr style=\"text-align: right;\">\n",
       "      <th></th>\n",
       "      <th>roll_no</th>\n",
       "      <th>name</th>\n",
       "      <th>fathername</th>\n",
       "      <th>course</th>\n",
       "      <th>date_of_admission</th>\n",
       "      <th>fee</th>\n",
       "    </tr>\n",
       "  </thead>\n",
       "  <tbody>\n",
       "    <tr>\n",
       "      <th>0</th>\n",
       "      <td>1</td>\n",
       "      <td>Alice</td>\n",
       "      <td>John</td>\n",
       "      <td>Mathematics</td>\n",
       "      <td>2022-01-10</td>\n",
       "      <td>1500</td>\n",
       "    </tr>\n",
       "    <tr>\n",
       "      <th>1</th>\n",
       "      <td>2</td>\n",
       "      <td>Bob</td>\n",
       "      <td>Robert</td>\n",
       "      <td>Physics</td>\n",
       "      <td>2022-02-14</td>\n",
       "      <td>2000</td>\n",
       "    </tr>\n",
       "    <tr>\n",
       "      <th>2</th>\n",
       "      <td>3</td>\n",
       "      <td>Charlie</td>\n",
       "      <td>Michael</td>\n",
       "      <td>Chemistry</td>\n",
       "      <td>2022-03-18</td>\n",
       "      <td>1500</td>\n",
       "    </tr>\n",
       "    <tr>\n",
       "      <th>3</th>\n",
       "      <td>4</td>\n",
       "      <td>David</td>\n",
       "      <td>William</td>\n",
       "      <td>Mathematics</td>\n",
       "      <td>2022-04-22</td>\n",
       "      <td>2500</td>\n",
       "    </tr>\n",
       "    <tr>\n",
       "      <th>4</th>\n",
       "      <td>5</td>\n",
       "      <td>Eva</td>\n",
       "      <td>Richard</td>\n",
       "      <td>Computer Science</td>\n",
       "      <td>2022-05-26</td>\n",
       "      <td>2000</td>\n",
       "    </tr>\n",
       "  </tbody>\n",
       "</table>\n",
       "</div>"
      ],
      "text/plain": [
       "   roll_no     name fathername            course date_of_admission   fee\n",
       "0        1    Alice       John       Mathematics        2022-01-10  1500\n",
       "1        2      Bob     Robert           Physics        2022-02-14  2000\n",
       "2        3  Charlie    Michael         Chemistry        2022-03-18  1500\n",
       "3        4    David    William       Mathematics        2022-04-22  2500\n",
       "4        5      Eva    Richard  Computer Science        2022-05-26  2000"
      ]
     },
     "execution_count": 19,
     "metadata": {},
     "output_type": "execute_result"
    }
   ],
   "source": [
    "student_df.head()"
   ]
  },
  {
   "cell_type": "markdown",
   "metadata": {},
   "source": [
    "# Filter on columns\n",
    " * &, |, ~ \n",
    " Syntax:\n",
    "'''\n",
    "DataFrame[(dataframe.column1 == 'value') & (datframe.column2 == 'value2)]\n",
    "'''\n",
    " * string column\n",
    " * numeric column\n",
    " * datetime column"
   ]
  },
  {
   "cell_type": "code",
   "execution_count": 20,
   "metadata": {},
   "outputs": [
    {
     "data": {
      "text/plain": [
       "0    False\n",
       "1     True\n",
       "2    False\n",
       "3    False\n",
       "4    False\n",
       "5    False\n",
       "6     True\n",
       "7    False\n",
       "8    False\n",
       "9    False\n",
       "Name: course, dtype: bool"
      ]
     },
     "execution_count": 20,
     "metadata": {},
     "output_type": "execute_result"
    }
   ],
   "source": [
    "student_df['course'] == 'Physics'"
   ]
  },
  {
   "cell_type": "code",
   "execution_count": 21,
   "metadata": {},
   "outputs": [
    {
     "data": {
      "text/html": [
       "<div>\n",
       "<style scoped>\n",
       "    .dataframe tbody tr th:only-of-type {\n",
       "        vertical-align: middle;\n",
       "    }\n",
       "\n",
       "    .dataframe tbody tr th {\n",
       "        vertical-align: top;\n",
       "    }\n",
       "\n",
       "    .dataframe thead th {\n",
       "        text-align: right;\n",
       "    }\n",
       "</style>\n",
       "<table border=\"1\" class=\"dataframe\">\n",
       "  <thead>\n",
       "    <tr style=\"text-align: right;\">\n",
       "      <th></th>\n",
       "      <th>roll_no</th>\n",
       "      <th>name</th>\n",
       "      <th>fathername</th>\n",
       "      <th>course</th>\n",
       "      <th>date_of_admission</th>\n",
       "      <th>fee</th>\n",
       "    </tr>\n",
       "  </thead>\n",
       "  <tbody>\n",
       "    <tr>\n",
       "      <th>0</th>\n",
       "      <td>1</td>\n",
       "      <td>Alice</td>\n",
       "      <td>John</td>\n",
       "      <td>Mathematics</td>\n",
       "      <td>2022-01-10</td>\n",
       "      <td>1500</td>\n",
       "    </tr>\n",
       "    <tr>\n",
       "      <th>1</th>\n",
       "      <td>2</td>\n",
       "      <td>Bob</td>\n",
       "      <td>Robert</td>\n",
       "      <td>Physics</td>\n",
       "      <td>2022-02-14</td>\n",
       "      <td>2000</td>\n",
       "    </tr>\n",
       "    <tr>\n",
       "      <th>2</th>\n",
       "      <td>3</td>\n",
       "      <td>Charlie</td>\n",
       "      <td>Michael</td>\n",
       "      <td>Chemistry</td>\n",
       "      <td>2022-03-18</td>\n",
       "      <td>1500</td>\n",
       "    </tr>\n",
       "    <tr>\n",
       "      <th>3</th>\n",
       "      <td>4</td>\n",
       "      <td>David</td>\n",
       "      <td>William</td>\n",
       "      <td>Mathematics</td>\n",
       "      <td>2022-04-22</td>\n",
       "      <td>2500</td>\n",
       "    </tr>\n",
       "    <tr>\n",
       "      <th>4</th>\n",
       "      <td>5</td>\n",
       "      <td>Eva</td>\n",
       "      <td>Richard</td>\n",
       "      <td>Computer Science</td>\n",
       "      <td>2022-05-26</td>\n",
       "      <td>2000</td>\n",
       "    </tr>\n",
       "  </tbody>\n",
       "</table>\n",
       "</div>"
      ],
      "text/plain": [
       "   roll_no     name fathername            course date_of_admission   fee\n",
       "0        1    Alice       John       Mathematics        2022-01-10  1500\n",
       "1        2      Bob     Robert           Physics        2022-02-14  2000\n",
       "2        3  Charlie    Michael         Chemistry        2022-03-18  1500\n",
       "3        4    David    William       Mathematics        2022-04-22  2500\n",
       "4        5      Eva    Richard  Computer Science        2022-05-26  2000"
      ]
     },
     "execution_count": 21,
     "metadata": {},
     "output_type": "execute_result"
    }
   ],
   "source": [
    "student_df.head()"
   ]
  },
  {
   "cell_type": "code",
   "execution_count": 22,
   "metadata": {},
   "outputs": [
    {
     "data": {
      "text/plain": [
       "0         mathematics\n",
       "1             physics\n",
       "2           chemistry\n",
       "3         mathematics\n",
       "4    computer science\n",
       "5         mathematics\n",
       "6             physics\n",
       "7         mathematics\n",
       "8             biology\n",
       "9    computer science\n",
       "Name: course, dtype: object"
      ]
     },
     "execution_count": 22,
     "metadata": {},
     "output_type": "execute_result"
    }
   ],
   "source": [
    "student_df['course'].str.lower()"
   ]
  },
  {
   "cell_type": "code",
   "execution_count": 23,
   "metadata": {},
   "outputs": [
    {
     "data": {
      "text/plain": [
       "0    False\n",
       "1     True\n",
       "2    False\n",
       "3    False\n",
       "4    False\n",
       "5    False\n",
       "6     True\n",
       "7    False\n",
       "8    False\n",
       "9    False\n",
       "Name: course, dtype: bool"
      ]
     },
     "execution_count": 23,
     "metadata": {},
     "output_type": "execute_result"
    }
   ],
   "source": [
    "student_df['course'].str.lower() == 'physics'"
   ]
  },
  {
   "cell_type": "code",
   "execution_count": 24,
   "metadata": {},
   "outputs": [
    {
     "data": {
      "text/html": [
       "<div>\n",
       "<style scoped>\n",
       "    .dataframe tbody tr th:only-of-type {\n",
       "        vertical-align: middle;\n",
       "    }\n",
       "\n",
       "    .dataframe tbody tr th {\n",
       "        vertical-align: top;\n",
       "    }\n",
       "\n",
       "    .dataframe thead th {\n",
       "        text-align: right;\n",
       "    }\n",
       "</style>\n",
       "<table border=\"1\" class=\"dataframe\">\n",
       "  <thead>\n",
       "    <tr style=\"text-align: right;\">\n",
       "      <th></th>\n",
       "      <th>roll_no</th>\n",
       "      <th>name</th>\n",
       "      <th>fathername</th>\n",
       "      <th>course</th>\n",
       "      <th>date_of_admission</th>\n",
       "      <th>fee</th>\n",
       "    </tr>\n",
       "  </thead>\n",
       "  <tbody>\n",
       "    <tr>\n",
       "      <th>1</th>\n",
       "      <td>2</td>\n",
       "      <td>Bob</td>\n",
       "      <td>Robert</td>\n",
       "      <td>Physics</td>\n",
       "      <td>2022-02-14</td>\n",
       "      <td>2000</td>\n",
       "    </tr>\n",
       "    <tr>\n",
       "      <th>6</th>\n",
       "      <td>7</td>\n",
       "      <td>Grace</td>\n",
       "      <td>Charles</td>\n",
       "      <td>Physics</td>\n",
       "      <td>2022-07-04</td>\n",
       "      <td>2500</td>\n",
       "    </tr>\n",
       "  </tbody>\n",
       "</table>\n",
       "</div>"
      ],
      "text/plain": [
       "   roll_no   name fathername   course date_of_admission   fee\n",
       "1        2    Bob     Robert  Physics        2022-02-14  2000\n",
       "6        7  Grace    Charles  Physics        2022-07-04  2500"
      ]
     },
     "execution_count": 24,
     "metadata": {},
     "output_type": "execute_result"
    }
   ],
   "source": [
    "student_df[student_df['course'].str.lower() == 'physics']"
   ]
  },
  {
   "cell_type": "code",
   "execution_count": 25,
   "metadata": {},
   "outputs": [
    {
     "data": {
      "text/plain": [
       "0     True\n",
       "1     True\n",
       "2    False\n",
       "3     True\n",
       "4    False\n",
       "5     True\n",
       "6     True\n",
       "7     True\n",
       "8    False\n",
       "9    False\n",
       "Name: course, dtype: bool"
      ]
     },
     "execution_count": 25,
     "metadata": {},
     "output_type": "execute_result"
    }
   ],
   "source": [
    "student_df['course'].str.lower() .str.contains('cs')"
   ]
  },
  {
   "cell_type": "code",
   "execution_count": 26,
   "metadata": {},
   "outputs": [
    {
     "data": {
      "text/html": [
       "<div>\n",
       "<style scoped>\n",
       "    .dataframe tbody tr th:only-of-type {\n",
       "        vertical-align: middle;\n",
       "    }\n",
       "\n",
       "    .dataframe tbody tr th {\n",
       "        vertical-align: top;\n",
       "    }\n",
       "\n",
       "    .dataframe thead th {\n",
       "        text-align: right;\n",
       "    }\n",
       "</style>\n",
       "<table border=\"1\" class=\"dataframe\">\n",
       "  <thead>\n",
       "    <tr style=\"text-align: right;\">\n",
       "      <th></th>\n",
       "      <th>roll_no</th>\n",
       "      <th>name</th>\n",
       "      <th>fathername</th>\n",
       "      <th>course</th>\n",
       "      <th>date_of_admission</th>\n",
       "      <th>fee</th>\n",
       "    </tr>\n",
       "  </thead>\n",
       "  <tbody>\n",
       "    <tr>\n",
       "      <th>0</th>\n",
       "      <td>1</td>\n",
       "      <td>Alice</td>\n",
       "      <td>John</td>\n",
       "      <td>Mathematics</td>\n",
       "      <td>2022-01-10</td>\n",
       "      <td>1500</td>\n",
       "    </tr>\n",
       "    <tr>\n",
       "      <th>1</th>\n",
       "      <td>2</td>\n",
       "      <td>Bob</td>\n",
       "      <td>Robert</td>\n",
       "      <td>Physics</td>\n",
       "      <td>2022-02-14</td>\n",
       "      <td>2000</td>\n",
       "    </tr>\n",
       "    <tr>\n",
       "      <th>3</th>\n",
       "      <td>4</td>\n",
       "      <td>David</td>\n",
       "      <td>William</td>\n",
       "      <td>Mathematics</td>\n",
       "      <td>2022-04-22</td>\n",
       "      <td>2500</td>\n",
       "    </tr>\n",
       "    <tr>\n",
       "      <th>5</th>\n",
       "      <td>6</td>\n",
       "      <td>Frank</td>\n",
       "      <td>Joseph</td>\n",
       "      <td>Mathematics</td>\n",
       "      <td>2022-06-30</td>\n",
       "      <td>1500</td>\n",
       "    </tr>\n",
       "    <tr>\n",
       "      <th>6</th>\n",
       "      <td>7</td>\n",
       "      <td>Grace</td>\n",
       "      <td>Charles</td>\n",
       "      <td>Physics</td>\n",
       "      <td>2022-07-04</td>\n",
       "      <td>2500</td>\n",
       "    </tr>\n",
       "    <tr>\n",
       "      <th>7</th>\n",
       "      <td>8</td>\n",
       "      <td>Hannah</td>\n",
       "      <td>Thomas</td>\n",
       "      <td>Mathematics</td>\n",
       "      <td>2022-08-08</td>\n",
       "      <td>2000</td>\n",
       "    </tr>\n",
       "  </tbody>\n",
       "</table>\n",
       "</div>"
      ],
      "text/plain": [
       "   roll_no    name fathername       course date_of_admission   fee\n",
       "0        1   Alice       John  Mathematics        2022-01-10  1500\n",
       "1        2     Bob     Robert      Physics        2022-02-14  2000\n",
       "3        4   David    William  Mathematics        2022-04-22  2500\n",
       "5        6   Frank     Joseph  Mathematics        2022-06-30  1500\n",
       "6        7   Grace    Charles      Physics        2022-07-04  2500\n",
       "7        8  Hannah     Thomas  Mathematics        2022-08-08  2000"
      ]
     },
     "execution_count": 26,
     "metadata": {},
     "output_type": "execute_result"
    }
   ],
   "source": [
    "student_df[student_df['course'].str.lower() .str.contains('cs')]"
   ]
  },
  {
   "cell_type": "code",
   "execution_count": 27,
   "metadata": {},
   "outputs": [
    {
     "data": {
      "text/html": [
       "<div>\n",
       "<style scoped>\n",
       "    .dataframe tbody tr th:only-of-type {\n",
       "        vertical-align: middle;\n",
       "    }\n",
       "\n",
       "    .dataframe tbody tr th {\n",
       "        vertical-align: top;\n",
       "    }\n",
       "\n",
       "    .dataframe thead th {\n",
       "        text-align: right;\n",
       "    }\n",
       "</style>\n",
       "<table border=\"1\" class=\"dataframe\">\n",
       "  <thead>\n",
       "    <tr style=\"text-align: right;\">\n",
       "      <th></th>\n",
       "      <th>roll_no</th>\n",
       "      <th>name</th>\n",
       "      <th>fathername</th>\n",
       "      <th>course</th>\n",
       "      <th>date_of_admission</th>\n",
       "      <th>fee</th>\n",
       "    </tr>\n",
       "  </thead>\n",
       "  <tbody>\n",
       "    <tr>\n",
       "      <th>4</th>\n",
       "      <td>5</td>\n",
       "      <td>Eva</td>\n",
       "      <td>Richard</td>\n",
       "      <td>Computer Science</td>\n",
       "      <td>2022-05-26</td>\n",
       "      <td>2000</td>\n",
       "    </tr>\n",
       "    <tr>\n",
       "      <th>9</th>\n",
       "      <td>10</td>\n",
       "      <td>Jack</td>\n",
       "      <td>Daniel</td>\n",
       "      <td>Computer Science</td>\n",
       "      <td>2022-10-16</td>\n",
       "      <td>2500</td>\n",
       "    </tr>\n",
       "  </tbody>\n",
       "</table>\n",
       "</div>"
      ],
      "text/plain": [
       "   roll_no  name fathername            course date_of_admission   fee\n",
       "4        5   Eva    Richard  Computer Science        2022-05-26  2000\n",
       "9       10  Jack     Daniel  Computer Science        2022-10-16  2500"
      ]
     },
     "execution_count": 27,
     "metadata": {},
     "output_type": "execute_result"
    }
   ],
   "source": [
    "student_df[student_df['course'].str.lower() .str.contains('sc')]"
   ]
  },
  {
   "cell_type": "code",
   "execution_count": 28,
   "metadata": {},
   "outputs": [
    {
     "data": {
      "text/html": [
       "<div>\n",
       "<style scoped>\n",
       "    .dataframe tbody tr th:only-of-type {\n",
       "        vertical-align: middle;\n",
       "    }\n",
       "\n",
       "    .dataframe tbody tr th {\n",
       "        vertical-align: top;\n",
       "    }\n",
       "\n",
       "    .dataframe thead th {\n",
       "        text-align: right;\n",
       "    }\n",
       "</style>\n",
       "<table border=\"1\" class=\"dataframe\">\n",
       "  <thead>\n",
       "    <tr style=\"text-align: right;\">\n",
       "      <th></th>\n",
       "      <th>roll_no</th>\n",
       "      <th>name</th>\n",
       "      <th>fathername</th>\n",
       "      <th>course</th>\n",
       "      <th>date_of_admission</th>\n",
       "      <th>fee</th>\n",
       "    </tr>\n",
       "  </thead>\n",
       "  <tbody>\n",
       "    <tr>\n",
       "      <th>1</th>\n",
       "      <td>2</td>\n",
       "      <td>Bob</td>\n",
       "      <td>Robert</td>\n",
       "      <td>Physics</td>\n",
       "      <td>2022-02-14</td>\n",
       "      <td>2000</td>\n",
       "    </tr>\n",
       "    <tr>\n",
       "      <th>3</th>\n",
       "      <td>4</td>\n",
       "      <td>David</td>\n",
       "      <td>William</td>\n",
       "      <td>Mathematics</td>\n",
       "      <td>2022-04-22</td>\n",
       "      <td>2500</td>\n",
       "    </tr>\n",
       "    <tr>\n",
       "      <th>6</th>\n",
       "      <td>7</td>\n",
       "      <td>Grace</td>\n",
       "      <td>Charles</td>\n",
       "      <td>Physics</td>\n",
       "      <td>2022-07-04</td>\n",
       "      <td>2500</td>\n",
       "    </tr>\n",
       "    <tr>\n",
       "      <th>7</th>\n",
       "      <td>8</td>\n",
       "      <td>Hannah</td>\n",
       "      <td>Thomas</td>\n",
       "      <td>Mathematics</td>\n",
       "      <td>2022-08-08</td>\n",
       "      <td>2000</td>\n",
       "    </tr>\n",
       "  </tbody>\n",
       "</table>\n",
       "</div>"
      ],
      "text/plain": [
       "   roll_no    name fathername       course date_of_admission   fee\n",
       "1        2     Bob     Robert      Physics        2022-02-14  2000\n",
       "3        4   David    William  Mathematics        2022-04-22  2500\n",
       "6        7   Grace    Charles      Physics        2022-07-04  2500\n",
       "7        8  Hannah     Thomas  Mathematics        2022-08-08  2000"
      ]
     },
     "execution_count": 28,
     "metadata": {},
     "output_type": "execute_result"
    }
   ],
   "source": [
    "student_df[student_df['course'].str.lower() .str.contains('cs') & (student_df['fee']>=2000)]"
   ]
  },
  {
   "cell_type": "code",
   "execution_count": 29,
   "metadata": {},
   "outputs": [
    {
     "data": {
      "text/plain": [
       "0    False\n",
       "1    False\n",
       "2    False\n",
       "3    False\n",
       "4     True\n",
       "5    False\n",
       "6    False\n",
       "7    False\n",
       "8    False\n",
       "9     True\n",
       "Name: course, dtype: bool"
      ]
     },
     "execution_count": 29,
     "metadata": {},
     "output_type": "execute_result"
    }
   ],
   "source": [
    "student_df['course'].str.lower() .str.contains('cs')\n",
    "student_df['course'].str.lower() .str.contains('sc')"
   ]
  },
  {
   "cell_type": "code",
   "execution_count": 30,
   "metadata": {},
   "outputs": [
    {
     "data": {
      "text/plain": [
       "0     True\n",
       "1    False\n",
       "2    False\n",
       "3     True\n",
       "4    False\n",
       "5     True\n",
       "6    False\n",
       "7     True\n",
       "8    False\n",
       "9    False\n",
       "Name: course, dtype: bool"
      ]
     },
     "execution_count": 30,
     "metadata": {},
     "output_type": "execute_result"
    }
   ],
   "source": [
    "student_df['course'].str.lower() .str.contains('cs') & student_df['course'].str.lower() .str.contains('ma')"
   ]
  },
  {
   "cell_type": "code",
   "execution_count": 31,
   "metadata": {},
   "outputs": [
    {
     "data": {
      "text/plain": [
       "0    False\n",
       "1    False\n",
       "2    False\n",
       "3    False\n",
       "4    False\n",
       "5    False\n",
       "6    False\n",
       "7    False\n",
       "8    False\n",
       "9    False\n",
       "Name: course, dtype: bool"
      ]
     },
     "execution_count": 31,
     "metadata": {},
     "output_type": "execute_result"
    }
   ],
   "source": [
    "student_df['course'].str.lower() .str.contains('cs') & student_df['course'].str.lower() .str.contains('sc')"
   ]
  },
  {
   "cell_type": "code",
   "execution_count": 32,
   "metadata": {},
   "outputs": [
    {
     "data": {
      "text/plain": [
       "0     True\n",
       "1     True\n",
       "2    False\n",
       "3     True\n",
       "4     True\n",
       "5     True\n",
       "6     True\n",
       "7     True\n",
       "8    False\n",
       "9     True\n",
       "Name: course, dtype: bool"
      ]
     },
     "execution_count": 32,
     "metadata": {},
     "output_type": "execute_result"
    }
   ],
   "source": [
    "student_df['course'].str.lower() .str.contains('cs') | student_df['course'].str.lower() .str.contains('sc')"
   ]
  },
  {
   "cell_type": "code",
   "execution_count": 33,
   "metadata": {},
   "outputs": [
    {
     "data": {
      "text/html": [
       "<div>\n",
       "<style scoped>\n",
       "    .dataframe tbody tr th:only-of-type {\n",
       "        vertical-align: middle;\n",
       "    }\n",
       "\n",
       "    .dataframe tbody tr th {\n",
       "        vertical-align: top;\n",
       "    }\n",
       "\n",
       "    .dataframe thead th {\n",
       "        text-align: right;\n",
       "    }\n",
       "</style>\n",
       "<table border=\"1\" class=\"dataframe\">\n",
       "  <thead>\n",
       "    <tr style=\"text-align: right;\">\n",
       "      <th></th>\n",
       "      <th>roll_no</th>\n",
       "      <th>name</th>\n",
       "      <th>fathername</th>\n",
       "      <th>course</th>\n",
       "      <th>date_of_admission</th>\n",
       "      <th>fee</th>\n",
       "    </tr>\n",
       "  </thead>\n",
       "  <tbody>\n",
       "    <tr>\n",
       "      <th>0</th>\n",
       "      <td>1</td>\n",
       "      <td>Alice</td>\n",
       "      <td>John</td>\n",
       "      <td>Mathematics</td>\n",
       "      <td>2022-01-10</td>\n",
       "      <td>1500</td>\n",
       "    </tr>\n",
       "    <tr>\n",
       "      <th>1</th>\n",
       "      <td>2</td>\n",
       "      <td>Bob</td>\n",
       "      <td>Robert</td>\n",
       "      <td>Physics</td>\n",
       "      <td>2022-02-14</td>\n",
       "      <td>2000</td>\n",
       "    </tr>\n",
       "    <tr>\n",
       "      <th>3</th>\n",
       "      <td>4</td>\n",
       "      <td>David</td>\n",
       "      <td>William</td>\n",
       "      <td>Mathematics</td>\n",
       "      <td>2022-04-22</td>\n",
       "      <td>2500</td>\n",
       "    </tr>\n",
       "    <tr>\n",
       "      <th>4</th>\n",
       "      <td>5</td>\n",
       "      <td>Eva</td>\n",
       "      <td>Richard</td>\n",
       "      <td>Computer Science</td>\n",
       "      <td>2022-05-26</td>\n",
       "      <td>2000</td>\n",
       "    </tr>\n",
       "    <tr>\n",
       "      <th>5</th>\n",
       "      <td>6</td>\n",
       "      <td>Frank</td>\n",
       "      <td>Joseph</td>\n",
       "      <td>Mathematics</td>\n",
       "      <td>2022-06-30</td>\n",
       "      <td>1500</td>\n",
       "    </tr>\n",
       "    <tr>\n",
       "      <th>6</th>\n",
       "      <td>7</td>\n",
       "      <td>Grace</td>\n",
       "      <td>Charles</td>\n",
       "      <td>Physics</td>\n",
       "      <td>2022-07-04</td>\n",
       "      <td>2500</td>\n",
       "    </tr>\n",
       "    <tr>\n",
       "      <th>7</th>\n",
       "      <td>8</td>\n",
       "      <td>Hannah</td>\n",
       "      <td>Thomas</td>\n",
       "      <td>Mathematics</td>\n",
       "      <td>2022-08-08</td>\n",
       "      <td>2000</td>\n",
       "    </tr>\n",
       "    <tr>\n",
       "      <th>9</th>\n",
       "      <td>10</td>\n",
       "      <td>Jack</td>\n",
       "      <td>Daniel</td>\n",
       "      <td>Computer Science</td>\n",
       "      <td>2022-10-16</td>\n",
       "      <td>2500</td>\n",
       "    </tr>\n",
       "  </tbody>\n",
       "</table>\n",
       "</div>"
      ],
      "text/plain": [
       "   roll_no    name fathername            course date_of_admission   fee\n",
       "0        1   Alice       John       Mathematics        2022-01-10  1500\n",
       "1        2     Bob     Robert           Physics        2022-02-14  2000\n",
       "3        4   David    William       Mathematics        2022-04-22  2500\n",
       "4        5     Eva    Richard  Computer Science        2022-05-26  2000\n",
       "5        6   Frank     Joseph       Mathematics        2022-06-30  1500\n",
       "6        7   Grace    Charles           Physics        2022-07-04  2500\n",
       "7        8  Hannah     Thomas       Mathematics        2022-08-08  2000\n",
       "9       10    Jack     Daniel  Computer Science        2022-10-16  2500"
      ]
     },
     "execution_count": 33,
     "metadata": {},
     "output_type": "execute_result"
    }
   ],
   "source": [
    "student_df[student_df['course'].str.lower().str.contains('cs') | student_df['course'].str.lower() .str.contains('sc')]"
   ]
  }
 ],
 "metadata": {
  "kernelspec": {
   "display_name": "Python 3",
   "language": "python",
   "name": "python3"
  },
  "language_info": {
   "codemirror_mode": {
    "name": "ipython",
    "version": 3
   },
   "file_extension": ".py",
   "mimetype": "text/x-python",
   "name": "python",
   "nbconvert_exporter": "python",
   "pygments_lexer": "ipython3",
   "version": "3.12.2"
  }
 },
 "nbformat": 4,
 "nbformat_minor": 2
}
