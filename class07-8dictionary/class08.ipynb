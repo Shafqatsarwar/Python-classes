{
 "cells": [
  {
   "cell_type": "code",
   "execution_count": 1,
   "metadata": {},
   "outputs": [
    {
     "name": "stdout",
     "output_type": "stream",
     "text": [
      "['clear', 'copy', 'fromkeys', 'get', 'items', 'keys', 'pop', 'popitem', 'setdefault', 'update', 'values']\n"
     ]
    }
   ],
   "source": [
    "from typing import Dict, Union, Optional\n",
    "import pprint\n",
    "# itteration\n",
    "Key= Union [int,str] # creat custom type\n",
    "Value = Union [int, str, list, dict, tuple, set]\n",
    "data : Dict[Key, Value] = {\n",
    "                        'fname':'khan', \n",
    "                        'name':'Sarwar', \n",
    "                        'education':'MCS',}\n",
    "\n",
    "methods : list[str] = [m for m in dir(data) if \"_\" not in m]\n",
    "print (methods)"
   ]
  },
  {
   "cell_type": "markdown",
   "metadata": {},
   "source": [
    "# Method \n",
    "methods : list[str] = [m for m in dir(data) if \"_\" not in m]\n",
    "\n",
    "['clear', 'copy', 'fromkeys', 'get', 'items', 'keys', 'pop', 'popitem', 'setdefault', 'update', 'values']"
   ]
  },
  {
   "cell_type": "code",
   "execution_count": 6,
   "metadata": {},
   "outputs": [
    {
     "name": "stdout",
     "output_type": "stream",
     "text": [
      "Before {'name': 'khan', 'fname': 'Sarwar', 'education': 'MCS'}\n",
      "After {}\n"
     ]
    }
   ],
   "source": [
    "from typing import Dict, Union, Optional\n",
    "import pprint\n",
    "# itteration\n",
    "Key= Union [int,str] # creat custom type\n",
    "Value = Union [int, str, list, dict, tuple, set]\n",
    "data : Dict[Key, Value] = {\n",
    "                        'name':'khan', \n",
    "                        'fname':'Sarwar', \n",
    "                        'education':'MCS',}\n",
    "print('Before', data)\n",
    "data.clear()\n",
    "print('After', data)\n"
   ]
  },
  {
   "cell_type": "code",
   "execution_count": 10,
   "metadata": {},
   "outputs": [
    {
     "name": "stdout",
     "output_type": "stream",
     "text": [
      "Before {'name': 'khan', 'fname': 'Sarwar', 'education': 'MCS'}\n"
     ]
    }
   ],
   "source": [
    "from typing import Dict, Union, Optional\n",
    "import pprint\n",
    "# itteration\n",
    "Key= Union [int,str] # creat custom type\n",
    "Value = Union [int, str, list, dict, tuple, set]\n",
    "data : Dict[Key, Value] = {\n",
    "                        'name':'khan', \n",
    "                        'fname':'Sarwar', \n",
    "                        'education':'MCS',}\n",
    "print('Before', data)\n",
    "del data\n",
    "print('After', data)\n"
   ]
  },
  {
   "cell_type": "code",
   "execution_count": 13,
   "metadata": {},
   "outputs": [
    {
     "name": "stdout",
     "output_type": "stream",
     "text": [
      "Before {'name': 'khan', 'fname': 'Sarwar', 'education': 'MCS'}\n",
      "After {'name': 'khan', 'fname': 'Sarwar'}\n"
     ]
    }
   ],
   "source": [
    "from typing import Dict, Union, Optional\n",
    "import pprint\n",
    "# itteration\n",
    "Key= Union [int,str] # creat custom type\n",
    "Value = Union [int, str, list, dict, tuple, set]\n",
    "data : Dict[Key, Value] = {\n",
    "                        'name':'khan', \n",
    "                        'fname':'Sarwar', \n",
    "                        'education':'MCS',}\n",
    "print('Before', data)\n",
    "data.pop('education')\n",
    "print('After', data)\n"
   ]
  },
  {
   "cell_type": "code",
   "execution_count": 18,
   "metadata": {},
   "outputs": [
    {
     "name": "stdout",
     "output_type": "stream",
     "text": [
      "Before {'name': 'khan', 'fname': 'Sarwar', 'education': 'MCS'}\n",
      "('education', 'MCS')\n",
      "After {'name': 'khan', 'fname': 'Sarwar'}\n"
     ]
    }
   ],
   "source": [
    "from typing import Dict, Union, Optional\n",
    "import pprint\n",
    "# itteration\n",
    "Key= Union [int,str] # creat custom type\n",
    "Value = Union [int, str, list, dict, tuple, set]\n",
    "data : Dict[Key, Value] = {\n",
    "                        'name':'khan', \n",
    "                        'fname':'Sarwar', \n",
    "                        'education':'MCS',}\n",
    "print('Before', data)\n",
    "a : str =  data.popitem()\n",
    "print (a)\n",
    "print('After', data)\n"
   ]
  },
  {
   "cell_type": "code",
   "execution_count": 19,
   "metadata": {},
   "outputs": [
    {
     "name": "stdout",
     "output_type": "stream",
     "text": [
      "Before {'name': 'khan', 'fname': 'Sarwar', 'education': 'MCS'}\n",
      "na\n",
      "After {'name': 'khan', 'fname': 'Sarwar', 'education': 'MCS'}\n"
     ]
    }
   ],
   "source": [
    "from typing import Dict, Union, Optional\n",
    "import pprint\n",
    "# itteration\n",
    "Key= Union [int,str] # creat custom type\n",
    "Value = Union [int, str, list, dict, tuple, set]\n",
    "data : Dict[Key, Value] = {\n",
    "                        'name':'khan', \n",
    "                        'fname':'Sarwar', \n",
    "                        'education':'MCS',}\n",
    "print('Before', data)\n",
    "a : str =  data.get('pakistan','na')\n",
    "print (a)\n",
    "print('After', data)\n"
   ]
  },
  {
   "cell_type": "code",
   "execution_count": 20,
   "metadata": {},
   "outputs": [
    {
     "name": "stdout",
     "output_type": "stream",
     "text": [
      "Before {'name': 'khan', 'fname': 'Sarwar', 'education': 'MCS'}\n",
      "None\n",
      "After {'name': 'khan', 'fname': 'Sarwar', 'education': 'MCS', 'Pakistan': None}\n"
     ]
    }
   ],
   "source": [
    "from typing import Dict, Union, Optional\n",
    "import pprint\n",
    "# itteration\n",
    "Key= Union [int,str] # creat custom type\n",
    "Value = Union [int, str, list, dict, tuple, set]\n",
    "data : Dict[Key, Value] = {\n",
    "                        'name':'khan', \n",
    "                        'fname':'Sarwar', \n",
    "                        'education':'MCS',}\n",
    "print('Before', data)\n",
    "a : str =  data.setdefault('Pakistan')\n",
    "print (a)\n",
    "print('After', data)\n"
   ]
  },
  {
   "cell_type": "code",
   "execution_count": 21,
   "metadata": {},
   "outputs": [
    {
     "name": "stdout",
     "output_type": "stream",
     "text": [
      "Before {'name': 'khan', 'fname': 'Sarwar', 'education': 'MCS'}\n",
      "empty\n",
      "After {'name': 'khan', 'fname': 'Sarwar', 'education': 'MCS', 'Pakistan': 'empty'}\n"
     ]
    }
   ],
   "source": [
    "from typing import Dict, Union, Optional\n",
    "import pprint\n",
    "# itteration\n",
    "Key= Union [int,str] # creat custom type\n",
    "Value = Union [int, str, list, dict, tuple, set]\n",
    "data : Dict[Key, Value] = {\n",
    "                        'name':'khan', \n",
    "                        'fname':'Sarwar', \n",
    "                        'education':'MCS',}\n",
    "print('Before', data)\n",
    "a : str =  data.setdefault('Pakistan', 'empty')\n",
    "print (a)\n",
    "print('After', data)\n"
   ]
  },
  {
   "cell_type": "code",
   "execution_count": 24,
   "metadata": {},
   "outputs": [
    {
     "name": "stdout",
     "output_type": "stream",
     "text": [
      "{'name': 'shafqat', 'fname': 'Sarwar', 'education': 'MCS', 'height': 5.5, 'age': 35}\n"
     ]
    }
   ],
   "source": [
    "from typing import Dict, Union, Optional\n",
    "import pprint\n",
    "# itteration\n",
    "Key= Union [int,str] # creat custom type\n",
    "Value = Union [int, str, list, dict, tuple, set]\n",
    "data : Dict[Key, Value] = {\n",
    "                        'name':'khan', \n",
    "                        'fname':'Sarwar', \n",
    "                        'education':'MCS',}\n",
    "\n",
    "data1 : Dict[Key, Value] = {'height':5.50,\n",
    "                            'age':35,\n",
    "                            'name':'shafqat'\n",
    "                            }\n",
    "\n",
    "\n",
    "data.update(data1)\n",
    "print (data)\n"
   ]
  }
 ],
 "metadata": {
  "kernelspec": {
   "display_name": "Python 3",
   "language": "python",
   "name": "python3"
  },
  "language_info": {
   "codemirror_mode": {
    "name": "ipython",
    "version": 3
   },
   "file_extension": ".py",
   "mimetype": "text/x-python",
   "name": "python",
   "nbconvert_exporter": "python",
   "pygments_lexer": "ipython3",
   "version": "3.12.3"
  }
 },
 "nbformat": 4,
 "nbformat_minor": 2
}
