{
 "cells": [
  {
   "cell_type": "markdown",
   "metadata": {},
   "source": [
    "# Data visualisation\n",
    " * %pip install matplotlib\n",
    " * pip install --upgrade pip"
   ]
  },
  {
   "cell_type": "code",
   "execution_count": 5,
   "metadata": {},
   "outputs": [],
   "source": [
    "import pandas as pd\n",
    "import numpy as np\n",
    "from datetime import datetime, timedelta\n",
    "import pandera as pa\n",
    "from pandera.typing import DataFrame, Series\n",
    "import random\n",
    "#%pip install matplotlib\n",
    "#%pip install --upgrade pip"
   ]
  },
  {
   "cell_type": "code",
   "execution_count": 6,
   "metadata": {},
   "outputs": [
    {
     "name": "stdout",
     "output_type": "stream",
     "text": [
      "   roll_no     name   fathername            course date_of_admission   fee\n",
      "0        1    Alice         John       Mathematics        2022-01-10  1500\n",
      "1        2      Bob       Robert           Physics        2022-02-14  2000\n",
      "2        3  Charlie      Michael         Chemistry        2022-03-18  1500\n",
      "3        4    David      William       Mathematics        2022-04-22  2500\n",
      "4        5      Eva      Richard  Computer Science        2022-05-26  2000\n",
      "5        6    Frank       Joseph       Mathematics        2022-06-30  1500\n",
      "6        7    Grace      Charles           Physics        2022-07-04  2500\n",
      "7        8   Hannah       Thomas       Mathematics        2022-08-08  2000\n",
      "8        9     Ivan  Christopher           Biology        2022-09-12  1500\n",
      "9       10     Jack       Daniel  Computer Science        2022-10-16  2500\n"
     ]
    }
   ],
   "source": [
    "import pandas as pd\n",
    "from datetime import datetime\n",
    "from typing import List\n",
    "import pandera as pa\n",
    "from pandera.typing import DataFrame, Series\n",
    "\n",
    "# Define the data structure with static type annotations\n",
    "class Student:\n",
    "    def __init__(self, roll_no: int, name: str, fathername: str, date_of_admission: datetime, fee: int, course: str):\n",
    "        self.roll_no = roll_no\n",
    "        self.name = name\n",
    "        self.fathername = fathername\n",
    "        self.date_of_admission = date_of_admission\n",
    "        self.fee = fee\n",
    "        self.course = course\n",
    "\n",
    "# Create a list of students\n",
    "students: List[Student] = [\n",
    "    Student(1, \"Alice\", \"John\", datetime(2022, 1, 10), 1500, \"Mathematics\"),\n",
    "    Student(2, \"Bob\", \"Robert\", datetime(2022, 2, 14), 2000, \"Physics\"),\n",
    "    Student(3, \"Charlie\", \"Michael\", datetime(2022, 3, 18), 1500, \"Chemistry\"),\n",
    "    Student(4, \"David\", \"William\", datetime(2022, 4, 22), 2500, \"Mathematics\"),\n",
    "    Student(5, \"Eva\", \"Richard\", datetime(2022, 5, 26), 2000, \"Computer Science\"),\n",
    "    Student(6, \"Frank\", \"Joseph\", datetime(2022, 6, 30), 1500, \"Mathematics\"),\n",
    "    Student(7, \"Grace\", \"Charles\", datetime(2022, 7, 4), 2500, \"Physics\"),\n",
    "    Student(8, \"Hannah\", \"Thomas\", datetime(2022, 8, 8), 2000, \"Mathematics\"),\n",
    "    Student(9, \"Ivan\", \"Christopher\", datetime(2022, 9, 12), 1500, \"Biology\"),\n",
    "    Student(10, \"Jack\", \"Daniel\", datetime(2022, 10, 16), 2500, \"Computer Science\")\n",
    "]\n",
    "\n",
    "# Convert the list of students to a DataFrame\n",
    "student_df = pd.DataFrame([{\n",
    "    \"roll_no\": student.roll_no,\n",
    "    \"name\": student.name,\n",
    "    \"fathername\": student.fathername,\n",
    "    \"course\": student.course,\n",
    "    \"date_of_admission\": student.date_of_admission,\n",
    "    \"fee\": student.fee,\n",
    "} for student in students])\n",
    "\n",
    "# Define the schema using pandera\n",
    "\n",
    "class StudentSchema(pa.SchemaModel):\n",
    "    roll_no: Series[int] = pa.Field(ge=1)\n",
    "    name: Series[str] = pa.Field()\n",
    "    fathername: Series[str] = pa.Field()\n",
    "    course: Series[str] = pa.Field()\n",
    "    date_of_admission: Series[datetime] = pa.Field()\n",
    "    fee: Series[int] = pa.Field(ge=0)\n",
    "\n",
    "    class Config:\n",
    "        coerce = True\n",
    "\n",
    "# Validate the DataFrame\n",
    "validated_student_df: DataFrame[StudentSchema] = StudentSchema.validate(student_df)\n",
    "\n",
    "# Display the validated DataFrame\n",
    "print(validated_student_df)\n"
   ]
  },
  {
   "cell_type": "code",
   "execution_count": 7,
   "metadata": {},
   "outputs": [
    {
     "data": {
      "text/html": [
       "<div>\n",
       "<style scoped>\n",
       "    .dataframe tbody tr th:only-of-type {\n",
       "        vertical-align: middle;\n",
       "    }\n",
       "\n",
       "    .dataframe tbody tr th {\n",
       "        vertical-align: top;\n",
       "    }\n",
       "\n",
       "    .dataframe thead th {\n",
       "        text-align: right;\n",
       "    }\n",
       "</style>\n",
       "<table border=\"1\" class=\"dataframe\">\n",
       "  <thead>\n",
       "    <tr style=\"text-align: right;\">\n",
       "      <th></th>\n",
       "      <th>roll_no</th>\n",
       "      <th>name</th>\n",
       "      <th>fathername</th>\n",
       "      <th>course</th>\n",
       "      <th>date_of_admission</th>\n",
       "      <th>fee</th>\n",
       "    </tr>\n",
       "  </thead>\n",
       "  <tbody>\n",
       "    <tr>\n",
       "      <th>0</th>\n",
       "      <td>1</td>\n",
       "      <td>Alice</td>\n",
       "      <td>John</td>\n",
       "      <td>Mathematics</td>\n",
       "      <td>2022-01-10</td>\n",
       "      <td>1500</td>\n",
       "    </tr>\n",
       "    <tr>\n",
       "      <th>1</th>\n",
       "      <td>2</td>\n",
       "      <td>Bob</td>\n",
       "      <td>Robert</td>\n",
       "      <td>Physics</td>\n",
       "      <td>2022-02-14</td>\n",
       "      <td>2000</td>\n",
       "    </tr>\n",
       "    <tr>\n",
       "      <th>2</th>\n",
       "      <td>3</td>\n",
       "      <td>Charlie</td>\n",
       "      <td>Michael</td>\n",
       "      <td>Chemistry</td>\n",
       "      <td>2022-03-18</td>\n",
       "      <td>1500</td>\n",
       "    </tr>\n",
       "    <tr>\n",
       "      <th>3</th>\n",
       "      <td>4</td>\n",
       "      <td>David</td>\n",
       "      <td>William</td>\n",
       "      <td>Mathematics</td>\n",
       "      <td>2022-04-22</td>\n",
       "      <td>2500</td>\n",
       "    </tr>\n",
       "    <tr>\n",
       "      <th>4</th>\n",
       "      <td>5</td>\n",
       "      <td>Eva</td>\n",
       "      <td>Richard</td>\n",
       "      <td>Computer Science</td>\n",
       "      <td>2022-05-26</td>\n",
       "      <td>2000</td>\n",
       "    </tr>\n",
       "    <tr>\n",
       "      <th>5</th>\n",
       "      <td>6</td>\n",
       "      <td>Frank</td>\n",
       "      <td>Joseph</td>\n",
       "      <td>Mathematics</td>\n",
       "      <td>2022-06-30</td>\n",
       "      <td>1500</td>\n",
       "    </tr>\n",
       "    <tr>\n",
       "      <th>6</th>\n",
       "      <td>7</td>\n",
       "      <td>Grace</td>\n",
       "      <td>Charles</td>\n",
       "      <td>Physics</td>\n",
       "      <td>2022-07-04</td>\n",
       "      <td>2500</td>\n",
       "    </tr>\n",
       "    <tr>\n",
       "      <th>7</th>\n",
       "      <td>8</td>\n",
       "      <td>Hannah</td>\n",
       "      <td>Thomas</td>\n",
       "      <td>Mathematics</td>\n",
       "      <td>2022-08-08</td>\n",
       "      <td>2000</td>\n",
       "    </tr>\n",
       "    <tr>\n",
       "      <th>8</th>\n",
       "      <td>9</td>\n",
       "      <td>Ivan</td>\n",
       "      <td>Christopher</td>\n",
       "      <td>Biology</td>\n",
       "      <td>2022-09-12</td>\n",
       "      <td>1500</td>\n",
       "    </tr>\n",
       "    <tr>\n",
       "      <th>9</th>\n",
       "      <td>10</td>\n",
       "      <td>Jack</td>\n",
       "      <td>Daniel</td>\n",
       "      <td>Computer Science</td>\n",
       "      <td>2022-10-16</td>\n",
       "      <td>2500</td>\n",
       "    </tr>\n",
       "  </tbody>\n",
       "</table>\n",
       "</div>"
      ],
      "text/plain": [
       "   roll_no     name   fathername            course date_of_admission   fee\n",
       "0        1    Alice         John       Mathematics        2022-01-10  1500\n",
       "1        2      Bob       Robert           Physics        2022-02-14  2000\n",
       "2        3  Charlie      Michael         Chemistry        2022-03-18  1500\n",
       "3        4    David      William       Mathematics        2022-04-22  2500\n",
       "4        5      Eva      Richard  Computer Science        2022-05-26  2000\n",
       "5        6    Frank       Joseph       Mathematics        2022-06-30  1500\n",
       "6        7    Grace      Charles           Physics        2022-07-04  2500\n",
       "7        8   Hannah       Thomas       Mathematics        2022-08-08  2000\n",
       "8        9     Ivan  Christopher           Biology        2022-09-12  1500\n",
       "9       10     Jack       Daniel  Computer Science        2022-10-16  2500"
      ]
     },
     "execution_count": 7,
     "metadata": {},
     "output_type": "execute_result"
    }
   ],
   "source": [
    "student_df"
   ]
  },
  {
   "cell_type": "code",
   "execution_count": 8,
   "metadata": {},
   "outputs": [
    {
     "data": {
      "text/plain": [
       "course\n",
       "Mathematics         4\n",
       "Physics             2\n",
       "Computer Science    2\n",
       "Chemistry           1\n",
       "Biology             1\n",
       "Name: count, dtype: int64"
      ]
     },
     "execution_count": 8,
     "metadata": {},
     "output_type": "execute_result"
    }
   ],
   "source": [
    "student_df.course.value_counts()"
   ]
  },
  {
   "cell_type": "code",
   "execution_count": 9,
   "metadata": {},
   "outputs": [
    {
     "data": {
      "text/plain": [
       "<Axes: xlabel='course'>"
      ]
     },
     "execution_count": 9,
     "metadata": {},
     "output_type": "execute_result"
    },
    {
     "data": {
      "image/png": "[encoded data removed]",
      "text/plain": [
       "<Figure size 640x480 with 1 Axes>"
      ]
     },
     "metadata": {},
     "output_type": "display_data"
    }
   ],
   "source": [
    "student_df.course.value_counts().plot()"
   ]
  },
  {
   "cell_type": "code",
   "execution_count": 1,
   "metadata": {},
   "outputs": [
    {
     "ename": "NameError",
     "evalue": "name 'student_df' is not defined",
     "output_type": "error",
     "traceback": [
      "\u001b[1;31m---------------------------------------------------------------------------\u001b[0m",
      "\u001b[1;31mNameError\u001b[0m                                 Traceback (most recent call last)",
      "Cell \u001b[1;32mIn[1], line 1\u001b[0m\n\u001b[1;32m----> 1\u001b[0m \u001b[43mstudent_df\u001b[49m\u001b[38;5;241m.\u001b[39mcourse\u001b[38;5;241m.\u001b[39mvalue_counts()\u001b[38;5;241m.\u001b[39mplot(kind\u001b[38;5;241m=\u001b[39m\u001b[38;5;124m'\u001b[39m\u001b[38;5;124mbar\u001b[39m\u001b[38;5;124m'\u001b[39m)\n",
      "\u001b[1;31mNameError\u001b[0m: name 'student_df' is not defined"
     ]
    }
   ],
   "source": [
    "student_df.course.value_counts().plot(kind='bar')"
   ]
  }
 ],
 "metadata": {
  "kernelspec": {
   "display_name": "Python 3",
   "language": "python",
   "name": "python3"
  },
  "language_info": {
   "codemirror_mode": {
    "name": "ipython",
    "version": 3
   },
   "file_extension": ".py",
   "mimetype": "text/x-python",
   "name": "python",
   "nbconvert_exporter": "python",
   "pygments_lexer": "ipython3",
   "version": "3.12.2"
  }
 },
 "nbformat": 4,
 "nbformat_minor": 2
}
