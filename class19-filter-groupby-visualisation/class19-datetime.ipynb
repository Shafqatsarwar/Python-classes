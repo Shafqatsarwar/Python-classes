{
 "cells": [
  {
   "cell_type": "code",
   "execution_count": null,
   "metadata": {},
   "outputs": [],
   "source": []
  },
  {
   "cell_type": "markdown",
   "metadata": {},
   "source": [
    "# apply Filter on date column\n",
    " * dataframe.column.dt\n",
    " * dt.strftime\n",
    " * ft.strptime\n",
    "# from datetime import datetime"
   ]
  },
  {
   "cell_type": "code",
   "execution_count": 12,
   "metadata": {},
   "outputs": [
    {
     "name": "stdout",
     "output_type": "stream",
     "text": [
      "          date   fee\n",
      "0   2024-06-12  1228\n",
      "1   2024-01-07  2518\n",
      "2   2024-03-11  1501\n",
      "3   2024-02-27  1285\n",
      "4   2024-07-07  1209\n",
      "..         ...   ...\n",
      "995 2024-06-04  2902\n",
      "996 2024-06-17  2698\n",
      "997 2024-06-26  1547\n",
      "998 2024-01-08  1369\n",
      "999 2024-03-10  2439\n",
      "\n",
      "[1000 rows x 2 columns]\n"
     ]
    }
   ],
   "source": []
  },
  {
   "cell_type": "code",
   "execution_count": 13,
   "metadata": {},
   "outputs": [],
   "source": [
    "from datetime import datetime\n",
    "import pandas as pd"
   ]
  },
  {
   "cell_type": "code",
   "execution_count": 14,
   "metadata": {},
   "outputs": [
    {
     "name": "stdout",
     "output_type": "stream",
     "text": [
      "   roll_no     name   fathername            course date_of_admission   fee\n",
      "0        1    Alice         John       Mathematics        2022-01-10  1500\n",
      "1        2      Bob       Robert           Physics        2022-02-14  2000\n",
      "2        3  Charlie      Michael         Chemistry        2022-03-18  1500\n",
      "3        4    David      William       Mathematics        2022-04-22  2500\n",
      "4        5      Eva      Richard  Computer Science        2022-05-26  2000\n",
      "5        6    Frank       Joseph       Mathematics        2022-06-30  1500\n",
      "6        7    Grace      Charles           Physics        2022-07-04  2500\n",
      "7        8   Hannah       Thomas       Mathematics        2022-08-08  2000\n",
      "8        9     Ivan  Christopher           Biology        2022-09-12  1500\n",
      "9       10     Jack       Daniel  Computer Science        2022-10-16  2500\n"
     ]
    }
   ],
   "source": [
    "import pandas as pd\n",
    "from datetime import datetime\n",
    "from typing import List\n",
    "import pandera as pa\n",
    "from pandera.typing import DataFrame, Series\n",
    "\n",
    "# Define the data structure with static type annotations\n",
    "class Student:\n",
    "    def __init__(self, roll_no: int, name: str, fathername: str, date_of_admission: datetime, fee: int, course: str):\n",
    "        self.roll_no = roll_no\n",
    "        self.name = name\n",
    "        self.fathername = fathername\n",
    "        self.date_of_admission = date_of_admission\n",
    "        self.fee = fee\n",
    "        self.course = course\n",
    "\n",
    "# Create a list of students\n",
    "students: List[Student] = [\n",
    "    Student(1, \"Alice\", \"John\", datetime(2022, 1, 10), 1500, \"Mathematics\"),\n",
    "    Student(2, \"Bob\", \"Robert\", datetime(2022, 2, 14), 2000, \"Physics\"),\n",
    "    Student(3, \"Charlie\", \"Michael\", datetime(2022, 3, 18), 1500, \"Chemistry\"),\n",
    "    Student(4, \"David\", \"William\", datetime(2022, 4, 22), 2500, \"Mathematics\"),\n",
    "    Student(5, \"Eva\", \"Richard\", datetime(2022, 5, 26), 2000, \"Computer Science\"),\n",
    "    Student(6, \"Frank\", \"Joseph\", datetime(2022, 6, 30), 1500, \"Mathematics\"),\n",
    "    Student(7, \"Grace\", \"Charles\", datetime(2022, 7, 4), 2500, \"Physics\"),\n",
    "    Student(8, \"Hannah\", \"Thomas\", datetime(2022, 8, 8), 2000, \"Mathematics\"),\n",
    "    Student(9, \"Ivan\", \"Christopher\", datetime(2022, 9, 12), 1500, \"Biology\"),\n",
    "    Student(10, \"Jack\", \"Daniel\", datetime(2022, 10, 16), 2500, \"Computer Science\")\n",
    "]\n",
    "\n",
    "# Convert the list of students to a DataFrame\n",
    "student_df = pd.DataFrame([{\n",
    "    \"roll_no\": student.roll_no,\n",
    "    \"name\": student.name,\n",
    "    \"fathername\": student.fathername,\n",
    "    \"course\": student.course,\n",
    "    \"date_of_admission\": student.date_of_admission,\n",
    "    \"fee\": student.fee,\n",
    "} for student in students])\n",
    "\n",
    "# Define the schema using pandera\n",
    "\n",
    "class StudentSchema(pa.SchemaModel):\n",
    "    roll_no: Series[int] = pa.Field(ge=1)\n",
    "    name: Series[str] = pa.Field()\n",
    "    fathername: Series[str] = pa.Field()\n",
    "    course: Series[str] = pa.Field()\n",
    "    date_of_admission: Series[datetime] = pa.Field()\n",
    "    fee: Series[int] = pa.Field(ge=0)\n",
    "\n",
    "    class Config:\n",
    "        coerce = True\n",
    "\n",
    "# Validate the DataFrame\n",
    "validated_student_df: DataFrame[StudentSchema] = StudentSchema.validate(student_df)\n",
    "\n",
    "# Display the validated DataFrame\n",
    "print(validated_student_df)"
   ]
  },
  {
   "cell_type": "code",
   "execution_count": 15,
   "metadata": {},
   "outputs": [
    {
     "data": {
      "text/html": [
       "<div>\n",
       "<style scoped>\n",
       "    .dataframe tbody tr th:only-of-type {\n",
       "        vertical-align: middle;\n",
       "    }\n",
       "\n",
       "    .dataframe tbody tr th {\n",
       "        vertical-align: top;\n",
       "    }\n",
       "\n",
       "    .dataframe thead th {\n",
       "        text-align: right;\n",
       "    }\n",
       "</style>\n",
       "<table border=\"1\" class=\"dataframe\">\n",
       "  <thead>\n",
       "    <tr style=\"text-align: right;\">\n",
       "      <th></th>\n",
       "      <th>roll_no</th>\n",
       "      <th>name</th>\n",
       "      <th>fathername</th>\n",
       "      <th>course</th>\n",
       "      <th>date_of_admission</th>\n",
       "      <th>fee</th>\n",
       "    </tr>\n",
       "  </thead>\n",
       "  <tbody>\n",
       "    <tr>\n",
       "      <th>0</th>\n",
       "      <td>1</td>\n",
       "      <td>Alice</td>\n",
       "      <td>John</td>\n",
       "      <td>Mathematics</td>\n",
       "      <td>2022-01-10</td>\n",
       "      <td>1500</td>\n",
       "    </tr>\n",
       "    <tr>\n",
       "      <th>1</th>\n",
       "      <td>2</td>\n",
       "      <td>Bob</td>\n",
       "      <td>Robert</td>\n",
       "      <td>Physics</td>\n",
       "      <td>2022-02-14</td>\n",
       "      <td>2000</td>\n",
       "    </tr>\n",
       "    <tr>\n",
       "      <th>2</th>\n",
       "      <td>3</td>\n",
       "      <td>Charlie</td>\n",
       "      <td>Michael</td>\n",
       "      <td>Chemistry</td>\n",
       "      <td>2022-03-18</td>\n",
       "      <td>1500</td>\n",
       "    </tr>\n",
       "    <tr>\n",
       "      <th>3</th>\n",
       "      <td>4</td>\n",
       "      <td>David</td>\n",
       "      <td>William</td>\n",
       "      <td>Mathematics</td>\n",
       "      <td>2022-04-22</td>\n",
       "      <td>2500</td>\n",
       "    </tr>\n",
       "    <tr>\n",
       "      <th>4</th>\n",
       "      <td>5</td>\n",
       "      <td>Eva</td>\n",
       "      <td>Richard</td>\n",
       "      <td>Computer Science</td>\n",
       "      <td>2022-05-26</td>\n",
       "      <td>2000</td>\n",
       "    </tr>\n",
       "    <tr>\n",
       "      <th>5</th>\n",
       "      <td>6</td>\n",
       "      <td>Frank</td>\n",
       "      <td>Joseph</td>\n",
       "      <td>Mathematics</td>\n",
       "      <td>2022-06-30</td>\n",
       "      <td>1500</td>\n",
       "    </tr>\n",
       "    <tr>\n",
       "      <th>6</th>\n",
       "      <td>7</td>\n",
       "      <td>Grace</td>\n",
       "      <td>Charles</td>\n",
       "      <td>Physics</td>\n",
       "      <td>2022-07-04</td>\n",
       "      <td>2500</td>\n",
       "    </tr>\n",
       "    <tr>\n",
       "      <th>7</th>\n",
       "      <td>8</td>\n",
       "      <td>Hannah</td>\n",
       "      <td>Thomas</td>\n",
       "      <td>Mathematics</td>\n",
       "      <td>2022-08-08</td>\n",
       "      <td>2000</td>\n",
       "    </tr>\n",
       "    <tr>\n",
       "      <th>8</th>\n",
       "      <td>9</td>\n",
       "      <td>Ivan</td>\n",
       "      <td>Christopher</td>\n",
       "      <td>Biology</td>\n",
       "      <td>2022-09-12</td>\n",
       "      <td>1500</td>\n",
       "    </tr>\n",
       "    <tr>\n",
       "      <th>9</th>\n",
       "      <td>10</td>\n",
       "      <td>Jack</td>\n",
       "      <td>Daniel</td>\n",
       "      <td>Computer Science</td>\n",
       "      <td>2022-10-16</td>\n",
       "      <td>2500</td>\n",
       "    </tr>\n",
       "  </tbody>\n",
       "</table>\n",
       "</div>"
      ],
      "text/plain": [
       "   roll_no     name   fathername            course date_of_admission   fee\n",
       "0        1    Alice         John       Mathematics        2022-01-10  1500\n",
       "1        2      Bob       Robert           Physics        2022-02-14  2000\n",
       "2        3  Charlie      Michael         Chemistry        2022-03-18  1500\n",
       "3        4    David      William       Mathematics        2022-04-22  2500\n",
       "4        5      Eva      Richard  Computer Science        2022-05-26  2000\n",
       "5        6    Frank       Joseph       Mathematics        2022-06-30  1500\n",
       "6        7    Grace      Charles           Physics        2022-07-04  2500\n",
       "7        8   Hannah       Thomas       Mathematics        2022-08-08  2000\n",
       "8        9     Ivan  Christopher           Biology        2022-09-12  1500\n",
       "9       10     Jack       Daniel  Computer Science        2022-10-16  2500"
      ]
     },
     "execution_count": 15,
     "metadata": {},
     "output_type": "execute_result"
    }
   ],
   "source": [
    "student_df"
   ]
  },
  {
   "cell_type": "code",
   "execution_count": 16,
   "metadata": {},
   "outputs": [
    {
     "data": {
      "text/plain": [
       "0   2022-01-10\n",
       "1   2022-02-14\n",
       "2   2022-03-18\n",
       "3   2022-04-22\n",
       "4   2022-05-26\n",
       "5   2022-06-30\n",
       "6   2022-07-04\n",
       "7   2022-08-08\n",
       "8   2022-09-12\n",
       "9   2022-10-16\n",
       "Name: date_of_admission, dtype: datetime64[ns]"
      ]
     },
     "execution_count": 16,
     "metadata": {},
     "output_type": "execute_result"
    }
   ],
   "source": [
    "student_df['date_of_admission']"
   ]
  },
  {
   "cell_type": "code",
   "execution_count": 17,
   "metadata": {},
   "outputs": [
    {
     "data": {
      "text/plain": [
       "0     1\n",
       "1     2\n",
       "2     3\n",
       "3     4\n",
       "4     5\n",
       "5     6\n",
       "6     7\n",
       "7     8\n",
       "8     9\n",
       "9    10\n",
       "Name: date_of_admission, dtype: int32"
      ]
     },
     "execution_count": 17,
     "metadata": {},
     "output_type": "execute_result"
    }
   ],
   "source": [
    "#student_df['date_of_admission'].dt.year\n",
    "student_df['date_of_admission'].dt.month"
   ]
  },
  {
   "cell_type": "code",
   "execution_count": 18,
   "metadata": {},
   "outputs": [
    {
     "data": {
      "text/plain": [
       "0    10\n",
       "1    14\n",
       "2    18\n",
       "3    22\n",
       "4    26\n",
       "5    30\n",
       "6     4\n",
       "7     8\n",
       "8    12\n",
       "9    16\n",
       "Name: date_of_admission, dtype: int32"
      ]
     },
     "execution_count": 18,
     "metadata": {},
     "output_type": "execute_result"
    }
   ],
   "source": [
    "student_df['date_of_admission'].dt.day # .dt.month, dt.weekday, .dt.hour, .dt.minute, .dt.timezone or tz "
   ]
  },
  {
   "cell_type": "code",
   "execution_count": 19,
   "metadata": {},
   "outputs": [
    {
     "data": {
      "text/plain": [
       "['ceil',\n",
       " 'date',\n",
       " 'day',\n",
       " 'dayofweek',\n",
       " 'dayofyear',\n",
       " 'daysinmonth',\n",
       " 'floor',\n",
       " 'freq',\n",
       " 'hour',\n",
       " 'isocalendar',\n",
       " 'microsecond',\n",
       " 'minute',\n",
       " 'month',\n",
       " 'nanosecond',\n",
       " 'normalize',\n",
       " 'quarter',\n",
       " 'round',\n",
       " 'second',\n",
       " 'strftime',\n",
       " 'time',\n",
       " 'timetz',\n",
       " 'tz',\n",
       " 'unit',\n",
       " 'weekday',\n",
       " 'year']"
      ]
     },
     "execution_count": 19,
     "metadata": {},
     "output_type": "execute_result"
    }
   ],
   "source": [
    "[i for i in dir(student_df['date_of_admission'].dt) if\"_\" not in i]"
   ]
  },
  {
   "cell_type": "code",
   "execution_count": 20,
   "metadata": {},
   "outputs": [
    {
     "data": {
      "text/plain": [
       "datetime.datetime(2024, 7, 24, 4, 54, 19, 242636)"
      ]
     },
     "execution_count": 20,
     "metadata": {},
     "output_type": "execute_result"
    }
   ],
   "source": [
    "from datetime import datetime\n",
    "\n",
    "date : datetime =datetime.now()\n",
    "date"
   ]
  },
  {
   "cell_type": "code",
   "execution_count": 21,
   "metadata": {},
   "outputs": [
    {
     "data": {
      "text/plain": [
       "0   2024-07-24 04:54:19.242636\n",
       "dtype: datetime64[ns]"
      ]
     },
     "execution_count": 21,
     "metadata": {},
     "output_type": "execute_result"
    }
   ],
   "source": [
    "s1 : pd.Series = pd.Series([date])\n",
    "s1"
   ]
  },
  {
   "cell_type": "code",
   "execution_count": 23,
   "metadata": {},
   "outputs": [
    {
     "data": {
      "text/plain": [
       "0    24\n",
       "dtype: object"
      ]
     },
     "execution_count": 23,
     "metadata": {},
     "output_type": "execute_result"
    }
   ],
   "source": [
    "s1.dt.strftime(\"%y\")"
   ]
  },
  {
   "cell_type": "code",
   "execution_count": 38,
   "metadata": {},
   "outputs": [
    {
     "data": {
      "text/plain": [
       "0    24 July\n",
       "dtype: object"
      ]
     },
     "execution_count": 38,
     "metadata": {},
     "output_type": "execute_result"
    }
   ],
   "source": [
    "#s1.dt.strftime(\"%y/%m\")\n",
    "#s1.dt.strftime(\"%Y\")\n",
    "#s1.dt.strftime(\"%Y/%m %d\")\n",
    "#s1.dt.strftime(\"%Y %d %B\")\n",
    "#s1.dt.strftime(\"%y %b\")\n",
    "#s1.dt.strftime(\" %I %B\")\n",
    "s1.dt.strftime(\"%y %B\")"
   ]
  },
  {
   "cell_type": "code",
   "execution_count": 41,
   "metadata": {},
   "outputs": [
    {
     "data": {
      "text/plain": [
       "0    01 Nov 2014\n",
       "1    01 Jan 2014\n",
       "2    01 Feb 2014\n",
       "dtype: object"
      ]
     },
     "execution_count": 41,
     "metadata": {},
     "output_type": "execute_result"
    }
   ],
   "source": [
    "s2 : pd.Series = pd.Series(['01 Nov 2014', '01 Jan 2014', '01 Feb 2014'])\n",
    "s2"
   ]
  },
  {
   "cell_type": "code",
   "execution_count": 42,
   "metadata": {},
   "outputs": [
    {
     "data": {
      "text/plain": [
       "0   2014-11-01\n",
       "1   2014-01-01\n",
       "2   2014-02-01\n",
       "dtype: datetime64[ns]"
      ]
     },
     "execution_count": 42,
     "metadata": {},
     "output_type": "execute_result"
    }
   ],
   "source": [
    "s2.apply(lambda x : datetime.strptime(x, \"%d %b %Y\")) # string to date format"
   ]
  }
 ],
 "metadata": {
  "kernelspec": {
   "display_name": "Python 3",
   "language": "python",
   "name": "python3"
  },
  "language_info": {
   "codemirror_mode": {
    "name": "ipython",
    "version": 3
   },
   "file_extension": ".py",
   "mimetype": "text/x-python",
   "name": "python",
   "nbconvert_exporter": "python",
   "pygments_lexer": "ipython3",
   "version": "3.12.2"
  }
 },
 "nbformat": 4,
 "nbformat_minor": 2
}
