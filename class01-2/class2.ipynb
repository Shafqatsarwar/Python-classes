{
 "cells": [
  {
   "cell_type": "markdown",
   "metadata": {},
   "source": [
    "# String Datatype in Python"
   ]
  },
  {
   "cell_type": "code",
   "execution_count": null,
   "metadata": {},
   "outputs": [],
   "source": []
  },
  {
   "cell_type": "code",
   "execution_count": 1,
   "metadata": {},
   "outputs": [
    {
     "name": "stdout",
     "output_type": "stream",
     "text": [
      "<class 'str'>\n",
      "Shafqat\n"
     ]
    }
   ],
   "source": [
    "name: str= \"Shafqat\"\n",
    "print (type(name))\n",
    "print (name)"
   ]
  },
  {
   "cell_type": "code",
   "execution_count": 2,
   "metadata": {},
   "outputs": [
    {
     "name": "stdout",
     "output_type": "stream",
     "text": [
      "PIAIC student card \n",
      " Father's Name\n"
     ]
    }
   ],
   "source": [
    "message: str= \"PIAIC student card \\n Father's Name\"\n",
    "print (message)"
   ]
  },
  {
   "cell_type": "code",
   "execution_count": 3,
   "metadata": {},
   "outputs": [
    {
     "name": "stdout",
     "output_type": "stream",
     "text": [
      "PIAC Student Card    \n",
      " Student Name:M Shafqat\n",
      " Age:30\n",
      " Education:Master's in Computer Science\n"
     ]
    }
   ],
   "source": [
    "name:str= \"M Shafqat\"\n",
    "fathername:str= \"Ghulam Sarwar\"\n",
    "education:str= \"Master's in Computer Science\"\n",
    "age:int=30\n",
    "\n",
    "card:str= \"PIAC Student Card\\\n",
    "    \\n Student Name:\"+name+\\\n",
    "\"\\n Age:\"+ str(age)+\\\n",
    "\"\\n Education:\"+education\n",
    "print (card)"
   ]
  },
  {
   "cell_type": "markdown",
   "metadata": {},
   "source": [
    "F string\n"
   ]
  },
  {
   "cell_type": "code",
   "execution_count": 4,
   "metadata": {},
   "outputs": [
    {
     "name": "stdout",
     "output_type": "stream",
     "text": [
      "\n",
      "PIAC Student Card\n",
      "Student Name: M Shafqat\n",
      "Father's name: Ghulam Sarwar\n",
      "Age: 30\n",
      "Education: Master's in Computer Science\n",
      "Total5\n",
      "\n"
     ]
    }
   ],
   "source": [
    "name:str= \"M Shafqat\"\n",
    "fathername:str= \"Ghulam Sarwar\"\n",
    "education:str= \"Master's in Computer Science\"\n",
    "age:int=30\n",
    "\n",
    "card : str = f\"\"\"\n",
    "PIAC Student Card\n",
    "Student Name: {name}\n",
    "Father's name: {fathername}\n",
    "Age: {age}\n",
    "Education: {education}\n",
    "Total{1+2+3-1}\n",
    "\"\"\"\n",
    "\n",
    "print (card)"
   ]
  },
  {
   "cell_type": "markdown",
   "metadata": {},
   "source": [
    "F-string and Jinja style\n"
   ]
  },
  {
   "cell_type": "code",
   "execution_count": 5,
   "metadata": {},
   "outputs": [
    {
     "ename": "TypeError",
     "evalue": "not all arguments converted during string formatting",
     "output_type": "error",
     "traceback": [
      "\u001b[1;31m---------------------------------------------------------------------------\u001b[0m",
      "\u001b[1;31mTypeError\u001b[0m                                 Traceback (most recent call last)",
      "Cell \u001b[1;32mIn[5], line 6\u001b[0m\n\u001b[0;32m      3\u001b[0m education:\u001b[38;5;28mstr\u001b[39m\u001b[38;5;241m=\u001b[39m \u001b[38;5;124m\"\u001b[39m\u001b[38;5;124mMaster\u001b[39m\u001b[38;5;124m'\u001b[39m\u001b[38;5;124ms in Computer Science\u001b[39m\u001b[38;5;124m\"\u001b[39m\n\u001b[0;32m      4\u001b[0m age:\u001b[38;5;28mint\u001b[39m\u001b[38;5;241m=\u001b[39m\u001b[38;5;241m30\u001b[39m\n\u001b[1;32m----> 6\u001b[0m card : \u001b[38;5;28mstr\u001b[39m \u001b[38;5;241m=\u001b[39m \u001b[38;5;124;43mf\u001b[39;49m\u001b[38;5;124;43m\"\"\"\u001b[39;49m\n\u001b[0;32m      7\u001b[0m \u001b[38;5;124;43mPIAC Student Card\u001b[39;49m\n\u001b[0;32m      8\u001b[0m \u001b[38;5;124;43mStudent Name:\u001b[39;49m\n\u001b[0;32m      9\u001b[0m \u001b[38;5;124;43mFather\u001b[39;49m\u001b[38;5;124;43m'\u001b[39;49m\u001b[38;5;124;43ms name:\u001b[39;49m\n\u001b[0;32m     10\u001b[0m \u001b[38;5;124;43mAge: \u001b[39;49m\n\u001b[0;32m     11\u001b[0m \u001b[38;5;124;43mEducation:\u001b[39;49m\n\u001b[0;32m     12\u001b[0m \n\u001b[0;32m     13\u001b[0m \u001b[38;5;124;43m\"\"\"\u001b[39;49m\u001b[43m \u001b[49m\u001b[38;5;241;43m%\u001b[39;49m\u001b[43m \u001b[49m\u001b[43m(\u001b[49m\u001b[43mname\u001b[49m\u001b[43m,\u001b[49m\u001b[43m \u001b[49m\u001b[43mfname\u001b[49m\u001b[43m,\u001b[49m\u001b[43m \u001b[49m\u001b[43mage\u001b[49m\u001b[43m,\u001b[49m\u001b[43m \u001b[49m\u001b[43meducation\u001b[49m\u001b[43m)\u001b[49m\n\u001b[0;32m     15\u001b[0m \u001b[38;5;28mprint\u001b[39m (card)\n",
      "\u001b[1;31mTypeError\u001b[0m: not all arguments converted during string formatting"
     ]
    }
   ],
   "source": [
    "name:str= \"M Shafqat\"\n",
    "fname:str= \"Ghulam Sarwar\"\n",
    "education:str= \"Master's in Computer Science\"\n",
    "age:int=30\n",
    "\n",
    "card : str = f\"\"\"\n",
    "PIAC Student Card\n",
    "Student Name:\n",
    "Father's name:\n",
    "Age: \n",
    "Education:\n",
    "\n",
    "\"\"\" % (name, fname, age, education)\n",
    "\n",
    "print (card)\n"
   ]
  },
  {
   "cell_type": "code",
   "execution_count": null,
   "metadata": {},
   "outputs": [
    {
     "name": "stdout",
     "output_type": "stream",
     "text": [
      "M shafqat sarwar\n"
     ]
    }
   ],
   "source": [
    "name:str=\"M Shafqat sarwar\"\n",
    "print(name.capitalize())"
   ]
  },
  {
   "cell_type": "code",
   "execution_count": null,
   "metadata": {},
   "outputs": [
    {
     "name": "stdout",
     "output_type": "stream",
     "text": [
      "\n",
      "PIAC Student Card\n",
      "Student Name: M Shafqat\n",
      "Father's name: Ghulam Sarwar\n",
      "Education: Master's in Computer Science\n",
      "Age: 30\n",
      "\n",
      "\n"
     ]
    }
   ],
   "source": [
    "name:str= \"M Shafqat\"\n",
    "fname:str= \"Ghulam Sarwar\"\n",
    "education:str= \"Master's in Computer Science\"\n",
    "age:int=30\n",
    "\n",
    "card : str = \"\"\"\n",
    "PIAC Student Card\n",
    "Student Name: {}\n",
    "Father's name: {}\n",
    "Education: {}\n",
    "Age: {}\n",
    "\n",
    "\"\"\".format(name,fname, education, age)\n",
    "\n",
    "print (card)"
   ]
  },
  {
   "cell_type": "code",
   "execution_count": null,
   "metadata": {},
   "outputs": [
    {
     "name": "stdout",
     "output_type": "stream",
     "text": [
      " My name is M Shafqat Sarwar\n",
      "15\n"
     ]
    }
   ],
   "source": [
    "student_code : str = \"\"\"\n",
    "print ( \" My name is M Shafqat Sarwar\")\n",
    "a:int = 7\n",
    "b:int = 8\n",
    "print (a+b)\n",
    "\"\"\"\n",
    "\n",
    "exec (student_code)"
   ]
  },
  {
   "cell_type": "markdown",
   "metadata": {},
   "source": [
    "explore string method and attributes\n",
    "predefine global functions\n",
    "Print\n",
    "type\n",
    "id\n",
    "dir\n",
    "len"
   ]
  },
  {
   "cell_type": "code",
   "execution_count": null,
   "metadata": {},
   "outputs": [
    {
     "name": "stdout",
     "output_type": "stream",
     "text": [
      "['capitalize', 'casefold', 'center', 'count', 'encode', 'endswith', 'expandtabs', 'find', 'format', 'index', 'isalnum', 'isalpha', 'isascii', 'isdecimal', 'isdigit', 'isidentifier', 'islower', 'isnumeric', 'isprintable', 'isspace', 'istitle', 'isupper', 'join', 'ljust', 'lower', 'lstrip', 'maketrans', 'partition', 'removeprefix', 'removesuffix', 'replace', 'rfind', 'rindex', 'rjust', 'rpartition', 'rsplit', 'rstrip', 'split', 'splitlines', 'startswith', 'strip', 'swapcase', 'title', 'translate', 'upper', 'zfill']\n",
      "46\n"
     ]
    }
   ],
   "source": [
    "#a: list[str] = [1 for 1 in dir (str) if \"_\" not in 1]\n",
    "a: list[str] = [name for name in dir(str) if \"_\" not in name]\n",
    "\n",
    "print (a)\n",
    "print (len(a))"
   ]
  },
  {
   "cell_type": "code",
   "execution_count": null,
   "metadata": {},
   "outputs": [
    {
     "name": "stdout",
     "output_type": "stream",
     "text": [
      "M Shafqat Sarwar\n",
      "M shafqat sarwar\n",
      "m shafqat sarwar\n",
      "m shafqat sarwar\n"
     ]
    }
   ],
   "source": [
    "name : str = \"M Shafqat Sarwar\"\n",
    "print (name)\n",
    "print(name.capitalize())\n",
    "print(name.lower())\n",
    "print(name.casefold())"
   ]
  },
  {
   "cell_type": "code",
   "execution_count": null,
   "metadata": {},
   "outputs": [
    {
     "name": "stdout",
     "output_type": "stream",
     "text": [
      "   M Shafqat Sarwar  \n"
     ]
    },
    {
     "data": {
      "text/plain": [
       "'M Shafqat Sarwar  '"
      ]
     },
     "metadata": {},
     "output_type": "display_data"
    }
   ],
   "source": [
    "name : str = \"   M Shafqat Sarwar  \"   \n",
    "print (name)\n",
    "display (name.lstrip())\n"
   ]
  },
  {
   "cell_type": "code",
   "execution_count": null,
   "metadata": {},
   "outputs": [
    {
     "name": "stdout",
     "output_type": "stream",
     "text": [
      "   M Shafqat Sarwar  \n"
     ]
    },
    {
     "data": {
      "text/plain": [
       "'   M Shafqat Sarwar'"
      ]
     },
     "metadata": {},
     "output_type": "display_data"
    }
   ],
   "source": [
    "name : str = \"   M Shafqat Sarwar  \"   \n",
    "print (name)\n",
    "display (name.rstrip())\n"
   ]
  },
  {
   "cell_type": "code",
   "execution_count": null,
   "metadata": {},
   "outputs": [
    {
     "name": "stdout",
     "output_type": "stream",
     "text": [
      "   M Shafqat Sarwar  \n"
     ]
    },
    {
     "data": {
      "text/plain": [
       "'M Shafqat Sarwar'"
      ]
     },
     "metadata": {},
     "output_type": "display_data"
    }
   ],
   "source": [
    "name : str = \"   M Shafqat Sarwar  \"   \n",
    "print (name)\n",
    "display (name.strip())\n"
   ]
  },
  {
   "cell_type": "code",
   "execution_count": null,
   "metadata": {},
   "outputs": [
    {
     "data": {
      "text/plain": [
       "'   M   Shafqat Sarwar  '"
      ]
     },
     "metadata": {},
     "output_type": "display_data"
    },
    {
     "data": {
      "text/plain": [
       "'M Shafqat Sarwar'"
      ]
     },
     "metadata": {},
     "output_type": "display_data"
    }
   ],
   "source": [
    "import re\n",
    "name : str = \"   M   Shafqat Sarwar  \"   \n",
    "display(name)\n",
    "name1:str= re.sub(' {2,100}',' ', name).strip()\n",
    "display(name1)\n"
   ]
  },
  {
   "cell_type": "code",
   "execution_count": null,
   "metadata": {},
   "outputs": [
    {
     "name": "stdout",
     "output_type": "stream",
     "text": [
      "Name:\t\t M SHafqat\n"
     ]
    }
   ],
   "source": [
    "print(\"Name:\\t\\t M SHafqat\")"
   ]
  },
  {
   "cell_type": "code",
   "execution_count": null,
   "metadata": {},
   "outputs": [
    {
     "name": "stdout",
     "output_type": "stream",
     "text": [
      "Name:\n",
      " M SHafqat\n"
     ]
    }
   ],
   "source": [
    "print(\"Name:\\n M SHafqat\")"
   ]
  },
  {
   "cell_type": "code",
   "execution_count": 6,
   "metadata": {},
   "outputs": [
    {
     "name": "stdout",
     "output_type": "stream",
     "text": [
      "Name M SHafqat\n"
     ]
    }
   ],
   "source": [
    "print(\"Name:\\b M SHafqat\")"
   ]
  },
  {
   "cell_type": "code",
   "execution_count": null,
   "metadata": {},
   "outputs": [
    {
     "data": {
      "text/plain": [
       "'nostarch.com'"
      ]
     },
     "execution_count": 12,
     "metadata": {},
     "output_type": "execute_result"
    }
   ],
   "source": [
    "nostarch_url:str =\"https://nostarch.com\"\n",
    "nostarch_url.removeprefix ('https://')"
   ]
  },
  {
   "cell_type": "markdown",
   "metadata": {},
   "source": [
    "naming convention\n"
   ]
  },
  {
   "cell_type": "code",
   "execution_count": null,
   "metadata": {},
   "outputs": [],
   "source": []
  }
 ],
 "metadata": {
  "kernelspec": {
   "display_name": "python12",
   "language": "python",
   "name": "python3"
  },
  "language_info": {
   "codemirror_mode": {
    "name": "ipython",
    "version": 3
   },
   "file_extension": ".py",
   "mimetype": "text/x-python",
   "name": "python",
   "nbconvert_exporter": "python",
   "pygments_lexer": "ipython3",
   "version": "3.12.0"
  }
 },
 "nbformat": 4,
 "nbformat_minor": 2
}
