{
 "cells": [
  {
   "cell_type": "code",
   "execution_count": 3,
   "metadata": {},
   "outputs": [
    {
     "data": {
      "text/html": [
       "<div>\n",
       "<style scoped>\n",
       "    .dataframe tbody tr th:only-of-type {\n",
       "        vertical-align: middle;\n",
       "    }\n",
       "\n",
       "    .dataframe tbody tr th {\n",
       "        vertical-align: top;\n",
       "    }\n",
       "\n",
       "    .dataframe thead th {\n",
       "        text-align: right;\n",
       "    }\n",
       "</style>\n",
       "<table border=\"1\" class=\"dataframe\">\n",
       "  <thead>\n",
       "    <tr style=\"text-align: right;\">\n",
       "      <th></th>\n",
       "      <th>roll no</th>\n",
       "      <th>Name</th>\n",
       "      <th>education</th>\n",
       "    </tr>\n",
       "  </thead>\n",
       "  <tbody>\n",
       "    <tr>\n",
       "      <th>0</th>\n",
       "      <td>1</td>\n",
       "      <td>khan</td>\n",
       "      <td>Masters</td>\n",
       "    </tr>\n",
       "    <tr>\n",
       "      <th>1</th>\n",
       "      <td>2</td>\n",
       "      <td>sarwar</td>\n",
       "      <td>Masters</td>\n",
       "    </tr>\n",
       "    <tr>\n",
       "      <th>2</th>\n",
       "      <td>3</td>\n",
       "      <td>shafqat</td>\n",
       "      <td>Masters</td>\n",
       "    </tr>\n",
       "  </tbody>\n",
       "</table>\n",
       "</div>"
      ],
      "text/plain": [
       "   roll no     Name education\n",
       "0        1     khan   Masters\n",
       "1        2   sarwar   Masters\n",
       "2        3  shafqat   Masters"
      ]
     },
     "execution_count": 3,
     "metadata": {},
     "output_type": "execute_result"
    }
   ],
   "source": [
    "import pandas as pd\n",
    "from typing import Any, Dict\n",
    "\n",
    "students_data : Dict[str, list[any]] = {\n",
    "    \"roll no\" : [1,2,3],\n",
    "    \"Name\" : [\"khan\", \"sarwar\", \"shafqat\"],\n",
    "    \"education\" : [\"Masters\", \"Masters\", \"Masters\"]\n",
    "}\n",
    "df : pd.DataFrame = pd.DataFrame(students_data)\n",
    "df"
   ]
  },
  {
   "cell_type": "code",
   "execution_count": null,
   "metadata": {},
   "outputs": [],
   "source": []
  },
  {
   "cell_type": "code",
   "execution_count": 8,
   "metadata": {},
   "outputs": [
    {
     "name": "stdout",
     "output_type": "stream",
     "text": [
      "Original position : 0\n",
      "New position: 4\n"
     ]
    }
   ],
   "source": [
    "alien_0 = {'x_position': 0,\n",
    "           'y_positon': 25,\n",
    "           'speed': 'medium'\n",
    "           }\n",
    "print(f\"Original position : {alien_0['x_position']}\")\n",
    "\n",
    "if alien_0['speed'] == 'slow':\n",
    "    x_increment = 1\n",
    "elif alien_0['speed'] == 'medium' :\n",
    "    x_increment = 2\n",
    "else:\n",
    "    x_increment = 3\n",
    "\n",
    "# the new position is th old position plus increment\n",
    "\n",
    "alien_0['x_position'] = alien_0['x_position'] + x_increment\n",
    "alien_0['x_position'] += x_increment\n",
    "print (f\"New position: {alien_0['x_position']}\")"
   ]
  },
  {
   "cell_type": "code",
   "execution_count": 9,
   "metadata": {},
   "outputs": [
    {
     "name": "stdout",
     "output_type": "stream",
     "text": [
      "Original position : 0\n",
      "New position: 6\n"
     ]
    }
   ],
   "source": [
    "alien_0 = {'x_position': 0,\n",
    "           'y_positon': 25,\n",
    "           'speed': 'medium'\n",
    "           }\n",
    "print(f\"Original position : {alien_0['x_position']}\")\n",
    "\n",
    "alien_0['speed'] = 'fast'\n",
    "\n",
    "if alien_0['speed'] == 'slow':\n",
    "    x_increment = 1\n",
    "elif alien_0['speed'] == 'medium' :\n",
    "    x_increment = 2\n",
    "else:\n",
    "    x_increment = 3\n",
    "\n",
    "# the new position is th old position plus increment\n",
    "\n",
    "alien_0['x_position'] = alien_0['x_position'] + x_increment\n",
    "alien_0['x_position'] += x_increment\n",
    "print (f\"New position: {alien_0['x_position']}\")"
   ]
  },
  {
   "cell_type": "code",
   "execution_count": 12,
   "metadata": {},
   "outputs": [
    {
     "name": "stdout",
     "output_type": "stream",
     "text": [
      "Original position : 0\n",
      "New position: 3\n"
     ]
    }
   ],
   "source": [
    "alien_0 = {'x_position': 0,\n",
    "           'y_positon': 25,\n",
    "           'speed': 'medium'\n",
    "           }\n",
    "print(f\"Original position : {alien_0['x_position']}\")\n",
    "\n",
    "alien_0['speed'] = 'fast'\n",
    "\n",
    "if alien_0['speed'] == 'slow':\n",
    "    x_increment = 1\n",
    "elif alien_0['speed'] == 'medium' :\n",
    "    x_increment = 2\n",
    "else:\n",
    "    x_increment = 3\n",
    "\n",
    "# the new position is th old position plus increment\n",
    "\n",
    "#alien_0['x_position'] = alien_0['x_position'] + x_increment\n",
    "alien_0['x_position'] += x_increment\n",
    "print (f\"New position: {alien_0['x_position']}\")"
   ]
  },
  {
   "cell_type": "code",
   "execution_count": 3,
   "metadata": {},
   "outputs": [
    {
     "name": "stdout",
     "output_type": "stream",
     "text": [
      "{'name': 'khan', 'fname': 'Sarwar', 'education': 'Mcs'}\n"
     ]
    }
   ],
   "source": [
    "from typing import Union, Dict\n",
    "Key = Union [int,str]\n",
    "Value = Union[int, str, list, dict, tuple, set ]\n",
    "\n",
    "data : Dict[Key, Value] = {\n",
    "    'name' : 'Shafqat',\n",
    "    'fname' : 'Sarwar',\n",
    "    'education' : 'Mcs',\n",
    "    'name' : 'khan'\n",
    "    }\n",
    "\n",
    "print ( data)"
   ]
  },
  {
   "cell_type": "code",
   "execution_count": 4,
   "metadata": {},
   "outputs": [
    {
     "name": "stdout",
     "output_type": "stream",
     "text": [
      "Sarah's favorite language is Python.\n"
     ]
    }
   ],
   "source": [
    "favorite_langauages = {\n",
    "    'jen' : 'python',\n",
    "    'sarah' : 'C',\n",
    "    'edward' : 'rust',\n",
    "    'phil' :'python'\n",
    "    }\n",
    "language = favorite_langauages['jen'].title()\n",
    "print (f\"Sarah's favorite language is {language}.\")"
   ]
  },
  {
   "cell_type": "code",
   "execution_count": 5,
   "metadata": {},
   "outputs": [
    {
     "name": "stdout",
     "output_type": "stream",
     "text": [
      "Hi Jen.\n",
      "Hi Sarah.\n",
      "Hi Edward.\n",
      "Hi Phil.\n"
     ]
    }
   ],
   "source": [
    "favorite_langauages = {\n",
    "    'jen' : 'python',\n",
    "    'sarah' : 'C',\n",
    "    'edward' : 'rust',\n",
    "    'phil' :'python'\n",
    "    }\n",
    "\n",
    "friends = ['phil', 'Sarah']\n",
    "for name in favorite_langauages.keys():\n",
    "    print (f\"Hi {name.title()}.\")"
   ]
  },
  {
   "cell_type": "code",
   "execution_count": 6,
   "metadata": {},
   "outputs": [
    {
     "name": "stdout",
     "output_type": "stream",
     "text": [
      "Hi Jen.\n",
      "Hi Sarah.\n",
      "Hi Edward.\n",
      "Hi Phil.\n",
      "Phil, I see you Love Python!\n"
     ]
    }
   ],
   "source": [
    "favorite_langauages = {\n",
    "    'jen' : 'python',\n",
    "    'sarah' : 'C',\n",
    "    'edward' : 'rust',\n",
    "    'phil' :'python'\n",
    "    }\n",
    "\n",
    "friends = ['phil', 'Sarah']\n",
    "for name in favorite_langauages.keys():\n",
    "    print (f\"Hi {name.title()}.\")\n",
    "    if name in friends:\n",
    "        language = favorite_langauages[name].title()\n",
    "        print(f\"{name.title()}, I see you Love {language}!\")"
   ]
  },
  {
   "cell_type": "code",
   "execution_count": null,
   "metadata": {},
   "outputs": [],
   "source": []
  }
 ],
 "metadata": {
  "kernelspec": {
   "display_name": "python12",
   "language": "python",
   "name": "python3"
  },
  "language_info": {
   "codemirror_mode": {
    "name": "ipython",
    "version": 3
   },
   "file_extension": ".py",
   "mimetype": "text/x-python",
   "name": "python",
   "nbconvert_exporter": "python",
   "pygments_lexer": "ipython3",
   "version": "3.12.0"
  }
 },
 "nbformat": 4,
 "nbformat_minor": 2
}
