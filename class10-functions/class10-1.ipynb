{
 "cells": [
  {
   "cell_type": "markdown",
   "metadata": {},
   "source": [
    "# Pass unlimited arguments\n",
    "* keyword arguments with *"
   ]
  },
  {
   "cell_type": "code",
   "execution_count": 1,
   "metadata": {},
   "outputs": [
    {
     "name": "stdout",
     "output_type": "stream",
     "text": [
      "(1, 2, 3, 4, 5, 6) <class 'tuple'>\n"
     ]
    }
   ],
   "source": [
    "def abc(*nums):\n",
    "    print (nums, type(nums))\n",
    "\n",
    "abc(1,2,3,4,5,6)"
   ]
  },
  {
   "cell_type": "code",
   "execution_count": 2,
   "metadata": {},
   "outputs": [
    {
     "name": "stdout",
     "output_type": "stream",
     "text": [
      "num1 value 7, num2 value 20\n"
     ]
    },
    {
     "data": {
      "text/plain": [
       "27"
      ]
     },
     "execution_count": 2,
     "metadata": {},
     "output_type": "execute_result"
    }
   ],
   "source": [
    "def add_two_numbers (num1 : int, num2 : int) -> int:\n",
    "    print (f\"num1 value {num1}, num2 value {num2}\")\n",
    "    return num1 + num2\n",
    "add_two_numbers(7,20)"
   ]
  },
  {
   "cell_type": "code",
   "execution_count": 3,
   "metadata": {},
   "outputs": [
    {
     "name": "stdout",
     "output_type": "stream",
     "text": [
      "num1 value 20, num2 value 7\n"
     ]
    },
    {
     "data": {
      "text/plain": [
       "27"
      ]
     },
     "execution_count": 3,
     "metadata": {},
     "output_type": "execute_result"
    }
   ],
   "source": [
    "def add_two_numbers (num1 : int, num2 : int) -> int:\n",
    "    print (f\"num1 value {num1}, num2 value {num2}\")\n",
    "    return num1 + num2\n",
    "\n",
    "add_two_numbers(num2=7, num1=20) # arg1, arg2 key words arguments"
   ]
  },
  {
   "cell_type": "code",
   "execution_count": 4,
   "metadata": {},
   "outputs": [
    {
     "name": "stdout",
     "output_type": "stream",
     "text": [
      "(1, 2, 3, 4, 5, 6) <class 'tuple'>\n"
     ]
    },
    {
     "data": {
      "text/plain": [
       "21"
      ]
     },
     "execution_count": 4,
     "metadata": {},
     "output_type": "execute_result"
    }
   ],
   "source": [
    "def abc(*nums):\n",
    "    print (nums, type(nums))\n",
    "    total=0\n",
    "    for n in nums:\n",
    "        total += n\n",
    "    return total\n",
    "\n",
    "abc(1,2,3,4,5,6)"
   ]
  },
  {
   "cell_type": "code",
   "execution_count": 5,
   "metadata": {},
   "outputs": [
    {
     "name": "stdout",
     "output_type": "stream",
     "text": [
      "{'a': 4, 'b': 5, 'x': 3, 'y': 2, 'name': 'Khan'} <class 'dict'>\n"
     ]
    }
   ],
   "source": [
    "def xyz (**kargs):\n",
    "    print (kargs, type(kargs))\n",
    "\n",
    "xyz (a=4,b=5, x=3,y=2, name=\"Khan\")"
   ]
  },
  {
   "cell_type": "code",
   "execution_count": 6,
   "metadata": {},
   "outputs": [
    {
     "name": "stdout",
     "output_type": "stream",
     "text": [
      "1 2 (3, 44) {'c': 99, 'd': 88, 'x': 100} <class 'function'>\n"
     ]
    }
   ],
   "source": [
    "def my_function (a,b, *abc, **xyz):\n",
    "    print (a,b, abc, xyz, type(my_function))\n",
    "\n",
    "my_function(1,2,3,44, c=99, d=88, x=100)"
   ]
  },
  {
   "cell_type": "code",
   "execution_count": 7,
   "metadata": {},
   "outputs": [
    {
     "name": "stdout",
     "output_type": "stream",
     "text": [
      "Hello Monica\n",
      "Hello Luke\n",
      "Hello Steve\n",
      "Hello John\n"
     ]
    }
   ],
   "source": [
    "from typing import Tuple\n",
    "def greet (*names: Tuple [str, ...]) -> None:\n",
    "    \"\"\"ArithmeticErrorThis function greets all persons in the names tuple.\n",
    "    \"\"\"\n",
    "    for name in names:\n",
    "        print ( \"Hello\", name)\n",
    "greet( \"Monica\",\"Luke\", \"Steve\", \"John\")"
   ]
  },
  {
   "cell_type": "code",
   "execution_count": 8,
   "metadata": {},
   "outputs": [
    {
     "name": "stdout",
     "output_type": "stream",
     "text": [
      "{'a': 'Pakistan', 'B': 'China'}\n"
     ]
    }
   ],
   "source": [
    "from typing import Dict\n",
    "\n",
    "def Greet (**xyz: Dict[str,str]) -> None:\n",
    "    print(xyz)\n",
    "Greet (a=\"Pakistan\", B=\"China\")"
   ]
  },
  {
   "cell_type": "code",
   "execution_count": 9,
   "metadata": {},
   "outputs": [
    {
     "name": "stdout",
     "output_type": "stream",
     "text": [
      "1 2 (3, 44) {'c': 99, 'd': 88, 'x': 100, 'z': 'Pakistan'} <class 'function'>\n"
     ]
    }
   ],
   "source": [
    "from typing import Dict\n",
    "from typing import Tuple\n",
    "\n",
    "def my_function (a,b:int, *abc:Tuple, **xyz:Dict) -> None:\n",
    "    print (a,b, abc, xyz, type(my_function))\n",
    "\n",
    "my_function(1,2,3,44, c=99, d=88, x=100, z=\"Pakistan\")"
   ]
  },
  {
   "cell_type": "code",
   "execution_count": 10,
   "metadata": {},
   "outputs": [
    {
     "name": "stdout",
     "output_type": "stream",
     "text": [
      "1 2 (3, 44) {'c': 99, 'd': 88, 'x': 100, 'z': 'Pakistan', 'g': 0} <class 'function'>\n"
     ]
    }
   ],
   "source": [
    "from typing import Dict, Tuple\n",
    "\n",
    "def my_function (a,b:int, *abc:Tuple[int, ...], **xyz:Dict[int,str]) -> None:\n",
    "    print (a,b, abc, xyz, type(my_function))\n",
    "\n",
    "my_function(1,2,3,44, c=99, d=88, x=100, z=\"Pakistan\",g=0)"
   ]
  },
  {
   "cell_type": "markdown",
   "metadata": {},
   "source": [
    "## Decorative function\n"
   ]
  },
  {
   "cell_type": "code",
   "execution_count": 11,
   "metadata": {},
   "outputs": [
    {
     "name": "stdout",
     "output_type": "stream",
     "text": [
      " some thing happen before function calling\n",
      "Hello!\n",
      "some thing happen after function calling.\n"
     ]
    }
   ],
   "source": [
    "from typing import Callable\n",
    "\n",
    "def decorator(func: Callable [[], None]) ->Callable [[], None]:\n",
    "    def Wraper () -> None:\n",
    "        print (\" some thing happen before function calling\" )\n",
    "        func ()\n",
    "        print ( \"some thing happen after function calling.\")\n",
    "    return Wraper\n",
    "@decorator\n",
    "def say_Hello () -> None:\n",
    "    print (\"Hello!\")\n",
    "\n",
    "say_Hello()\n"
   ]
  }
 ],
 "metadata": {
  "kernelspec": {
   "display_name": "Python 3",
   "language": "python",
   "name": "python3"
  },
  "language_info": {
   "codemirror_mode": {
    "name": "ipython",
    "version": 3
   },
   "file_extension": ".py",
   "mimetype": "text/x-python",
   "name": "python",
   "nbconvert_exporter": "python",
   "pygments_lexer": "ipython3",
   "version": "3.12.2"
  }
 },
 "nbformat": 4,
 "nbformat_minor": 2
}
