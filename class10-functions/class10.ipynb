{
 "cells": [
  {
   "cell_type": "markdown",
   "metadata": {},
   "source": [
    "# Pyhton Functions\n",
    "* pre defined functions\n",
    " * provided by in language\n",
    "* user defined functions\n",
    " * custom functions\n",
    "* Return and None-returne function/ similar properties on both type\n",
    " * Return\n",
    "  * we can assign this function output in any variable\n",
    "* None-Return function\n",
    " * only run, we cant assign value to any variable\n",
    "## components\n",
    "* functin declaration\n",
    "* function body\n",
    "* function calling\n",
    "\n",
    "### Syntax function\n",
    "'''\n",
    "def function_name (param1:type, param2:type, ...) -> Return type:\n",
    "function_body\n",
    "\n",
    "function_name (arg1,arg2) '''"
   ]
  },
  {
   "cell_type": "markdown",
   "metadata": {},
   "source": [
    "# predfine functions\n",
    "print \n",
    "len\n",
    "id\n",
    "dir\n",
    "str\n",
    "chr\n",
    "order\n",
    "execute\n"
   ]
  },
  {
   "cell_type": "code",
   "execution_count": 2,
   "metadata": {},
   "outputs": [
    {
     "name": "stdout",
     "output_type": "stream",
     "text": [
      "Pakistan\n"
     ]
    },
    {
     "data": {
      "text/plain": [
       "None"
      ]
     },
     "metadata": {},
     "output_type": "display_data"
    }
   ],
   "source": [
    "a : str = print(\"Pakistan\")\n",
    "display(a) # None that is none return function Print"
   ]
  },
  {
   "cell_type": "code",
   "execution_count": 3,
   "metadata": {},
   "outputs": [
    {
     "data": {
      "text/plain": [
       "8"
      ]
     },
     "metadata": {},
     "output_type": "display_data"
    }
   ],
   "source": [
    "a : int = len(\"Pakistan\")\n",
    "display(a)"
   ]
  },
  {
   "cell_type": "markdown",
   "metadata": {},
   "source": [
    "## components\n",
    "* functin declaration\n",
    "  * unique name\n",
    "* function body\n",
    "* function calling\n",
    "### Syntax function\n",
    "'''\n",
    "def function_name (param1:type, param2:type, ...) -> Return type: # function decleration\n",
    "function_body # Function body\n",
    "\n",
    "function_name (arg1,arg2) '''  # function calling\n",
    "\n",
    "#### Create simple function with out any argument ( defaukt function)"
   ]
  },
  {
   "cell_type": "code",
   "execution_count": 4,
   "metadata": {},
   "outputs": [
    {
     "name": "stdout",
     "output_type": "stream",
     "text": [
      "PIAIC Ai\n",
      "Python classes\n"
     ]
    }
   ],
   "source": [
    "def piaic () -> None: # declaration\n",
    "    # function body\n",
    "    print (\"PIAIC Ai\") # step 1\n",
    "    print (\"Python classes\") # step 2\n",
    "    # function bdy end\n",
    "piaic()"
   ]
  },
  {
   "cell_type": "code",
   "execution_count": 5,
   "metadata": {},
   "outputs": [
    {
     "data": {
      "text/plain": [
       "27"
      ]
     },
     "execution_count": 5,
     "metadata": {},
     "output_type": "execute_result"
    }
   ],
   "source": [
    "def add_two_numbers( num1:int, num2: int) ->int:\n",
    "    return num1+ num2\n",
    "add_two_numbers(7,20)"
   ]
  },
  {
   "cell_type": "markdown",
   "metadata": {},
   "source": [
    "# Required perameters functions"
   ]
  },
  {
   "cell_type": "code",
   "execution_count": 6,
   "metadata": {},
   "outputs": [
    {
     "data": {
      "text/plain": [
       "27"
      ]
     },
     "execution_count": 6,
     "metadata": {},
     "output_type": "execute_result"
    }
   ],
   "source": [
    "#                    param1    param2\n",
    "def add_two_numbers( num1:int, num2: int) ->int:\n",
    "    return num1+ num2\n",
    "add_two_numbers(7,20)"
   ]
  },
  {
   "cell_type": "markdown",
   "metadata": {},
   "source": [
    "# Function with optional perameters\n",
    "* required perameters"
   ]
  },
  {
   "cell_type": "code",
   "execution_count": 7,
   "metadata": {},
   "outputs": [
    {
     "name": "stdout",
     "output_type": "stream",
     "text": [
      "1 2\n"
     ]
    },
    {
     "data": {
      "text/plain": [
       "3"
      ]
     },
     "execution_count": 7,
     "metadata": {},
     "output_type": "execute_result"
    }
   ],
   "source": [
    "#                    param1    param2\n",
    "def add_two_numbers( num1:int, num2: int = 0) ->int:\n",
    "    print (num1, num2)\n",
    "    return num1+ num2\n",
    "add_two_numbers(1,2)"
   ]
  },
  {
   "cell_type": "markdown",
   "metadata": {},
   "source": [
    "### Syntax  Lambda Function (Anonymous function)\n",
    "* one line function\n",
    "* with out name\n",
    "* only use in single line\n",
    "'''\n",
    "lamda Param1:type ,,, ,param1:type ,,, , -> Return_type\n",
    "  function body\n",
    "  function_name (arg1, arg2)\n",
    "  '''\n",
    "\n"
   ]
  },
  {
   "cell_type": "code",
   "execution_count": 8,
   "metadata": {},
   "outputs": [
    {
     "data": {
      "text/plain": [
       "15"
      ]
     },
     "execution_count": 8,
     "metadata": {},
     "output_type": "execute_result"
    }
   ],
   "source": [
    "a =  lambda num1, num2 : num1 + num2\n",
    "a(7,8)"
   ]
  },
  {
   "cell_type": "code",
   "execution_count": 9,
   "metadata": {},
   "outputs": [
    {
     "data": {
      "text/plain": [
       "[1, 4, 9, 16, 25, 36, 49, 64, 81, 100]"
      ]
     },
     "execution_count": 9,
     "metadata": {},
     "output_type": "execute_result"
    }
   ],
   "source": [
    "data : list[int] = [1,2,3,4,5,6,7,8,9,10]\n",
    "data = list (map (lambda x:x**2, data))\n",
    "data"
   ]
  },
  {
   "cell_type": "code",
   "execution_count": 10,
   "metadata": {},
   "outputs": [
    {
     "data": {
      "text/plain": [
       "[2, 4, 6, 8, 10]"
      ]
     },
     "execution_count": 10,
     "metadata": {},
     "output_type": "execute_result"
    }
   ],
   "source": [
    "data : list[int] = [1,2,3,4,5,6,7,8,9,10]\n",
    "data = list (filter (lambda x:x%2==0, data))\n",
    "data"
   ]
  },
  {
   "cell_type": "code",
   "execution_count": 11,
   "metadata": {},
   "outputs": [
    {
     "data": {
      "text/plain": [
       "[1, 3, 5, 7, 9]"
      ]
     },
     "execution_count": 11,
     "metadata": {},
     "output_type": "execute_result"
    }
   ],
   "source": [
    "data  = [1,2,3,4,5,6,7,8,9,10]\n",
    "data  = list (filter (lambda x:x%2!=0, data))\n",
    "data"
   ]
  },
  {
   "cell_type": "markdown",
   "metadata": {},
   "source": [
    "## Generator Function\n",
    "* iterate on element one by one\n",
    "* stop after every iteration\n",
    "* remember old iteration value\n",
    "* next iterate\n",
    "  * go forward from last iterate value"
   ]
  },
  {
   "cell_type": "code",
   "execution_count": 12,
   "metadata": {},
   "outputs": [
    {
     "name": "stdout",
     "output_type": "stream",
     "text": [
      "<generator object my_range at 0x0000011A96D2C130>\n",
      "[1, 2, 3, 4, 5, 6, 7, 8, 9, 10]\n"
     ]
    }
   ],
   "source": [
    "def my_range (start:int ,end:int, step:int = 1):\n",
    "    for i in range (start, end+1, step):\n",
    "        yield i # Generator function\n",
    "\n",
    "a= my_range (1,10)\n",
    "print (a)\n",
    "print (list (a))"
   ]
  },
  {
   "cell_type": "code",
   "execution_count": 13,
   "metadata": {},
   "outputs": [
    {
     "name": "stdout",
     "output_type": "stream",
     "text": [
      "<generator object my_range at 0x0000011A96D2C400>\n",
      "1\n",
      "2\n",
      "3\n",
      "Pakistan\n",
      "4\n",
      "5\n",
      "<class 'generator'>\n"
     ]
    }
   ],
   "source": [
    "def my_range (start:int ,end:int, step:int = 1):\n",
    "    for i in range (start, end+1, step):\n",
    "        yield i # Generator function\n",
    "\n",
    "a= my_range (1,10)\n",
    "print (a)\n",
    "print (next (a))\n",
    "print (next (a))\n",
    "print (next (a))\n",
    "print (\"Pakistan\")\n",
    "print (next (a))\n",
    "print (next (a))\n",
    "\n",
    "print (type (a))"
   ]
  },
  {
   "cell_type": "code",
   "execution_count": 19,
   "metadata": {},
   "outputs": [
    {
     "name": "stdout",
     "output_type": "stream",
     "text": [
      "<generator object my_range at 0x0000011A96D2C400>\n",
      "1\n",
      "2\n",
      "<class 'generator'>\n"
     ]
    }
   ],
   "source": [
    "from collections.abc import Iterator\n",
    "\n",
    "def my_range (start:int, end:int, step:int = 1) -> Iterator[int]:\n",
    "    for i in range (start, end+1, step):\n",
    "        yield i # Generator function\n",
    "iterator_variable : Iterator[int] = my_range (1, 10)\n",
    "\n",
    "print (iterator_variable)\n",
    "\n",
    "print (next(iterator_variable))\n",
    "print (next(iterator_variable))\n",
    "\n",
    "print (type (iterator_variable))"
   ]
  },
  {
   "cell_type": "code",
   "execution_count": 25,
   "metadata": {},
   "outputs": [
    {
     "ename": "TypeError",
     "evalue": "'list' object is not an iterator",
     "output_type": "error",
     "traceback": [
      "\u001b[1;31m---------------------------------------------------------------------------\u001b[0m",
      "\u001b[1;31mTypeError\u001b[0m                                 Traceback (most recent call last)",
      "Cell \u001b[1;32mIn[25], line 4\u001b[0m\n\u001b[0;32m      1\u001b[0m \u001b[38;5;66;03m# data : list[int] = filter(lambda X:X%2==0, range(1,101))\u001b[39;00m\n\u001b[0;32m      2\u001b[0m data  \u001b[38;5;241m=\u001b[39m \u001b[38;5;28mlist\u001b[39m (\u001b[38;5;28mfilter\u001b[39m (\u001b[38;5;28;01mlambda\u001b[39;00m x:x\u001b[38;5;241m%\u001b[39m\u001b[38;5;241m2\u001b[39m\u001b[38;5;241m!=\u001b[39m\u001b[38;5;241m0\u001b[39m, \u001b[38;5;28mrange\u001b[39m(\u001b[38;5;241m1\u001b[39m,\u001b[38;5;241m101\u001b[39m)))\n\u001b[1;32m----> 4\u001b[0m \u001b[38;5;28mprint\u001b[39m(\u001b[38;5;28;43mnext\u001b[39;49m\u001b[43m(\u001b[49m\u001b[43mdata\u001b[49m\u001b[43m)\u001b[49m)\n\u001b[0;32m      5\u001b[0m \u001b[38;5;28mprint\u001b[39m(\u001b[38;5;28mnext\u001b[39m(data))\n\u001b[0;32m      6\u001b[0m \u001b[38;5;28mprint\u001b[39m(\u001b[38;5;28mnext\u001b[39m(data))\n",
      "\u001b[1;31mTypeError\u001b[0m: 'list' object is not an iterator"
     ]
    }
   ],
   "source": [
    "# data : list[int] = filter(lambda X:X%2==0, range(1,101))\n",
    "data  = list (filter (lambda x:x%2!=0, range(1,101)))\n",
    "\n",
    "print(next(data))\n",
    "print(next(data))\n",
    "print(next(data))\n"
   ]
  }
 ],
 "metadata": {
  "kernelspec": {
   "display_name": "Python 3",
   "language": "python",
   "name": "python3"
  },
  "language_info": {
   "codemirror_mode": {
    "name": "ipython",
    "version": 3
   },
   "file_extension": ".py",
   "mimetype": "text/x-python",
   "name": "python",
   "nbconvert_exporter": "python",
   "pygments_lexer": "ipython3",
   "version": "3.12.2"
  }
 },
 "nbformat": 4,
 "nbformat_minor": 2
}
