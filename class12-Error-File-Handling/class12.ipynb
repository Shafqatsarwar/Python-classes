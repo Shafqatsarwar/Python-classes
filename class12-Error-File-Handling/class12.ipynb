{
 "cells": [
  {
   "cell_type": "markdown",
   "metadata": {},
   "source": [
    "## Error Handling\n",
    "# connected to class 11\n",
    "\n",
    " * specific error Handling\n"
   ]
  },
  {
   "cell_type": "code",
   "execution_count": 13,
   "metadata": {},
   "outputs": [
    {
     "name": "stdout",
     "output_type": "stream",
     "text": [
      "logic1\n",
      "logic2\n",
      "3.5\n",
      "index Error\n",
      "logic3\n",
      "logic4\n",
      "logic5\n"
     ]
    }
   ],
   "source": [
    "print ('logic1')\n",
    "print ('logic2')\n",
    "l1: list[int]= [1,2,3,4,]\n",
    "try:\n",
    "    print (7/2) # Error\n",
    "    print (l1[5]) # Error\n",
    "    print ( xyz ) # Error\n",
    "except ZeroDivisionError:\n",
    "    print ('zero division error!')\n",
    "except IndexError:\n",
    "    print ('index Error')\n",
    "except NameError:\n",
    "    print ('name Error')\n",
    "print ('logic3')\n",
    "print ('logic4')\n",
    "print ('logic5')"
   ]
  },
  {
   "cell_type": "code",
   "execution_count": 14,
   "metadata": {},
   "outputs": [
    {
     "name": "stdout",
     "output_type": "stream",
     "text": [
      "logic1\n",
      "logic2\n",
      "3.5\n",
      "4\n",
      "xyz\n",
      "some thing is Wrong\n",
      "logic3\n",
      "logic4\n",
      "logic5\n"
     ]
    }
   ],
   "source": [
    "print ('logic1')\n",
    "print ('logic2')\n",
    "l1: list[int]= [1,2,3,4,]\n",
    "try:\n",
    "    print (7/2) # Error\n",
    "    print (l1[3]) # Error\n",
    "    print ( 'xyz' ) # Error\n",
    "    open ('aa.txt') # Error\n",
    "\n",
    "except ZeroDivisionError:\n",
    "    print ('zero division error!')\n",
    "except IndexError:\n",
    "    print ('index Error')\n",
    "except NameError:\n",
    "    print ('name Error')\n",
    "except:\n",
    "    print ('some thing is Wrong')\n",
    "print ('logic3')\n",
    "print ('logic4')\n",
    "print ('logic5')"
   ]
  },
  {
   "cell_type": "code",
   "execution_count": 15,
   "metadata": {},
   "outputs": [
    {
     "name": "stdout",
     "output_type": "stream",
     "text": [
      "some thing is Wrong! \n",
      " name 'age' is not defined\n"
     ]
    }
   ],
   "source": [
    "try:\n",
    "    print(age)\n",
    "except Exception as e:\n",
    "    print (f\"some thing is Wrong! \\n {e}\")\n"
   ]
  },
  {
   "cell_type": "code",
   "execution_count": 16,
   "metadata": {},
   "outputs": [
    {
     "name": "stdout",
     "output_type": "stream",
     "text": [
      "some thing is Wrong! \n",
      " list index out of range\n"
     ]
    }
   ],
   "source": [
    "try:\n",
    "    print (l1[200])\n",
    "except Exception as e:\n",
    "    print (f\"some thing is Wrong! \\n {e}\")\n"
   ]
  },
  {
   "cell_type": "code",
   "execution_count": 17,
   "metadata": {},
   "outputs": [
    {
     "name": "stdout",
     "output_type": "stream",
     "text": [
      "Khan 10 30\n"
     ]
    }
   ],
   "source": [
    "class StudentCard():\n",
    "    def __init__ (self, roll_no:int, name:str, age:int) -> None:\n",
    "        if age < 18 or age > 60 :\n",
    "            raise AgeError (\"you are not Eligible for this Program!\")\n",
    "        self.roll_no = roll_no\n",
    "        self.name = name\n",
    "        self.age = age\n",
    "\n",
    "class AgeError(Exception):\n",
    "    pass\n",
    "student1 = StudentCard (10, \"Khan\", 30)\n",
    "print ( student1.name, student1.roll_no, student1.age)\n"
   ]
  },
  {
   "cell_type": "code",
   "execution_count": 18,
   "metadata": {},
   "outputs": [
    {
     "ename": "AgeError",
     "evalue": "you are not Eligible for this Program!",
     "output_type": "error",
     "traceback": [
      "\u001b[1;31m---------------------------------------------------------------------------\u001b[0m",
      "\u001b[1;31mAgeError\u001b[0m                                  Traceback (most recent call last)",
      "Cell \u001b[1;32mIn[18], line 1\u001b[0m\n\u001b[1;32m----> 1\u001b[0m student1 \u001b[38;5;241m=\u001b[39m \u001b[43mStudentCard\u001b[49m\u001b[43m \u001b[49m\u001b[43m(\u001b[49m\u001b[38;5;241;43m1\u001b[39;49m\u001b[43m,\u001b[49m\u001b[43m \u001b[49m\u001b[38;5;124;43m\"\u001b[39;49m\u001b[38;5;124;43msarwar\u001b[39;49m\u001b[38;5;124;43m\"\u001b[39;49m\u001b[43m,\u001b[49m\u001b[43m \u001b[49m\u001b[38;5;241;43m61\u001b[39;49m\u001b[43m)\u001b[49m\n\u001b[0;32m      2\u001b[0m \u001b[38;5;28mprint\u001b[39m ( student1\u001b[38;5;241m.\u001b[39mname, student1\u001b[38;5;241m.\u001b[39mroll_no, student1\u001b[38;5;241m.\u001b[39mage)\n",
      "Cell \u001b[1;32mIn[17], line 4\u001b[0m, in \u001b[0;36mStudentCard.__init__\u001b[1;34m(self, roll_no, name, age)\u001b[0m\n\u001b[0;32m      2\u001b[0m \u001b[38;5;28;01mdef\u001b[39;00m \u001b[38;5;21m__init__\u001b[39m (\u001b[38;5;28mself\u001b[39m, roll_no:\u001b[38;5;28mint\u001b[39m, name:\u001b[38;5;28mstr\u001b[39m, age:\u001b[38;5;28mint\u001b[39m) \u001b[38;5;241m-\u001b[39m\u001b[38;5;241m>\u001b[39m \u001b[38;5;28;01mNone\u001b[39;00m:\n\u001b[0;32m      3\u001b[0m     \u001b[38;5;28;01mif\u001b[39;00m age \u001b[38;5;241m<\u001b[39m \u001b[38;5;241m18\u001b[39m \u001b[38;5;129;01mor\u001b[39;00m age \u001b[38;5;241m>\u001b[39m \u001b[38;5;241m60\u001b[39m :\n\u001b[1;32m----> 4\u001b[0m         \u001b[38;5;28;01mraise\u001b[39;00m AgeError (\u001b[38;5;124m\"\u001b[39m\u001b[38;5;124myou are not Eligible for this Program!\u001b[39m\u001b[38;5;124m\"\u001b[39m)\n\u001b[0;32m      5\u001b[0m     \u001b[38;5;28mself\u001b[39m\u001b[38;5;241m.\u001b[39mroll_no \u001b[38;5;241m=\u001b[39m roll_no\n\u001b[0;32m      6\u001b[0m     \u001b[38;5;28mself\u001b[39m\u001b[38;5;241m.\u001b[39mname \u001b[38;5;241m=\u001b[39m name\n",
      "\u001b[1;31mAgeError\u001b[0m: you are not Eligible for this Program!"
     ]
    }
   ],
   "source": [
    "student1 = StudentCard (1, \"sarwar\", 61)\n",
    "print ( student1.name, student1.roll_no, student1.age)"
   ]
  },
  {
   "cell_type": "code",
   "execution_count": null,
   "metadata": {},
   "outputs": [
    {
     "ename": "AgeError",
     "evalue": "you are not Eligible for this Program!",
     "output_type": "error",
     "traceback": [
      "\u001b[1;31m---------------------------------------------------------------------------\u001b[0m",
      "\u001b[1;31mAgeError\u001b[0m                                  Traceback (most recent call last)",
      "Cell \u001b[1;32mIn[27], line 1\u001b[0m\n\u001b[1;32m----> 1\u001b[0m student1 \u001b[38;5;241m=\u001b[39m \u001b[43mStudentCard\u001b[49m\u001b[43m \u001b[49m\u001b[43m(\u001b[49m\u001b[38;5;241;43m1\u001b[39;49m\u001b[43m,\u001b[49m\u001b[43m \u001b[49m\u001b[38;5;124;43m\"\u001b[39;49m\u001b[38;5;124;43msarwar\u001b[39;49m\u001b[38;5;124;43m\"\u001b[39;49m\u001b[43m,\u001b[49m\u001b[43m \u001b[49m\u001b[38;5;241;43m16\u001b[39;49m\u001b[43m)\u001b[49m\n\u001b[0;32m      2\u001b[0m \u001b[38;5;28mprint\u001b[39m ( student1\u001b[38;5;241m.\u001b[39mname, student1\u001b[38;5;241m.\u001b[39mroll_no, student1\u001b[38;5;241m.\u001b[39mage)\n",
      "Cell \u001b[1;32mIn[25], line 4\u001b[0m, in \u001b[0;36mStudentCard.__init__\u001b[1;34m(self, roll_no, name, age)\u001b[0m\n\u001b[0;32m      2\u001b[0m \u001b[38;5;28;01mdef\u001b[39;00m \u001b[38;5;21m__init__\u001b[39m (\u001b[38;5;28mself\u001b[39m, roll_no:\u001b[38;5;28mint\u001b[39m, name:\u001b[38;5;28mstr\u001b[39m, age:\u001b[38;5;28mint\u001b[39m) \u001b[38;5;241m-\u001b[39m\u001b[38;5;241m>\u001b[39m \u001b[38;5;28;01mNone\u001b[39;00m:\n\u001b[0;32m      3\u001b[0m     \u001b[38;5;28;01mif\u001b[39;00m age \u001b[38;5;241m<\u001b[39m \u001b[38;5;241m18\u001b[39m \u001b[38;5;129;01mor\u001b[39;00m age \u001b[38;5;241m>\u001b[39m \u001b[38;5;241m60\u001b[39m :\n\u001b[1;32m----> 4\u001b[0m         \u001b[38;5;28;01mraise\u001b[39;00m AgeError (\u001b[38;5;124m\"\u001b[39m\u001b[38;5;124myou are not Eligible for this Program!\u001b[39m\u001b[38;5;124m\"\u001b[39m)\n\u001b[0;32m      5\u001b[0m     \u001b[38;5;28mself\u001b[39m\u001b[38;5;241m.\u001b[39mroll_no \u001b[38;5;241m=\u001b[39m roll_no\n\u001b[0;32m      6\u001b[0m     \u001b[38;5;28mself\u001b[39m\u001b[38;5;241m.\u001b[39mname \u001b[38;5;241m=\u001b[39m name\n",
      "\u001b[1;31mAgeError\u001b[0m: you are not Eligible for this Program!"
     ]
    }
   ],
   "source": [
    "student1 = StudentCard (1, \"sarwar\", 16)\n",
    "print ( student1.name, student1.roll_no, student1.age)"
   ]
  },
  {
   "cell_type": "markdown",
   "metadata": {},
   "source": [
    "# File Handling\n",
    "<img src=\"data:image/png;base64,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\" >"
   ]
  },
  {
   "cell_type": "markdown",
   "metadata": {},
   "source": [
    "* Read Only ('r')\n",
    "* Read and Write ('r+')\n",
    "* Write Only ('w')\n",
    "* Write and Read ('w+')\n",
    "* Append Only ('a')\n",
    "* Append and Read ('a+')\n",
    "\n",
    "50 minutes"
   ]
  },
  {
   "cell_type": "code",
   "execution_count": 5,
   "metadata": {},
   "outputs": [
    {
     "data": {
      "text/plain": [
       "['_CHUNK_SIZE',\n",
       " '_checkClosed',\n",
       " '_checkReadable',\n",
       " '_checkSeekable',\n",
       " '_checkWritable',\n",
       " '_finalizing',\n",
       " 'buffer',\n",
       " 'close',\n",
       " 'closed',\n",
       " 'detach',\n",
       " 'encoding',\n",
       " 'errors',\n",
       " 'fileno',\n",
       " 'flush',\n",
       " 'isatty',\n",
       " 'line_buffering',\n",
       " 'mode',\n",
       " 'name',\n",
       " 'newlines',\n",
       " 'read',\n",
       " 'readable',\n",
       " 'readline',\n",
       " 'readlines',\n",
       " 'reconfigure',\n",
       " 'seek',\n",
       " 'seekable',\n",
       " 'tell',\n",
       " 'truncate',\n",
       " 'writable',\n",
       " 'write',\n",
       " 'write_through',\n",
       " 'writelines']"
      ]
     },
     "execution_count": 5,
     "metadata": {},
     "output_type": "execute_result"
    }
   ],
   "source": [
    "[i for i in dir(data) if\"__\" not in i]"
   ]
  },
  {
   "cell_type": "code",
   "execution_count": 3,
   "metadata": {},
   "outputs": [
    {
     "name": "stdout",
     "output_type": "stream",
     "text": [
      "<built-in method read of _io.TextIOWrapper object at 0x000001DAC8BEDA80>\n"
     ]
    }
   ],
   "source": [
    "from typing import TextIO\n",
    "data:TextIO = open (\"./abc.txt\")\n",
    "print (data.read)"
   ]
  },
  {
   "cell_type": "code",
   "execution_count": 4,
   "metadata": {},
   "outputs": [
    {
     "data": {
      "text/plain": [
       "<_io.TextIOWrapper name='./abc.txt' mode='r' encoding='cp1252'>"
      ]
     },
     "execution_count": 4,
     "metadata": {},
     "output_type": "execute_result"
    }
   ],
   "source": [
    "open (\"./abc.txt\")"
   ]
  },
  {
   "cell_type": "code",
   "execution_count": 6,
   "metadata": {},
   "outputs": [
    {
     "data": {
      "text/plain": [
       "_io.TextIOWrapper"
      ]
     },
     "execution_count": 6,
     "metadata": {},
     "output_type": "execute_result"
    }
   ],
   "source": [
    "type(data)"
   ]
  },
  {
   "cell_type": "code",
   "execution_count": 12,
   "metadata": {},
   "outputs": [
    {
     "name": "stdout",
     "output_type": "stream",
     "text": [
      "line 1\n",
      "line 2\n",
      "line 3\n",
      "line 4\n",
      "line 5\n",
      "Pakistan\n",
      "\n"
     ]
    }
   ],
   "source": [
    "from typing import TextIO\n",
    "data:TextIO = open (\"./abc.txt\")\n",
    "print (data.read())\n",
    "\n",
    "data.close()"
   ]
  },
  {
   "cell_type": "code",
   "execution_count": 11,
   "metadata": {},
   "outputs": [
    {
     "name": "stdout",
     "output_type": "stream",
     "text": [
      "<class '_io.TextIOWrapper'>\n",
      "line 1\n",
      "line 2\n",
      "line 3\n",
      "line 4\n",
      "line 5\n",
      "Pakistan\n",
      "\n"
     ]
    }
   ],
   "source": [
    "with open (\"./abc.txt\" ) as file:\n",
    "    print (type(file))\n",
    "    print(file.read())"
   ]
  },
  {
   "cell_type": "code",
   "execution_count": 13,
   "metadata": {},
   "outputs": [
    {
     "name": "stdout",
     "output_type": "stream",
     "text": [
      "<class '_io.TextIOWrapper'>\n",
      "line 1\n",
      "\n"
     ]
    }
   ],
   "source": [
    "with open (\"./abc.txt\" ) as file:\n",
    "    print (type(file))\n",
    "    print(file.readline())  # read only 1 line (first line)"
   ]
  },
  {
   "cell_type": "code",
   "execution_count": 14,
   "metadata": {},
   "outputs": [
    {
     "name": "stdout",
     "output_type": "stream",
     "text": [
      "<class '_io.TextIOWrapper'>\n",
      "['line 1\\n', 'line 2\\n', 'line 3\\n', 'line 4\\n', 'line 5\\n', 'Pakistan\\n']\n"
     ]
    }
   ],
   "source": [
    "with open (\"./abc.txt\" ) as file:\n",
    "    print (type(file))\n",
    "    print(file.readlines()) # read all lines (iteration)"
   ]
  },
  {
   "cell_type": "code",
   "execution_count": 17,
   "metadata": {},
   "outputs": [
    {
     "name": "stdout",
     "output_type": "stream",
     "text": [
      "<class '_io.TextIOWrapper'>\n",
      "['line 1\\n', 'line 2\\n', 'line 3\\n', 'line 4\\n', 'line 5\\n', 'Pakistan\\n']"
     ]
    }
   ],
   "source": [
    "with open (\"./abc.txt\" ) as file:\n",
    "    print (type(file))\n",
    "    print(file.readlines(), end=\"\") # read all lines (iteration)"
   ]
  },
  {
   "cell_type": "code",
   "execution_count": 16,
   "metadata": {},
   "outputs": [
    {
     "name": "stdout",
     "output_type": "stream",
     "text": [
      "<class '_io.TextIOWrapper'>\n",
      "['line 1\\n', 'line 2\\n', 'line 3\\n', 'line 4\\n', 'line 5\\n']\n"
     ]
    }
   ],
   "source": [
    "with open (\"./abc.txt\" ) as file:\n",
    "    print (type(file))\n",
    "    print(file.readlines()[:5]) # read all lines (specific line)"
   ]
  },
  {
   "cell_type": "code",
   "execution_count": 20,
   "metadata": {},
   "outputs": [
    {
     "name": "stdout",
     "output_type": "stream",
     "text": [
      "<class '_io.TextIOWrapper'>\n",
      "line 1\n",
      "line 2\n",
      "line 3\n",
      "line 4\n",
      "line 5\n",
      "Pakistan\n",
      "\n"
     ]
    },
    {
     "ename": "UnsupportedOperation",
     "evalue": "not writable",
     "output_type": "error",
     "traceback": [
      "\u001b[1;31m---------------------------------------------------------------------------\u001b[0m",
      "\u001b[1;31mUnsupportedOperation\u001b[0m                      Traceback (most recent call last)",
      "Cell \u001b[1;32mIn[20], line 4\u001b[0m\n\u001b[0;32m      2\u001b[0m \u001b[38;5;28mprint\u001b[39m (\u001b[38;5;28mtype\u001b[39m(file))\n\u001b[0;32m      3\u001b[0m \u001b[38;5;28mprint\u001b[39m(file\u001b[38;5;241m.\u001b[39mread()) \n\u001b[1;32m----> 4\u001b[0m \u001b[43mfile\u001b[49m\u001b[38;5;241;43m.\u001b[39;49m\u001b[43mwrite\u001b[49m\u001b[43m(\u001b[49m\u001b[38;5;124;43m\"\u001b[39;49m\u001b[38;5;124;43mPakistan Zinda Abad\u001b[39;49m\u001b[38;5;124;43m\"\u001b[39;49m\u001b[43m)\u001b[49m\n",
      "\u001b[1;31mUnsupportedOperation\u001b[0m: not writable"
     ]
    }
   ],
   "source": [
    "with open (\"./abc.txt\", \"r\" ) as file:\n",
    "    print (type(file))\n",
    "    print(file.read()) \n",
    "    file.write(\"Pakistan Zinda Abad\")"
   ]
  },
  {
   "cell_type": "code",
   "execution_count": 21,
   "metadata": {},
   "outputs": [],
   "source": [
    "with open (\"./abc1.txt\", \"w\" ) as file: # write access\n",
    "    file.write(\"Pakistan Zinda Abad\")"
   ]
  },
  {
   "cell_type": "code",
   "execution_count": 22,
   "metadata": {},
   "outputs": [
    {
     "name": "stdout",
     "output_type": "stream",
     "text": [
      "Pakistan Zinda Abad\n"
     ]
    }
   ],
   "source": [
    "with open (\"./abc1.txt\", \"r+\" ) as file: # read and write access\n",
    "    print (file.read())\n",
    "    file.write(\"Pakistan Zinda Abad\")"
   ]
  },
  {
   "cell_type": "code",
   "execution_count": 30,
   "metadata": {},
   "outputs": [
    {
     "name": "stdout",
     "output_type": "stream",
     "text": [
      "Pakistan zinda Abad\n",
      "After Pakistan zinda Abadwe love our country !\n"
     ]
    }
   ],
   "source": [
    "with open (\"./abc1.txt\", \"r+\" ) as file: # read and write access\n",
    "    print (file.read())\n",
    "    file.write(\"we love our country !\")\n",
    "    file.seek(0)\n",
    "    print (\"After\", file.read())\n"
   ]
  },
  {
   "cell_type": "markdown",
   "metadata": {},
   "source": [
    "# Now change Modes\n",
    " * add file\n",
    " 1:06 minutes"
   ]
  },
  {
   "cell_type": "code",
   "execution_count": 31,
   "metadata": {},
   "outputs": [],
   "source": [
    "with open (\"./abc2.txt\", \"w\" ) as file: # add new file\n",
    "    file.write(\"Pakistan\")\n",
    "    #print (file.read())"
   ]
  },
  {
   "cell_type": "markdown",
   "metadata": {},
   "source": [
    "print ('logic1')\n",
    "print ('logic2')\n",
    "l1: list[int]= [1,2,3,4,]\n",
    "try:\n",
    "    print (7/0) # Error\n",
    "    print (l1[2]) # Error\n",
    "    print ( xyz ) # Error\n",
    "except ZeroDivisionError:\n",
    "    print ('zero division error!')\n",
    "except IndexError:\n",
    "    print ('index Error')\n",
    "except NameError:\n",
    "    print ('name Error')\n",
    "print ('logic3')\n",
    "print ('logic4')\n",
    "print ('logic5')"
   ]
  }
 ],
 "metadata": {
  "kernelspec": {
   "display_name": "Python 3",
   "language": "python",
   "name": "python3"
  },
  "language_info": {
   "codemirror_mode": {
    "name": "ipython",
    "version": 3
   },
   "file_extension": ".py",
   "mimetype": "text/x-python",
   "name": "python",
   "nbconvert_exporter": "python",
   "pygments_lexer": "ipython3",
   "version": "3.12.2"
  }
 },
 "nbformat": 4,
 "nbformat_minor": 2
}
