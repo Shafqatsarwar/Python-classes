{
 "cells": [
  {
   "cell_type": "markdown",
   "metadata": {},
   "source": [
    "## Error Handling\n",
    "# connected to class 11\n",
    "\n",
    " * specific error Handling\n"
   ]
  },
  {
   "cell_type": "code",
   "execution_count": 12,
   "metadata": {},
   "outputs": [
    {
     "name": "stdout",
     "output_type": "stream",
     "text": [
      "logic1\n",
      "logic2\n",
      "3.5\n",
      "index Error\n",
      "logic3\n",
      "logic4\n",
      "logic5\n"
     ]
    }
   ],
   "source": [
    "print ('logic1')\n",
    "print ('logic2')\n",
    "l1: list[int]= [1,2,3,4,]\n",
    "try:\n",
    "    print (7/2) # Error\n",
    "    print (l1[5]) # Error\n",
    "    print ( xyz ) # Error\n",
    "except ZeroDivisionError:\n",
    "    print ('zero division error!')\n",
    "except IndexError:\n",
    "    print ('index Error')\n",
    "except NameError:\n",
    "    print ('name Error')\n",
    "print ('logic3')\n",
    "print ('logic4')\n",
    "print ('logic5')"
   ]
  },
  {
   "cell_type": "code",
   "execution_count": 13,
   "metadata": {},
   "outputs": [
    {
     "name": "stdout",
     "output_type": "stream",
     "text": [
      "logic1\n",
      "logic2\n",
      "3.5\n",
      "4\n",
      "xyz\n",
      "some thing is Wrong\n",
      "logic3\n",
      "logic4\n",
      "logic5\n"
     ]
    }
   ],
   "source": [
    "print ('logic1')\n",
    "print ('logic2')\n",
    "l1: list[int]= [1,2,3,4,]\n",
    "try:\n",
    "    print (7/2) # Error\n",
    "    print (l1[3]) # Error\n",
    "    print ( 'xyz' ) # Error\n",
    "    open ('aa.txt') # Error\n",
    "\n",
    "except ZeroDivisionError:\n",
    "    print ('zero division error!')\n",
    "except IndexError:\n",
    "    print ('index Error')\n",
    "except NameError:\n",
    "    print ('name Error')\n",
    "except:\n",
    "    print ('some thing is Wrong')\n",
    "print ('logic3')\n",
    "print ('logic4')\n",
    "print ('logic5')"
   ]
  },
  {
   "cell_type": "code",
   "execution_count": 14,
   "metadata": {},
   "outputs": [
    {
     "name": "stdout",
     "output_type": "stream",
     "text": [
      "some thing is Wrong! \n",
      " name 'age' is not defined\n"
     ]
    }
   ],
   "source": [
    "try:\n",
    "    print(age)\n",
    "except Exception as e:\n",
    "    print (f\"some thing is Wrong! \\n {e}\")\n"
   ]
  },
  {
   "cell_type": "code",
   "execution_count": 15,
   "metadata": {},
   "outputs": [
    {
     "name": "stdout",
     "output_type": "stream",
     "text": [
      "some thing is Wrong! \n",
      " list index out of range\n"
     ]
    }
   ],
   "source": [
    "try:\n",
    "    print (l1[200])\n",
    "except Exception as e:\n",
    "    print (f\"some thing is Wrong! \\n {e}\")\n"
   ]
  },
  {
   "cell_type": "code",
   "execution_count": 16,
   "metadata": {},
   "outputs": [
    {
     "name": "stdout",
     "output_type": "stream",
     "text": [
      "Khan 10 30\n"
     ]
    }
   ],
   "source": [
    "class StudentCard():\n",
    "    def __init__ (self, roll_no:int, name:str, age:int) -> None:\n",
    "        if age < 18 or age > 60 :\n",
    "            raise AgeError (\"you are not Eligible for this Program!\")\n",
    "        self.roll_no = roll_no\n",
    "        self.name = name\n",
    "        self.age = age\n",
    "\n",
    "class AgeError(Exception):\n",
    "    pass\n",
    "student1 = StudentCard (10, \"Khan\", 30)\n",
    "print ( student1.name, student1.roll_no, student1.age)\n"
   ]
  },
  {
   "cell_type": "code",
   "execution_count": 17,
   "metadata": {},
   "outputs": [
    {
     "ename": "AgeError",
     "evalue": "you are not Eligible for this Program!",
     "output_type": "error",
     "traceback": [
      "\u001b[1;31m---------------------------------------------------------------------------\u001b[0m",
      "\u001b[1;31mAgeError\u001b[0m                                  Traceback (most recent call last)",
      "Cell \u001b[1;32mIn[17], line 1\u001b[0m\n\u001b[1;32m----> 1\u001b[0m student1 \u001b[38;5;241m=\u001b[39m \u001b[43mStudentCard\u001b[49m\u001b[43m \u001b[49m\u001b[43m(\u001b[49m\u001b[38;5;241;43m1\u001b[39;49m\u001b[43m,\u001b[49m\u001b[43m \u001b[49m\u001b[38;5;124;43m\"\u001b[39;49m\u001b[38;5;124;43msarwar\u001b[39;49m\u001b[38;5;124;43m\"\u001b[39;49m\u001b[43m,\u001b[49m\u001b[43m \u001b[49m\u001b[38;5;241;43m61\u001b[39;49m\u001b[43m)\u001b[49m\n\u001b[0;32m      2\u001b[0m \u001b[38;5;28mprint\u001b[39m ( student1\u001b[38;5;241m.\u001b[39mname, student1\u001b[38;5;241m.\u001b[39mroll_no, student1\u001b[38;5;241m.\u001b[39mage)\n",
      "Cell \u001b[1;32mIn[16], line 4\u001b[0m, in \u001b[0;36mStudentCard.__init__\u001b[1;34m(self, roll_no, name, age)\u001b[0m\n\u001b[0;32m      2\u001b[0m \u001b[38;5;28;01mdef\u001b[39;00m \u001b[38;5;21m__init__\u001b[39m (\u001b[38;5;28mself\u001b[39m, roll_no:\u001b[38;5;28mint\u001b[39m, name:\u001b[38;5;28mstr\u001b[39m, age:\u001b[38;5;28mint\u001b[39m) \u001b[38;5;241m-\u001b[39m\u001b[38;5;241m>\u001b[39m \u001b[38;5;28;01mNone\u001b[39;00m:\n\u001b[0;32m      3\u001b[0m     \u001b[38;5;28;01mif\u001b[39;00m age \u001b[38;5;241m<\u001b[39m \u001b[38;5;241m18\u001b[39m \u001b[38;5;129;01mor\u001b[39;00m age \u001b[38;5;241m>\u001b[39m \u001b[38;5;241m60\u001b[39m :\n\u001b[1;32m----> 4\u001b[0m         \u001b[38;5;28;01mraise\u001b[39;00m AgeError (\u001b[38;5;124m\"\u001b[39m\u001b[38;5;124myou are not Eligible for this Program!\u001b[39m\u001b[38;5;124m\"\u001b[39m)\n\u001b[0;32m      5\u001b[0m     \u001b[38;5;28mself\u001b[39m\u001b[38;5;241m.\u001b[39mroll_no \u001b[38;5;241m=\u001b[39m roll_no\n\u001b[0;32m      6\u001b[0m     \u001b[38;5;28mself\u001b[39m\u001b[38;5;241m.\u001b[39mname \u001b[38;5;241m=\u001b[39m name\n",
      "\u001b[1;31mAgeError\u001b[0m: you are not Eligible for this Program!"
     ]
    }
   ],
   "source": [
    "student1 = StudentCard (1, \"sarwar\", 61)\n",
    "print ( student1.name, student1.roll_no, student1.age)"
   ]
  },
  {
   "cell_type": "code",
   "execution_count": null,
   "metadata": {},
   "outputs": [
    {
     "ename": "AgeError",
     "evalue": "you are not Eligible for this Program!",
     "output_type": "error",
     "traceback": [
      "\u001b[1;31m---------------------------------------------------------------------------\u001b[0m",
      "\u001b[1;31mAgeError\u001b[0m                                  Traceback (most recent call last)",
      "Cell \u001b[1;32mIn[27], line 1\u001b[0m\n\u001b[1;32m----> 1\u001b[0m student1 \u001b[38;5;241m=\u001b[39m \u001b[43mStudentCard\u001b[49m\u001b[43m \u001b[49m\u001b[43m(\u001b[49m\u001b[38;5;241;43m1\u001b[39;49m\u001b[43m,\u001b[49m\u001b[43m \u001b[49m\u001b[38;5;124;43m\"\u001b[39;49m\u001b[38;5;124;43msarwar\u001b[39;49m\u001b[38;5;124;43m\"\u001b[39;49m\u001b[43m,\u001b[49m\u001b[43m \u001b[49m\u001b[38;5;241;43m16\u001b[39;49m\u001b[43m)\u001b[49m\n\u001b[0;32m      2\u001b[0m \u001b[38;5;28mprint\u001b[39m ( student1\u001b[38;5;241m.\u001b[39mname, student1\u001b[38;5;241m.\u001b[39mroll_no, student1\u001b[38;5;241m.\u001b[39mage)\n",
      "Cell \u001b[1;32mIn[25], line 4\u001b[0m, in \u001b[0;36mStudentCard.__init__\u001b[1;34m(self, roll_no, name, age)\u001b[0m\n\u001b[0;32m      2\u001b[0m \u001b[38;5;28;01mdef\u001b[39;00m \u001b[38;5;21m__init__\u001b[39m (\u001b[38;5;28mself\u001b[39m, roll_no:\u001b[38;5;28mint\u001b[39m, name:\u001b[38;5;28mstr\u001b[39m, age:\u001b[38;5;28mint\u001b[39m) \u001b[38;5;241m-\u001b[39m\u001b[38;5;241m>\u001b[39m \u001b[38;5;28;01mNone\u001b[39;00m:\n\u001b[0;32m      3\u001b[0m     \u001b[38;5;28;01mif\u001b[39;00m age \u001b[38;5;241m<\u001b[39m \u001b[38;5;241m18\u001b[39m \u001b[38;5;129;01mor\u001b[39;00m age \u001b[38;5;241m>\u001b[39m \u001b[38;5;241m60\u001b[39m :\n\u001b[1;32m----> 4\u001b[0m         \u001b[38;5;28;01mraise\u001b[39;00m AgeError (\u001b[38;5;124m\"\u001b[39m\u001b[38;5;124myou are not Eligible for this Program!\u001b[39m\u001b[38;5;124m\"\u001b[39m)\n\u001b[0;32m      5\u001b[0m     \u001b[38;5;28mself\u001b[39m\u001b[38;5;241m.\u001b[39mroll_no \u001b[38;5;241m=\u001b[39m roll_no\n\u001b[0;32m      6\u001b[0m     \u001b[38;5;28mself\u001b[39m\u001b[38;5;241m.\u001b[39mname \u001b[38;5;241m=\u001b[39m name\n",
      "\u001b[1;31mAgeError\u001b[0m: you are not Eligible for this Program!"
     ]
    }
   ],
   "source": [
    "student1 = StudentCard (1, \"sarwar\", 16)\n",
    "print ( student1.name, student1.roll_no, student1.age)"
   ]
  },
  {
   "cell_type": "markdown",
   "metadata": {},
   "source": [
    "# File Handling\n",
    "<img src=\"data:image/png;base64,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\" >"
   ]
  },
  {
   "cell_type": "markdown",
   "metadata": {},
   "source": [
    "* Read Only ('r')\n",
    "* Read and Write ('r+')\n",
    "* Write Only ('w')\n",
    "* Write and Read ('w+')\n",
    "* Append Only ('a')\n",
    "* Append and Read ('a+')\n",
    "\n",
    "50 minutes"
   ]
  },
  {
   "cell_type": "code",
   "execution_count": null,
   "metadata": {},
   "outputs": [
    {
     "data": {
      "text/plain": [
       "['_CHUNK_SIZE',\n",
       " '_checkClosed',\n",
       " '_checkReadable',\n",
       " '_checkSeekable',\n",
       " '_checkWritable',\n",
       " '_finalizing',\n",
       " 'buffer',\n",
       " 'close',\n",
       " 'closed',\n",
       " 'detach',\n",
       " 'encoding',\n",
       " 'errors',\n",
       " 'fileno',\n",
       " 'flush',\n",
       " 'isatty',\n",
       " 'line_buffering',\n",
       " 'mode',\n",
       " 'name',\n",
       " 'newlines',\n",
       " 'read',\n",
       " 'readable',\n",
       " 'readline',\n",
       " 'readlines',\n",
       " 'reconfigure',\n",
       " 'seek',\n",
       " 'seekable',\n",
       " 'tell',\n",
       " 'truncate',\n",
       " 'writable',\n",
       " 'write',\n",
       " 'write_through',\n",
       " 'writelines']"
      ]
     },
     "execution_count": 5,
     "metadata": {},
     "output_type": "execute_result"
    }
   ],
   "source": [
    "[i for i in dir(data) if\"__\" not in i]"
   ]
  },
  {
   "cell_type": "code",
   "execution_count": null,
   "metadata": {},
   "outputs": [
    {
     "name": "stdout",
     "output_type": "stream",
     "text": [
      "<built-in method read of _io.TextIOWrapper object at 0x000001DAC8BEDA80>\n"
     ]
    }
   ],
   "source": [
    "from typing import TextIO\n",
    "data:TextIO = open (\"./abc.txt\")\n",
    "print (data.read)"
   ]
  },
  {
   "cell_type": "code",
   "execution_count": null,
   "metadata": {},
   "outputs": [
    {
     "data": {
      "text/plain": [
       "<_io.TextIOWrapper name='./abc.txt' mode='r' encoding='cp1252'>"
      ]
     },
     "execution_count": 4,
     "metadata": {},
     "output_type": "execute_result"
    }
   ],
   "source": [
    "open (\"./abc.txt\")"
   ]
  },
  {
   "cell_type": "code",
   "execution_count": null,
   "metadata": {},
   "outputs": [
    {
     "data": {
      "text/plain": [
       "_io.TextIOWrapper"
      ]
     },
     "execution_count": 6,
     "metadata": {},
     "output_type": "execute_result"
    }
   ],
   "source": [
    "type(data)"
   ]
  },
  {
   "cell_type": "code",
   "execution_count": null,
   "metadata": {},
   "outputs": [
    {
     "name": "stdout",
     "output_type": "stream",
     "text": [
      "line 1\n",
      "line 2\n",
      "line 3\n",
      "line 4\n",
      "line 5\n",
      "Pakistan\n",
      "\n"
     ]
    }
   ],
   "source": [
    "from typing import TextIO\n",
    "data:TextIO = open (\"./abc.txt\")\n",
    "print (data.read())\n",
    "\n",
    "data.close()"
   ]
  },
  {
   "cell_type": "code",
   "execution_count": null,
   "metadata": {},
   "outputs": [
    {
     "name": "stdout",
     "output_type": "stream",
     "text": [
      "<class '_io.TextIOWrapper'>\n",
      "line 1\n",
      "line 2\n",
      "line 3\n",
      "line 4\n",
      "line 5\n",
      "Pakistan\n",
      "\n"
     ]
    }
   ],
   "source": [
    "with open (\"./abc.txt\" ) as file:\n",
    "    print (type(file))\n",
    "    print(file.read())"
   ]
  },
  {
   "cell_type": "code",
   "execution_count": null,
   "metadata": {},
   "outputs": [
    {
     "name": "stdout",
     "output_type": "stream",
     "text": [
      "<class '_io.TextIOWrapper'>\n",
      "line 1\n",
      "\n"
     ]
    }
   ],
   "source": [
    "with open (\"./abc.txt\" ) as file:\n",
    "    print (type(file))\n",
    "    print(file.readline())  # read only 1 line (first line)"
   ]
  },
  {
   "cell_type": "code",
   "execution_count": null,
   "metadata": {},
   "outputs": [
    {
     "name": "stdout",
     "output_type": "stream",
     "text": [
      "<class '_io.TextIOWrapper'>\n",
      "['line 1\\n', 'line 2\\n', 'line 3\\n', 'line 4\\n', 'line 5\\n', 'Pakistan\\n']\n"
     ]
    }
   ],
   "source": [
    "with open (\"./abc.txt\" ) as file:\n",
    "    print (type(file))\n",
    "    print(file.readlines()) # read all lines (iteration)"
   ]
  },
  {
   "cell_type": "code",
   "execution_count": null,
   "metadata": {},
   "outputs": [
    {
     "name": "stdout",
     "output_type": "stream",
     "text": [
      "<class '_io.TextIOWrapper'>\n",
      "['line 1\\n', 'line 2\\n', 'line 3\\n', 'line 4\\n', 'line 5\\n', 'Pakistan\\n']"
     ]
    }
   ],
   "source": [
    "with open (\"./abc.txt\" ) as file:\n",
    "    print (type(file))\n",
    "    print(file.readlines(), end=\"\") # read all lines (iteration)"
   ]
  },
  {
   "cell_type": "code",
   "execution_count": null,
   "metadata": {},
   "outputs": [
    {
     "name": "stdout",
     "output_type": "stream",
     "text": [
      "<class '_io.TextIOWrapper'>\n",
      "['line 1\\n', 'line 2\\n', 'line 3\\n', 'line 4\\n', 'line 5\\n']\n"
     ]
    }
   ],
   "source": [
    "with open (\"./abc.txt\" ) as file:\n",
    "    print (type(file))\n",
    "    print(file.readlines()[:5]) # read all lines (specific line)"
   ]
  },
  {
   "cell_type": "code",
   "execution_count": null,
   "metadata": {},
   "outputs": [
    {
     "name": "stdout",
     "output_type": "stream",
     "text": [
      "<class '_io.TextIOWrapper'>\n",
      "line 1\n",
      "line 2\n",
      "line 3\n",
      "line 4\n",
      "line 5\n",
      "Pakistan\n",
      "\n"
     ]
    },
    {
     "ename": "UnsupportedOperation",
     "evalue": "not writable",
     "output_type": "error",
     "traceback": [
      "\u001b[1;31m---------------------------------------------------------------------------\u001b[0m",
      "\u001b[1;31mUnsupportedOperation\u001b[0m                      Traceback (most recent call last)",
      "Cell \u001b[1;32mIn[20], line 4\u001b[0m\n\u001b[0;32m      2\u001b[0m \u001b[38;5;28mprint\u001b[39m (\u001b[38;5;28mtype\u001b[39m(file))\n\u001b[0;32m      3\u001b[0m \u001b[38;5;28mprint\u001b[39m(file\u001b[38;5;241m.\u001b[39mread()) \n\u001b[1;32m----> 4\u001b[0m \u001b[43mfile\u001b[49m\u001b[38;5;241;43m.\u001b[39;49m\u001b[43mwrite\u001b[49m\u001b[43m(\u001b[49m\u001b[38;5;124;43m\"\u001b[39;49m\u001b[38;5;124;43mPakistan Zinda Abad\u001b[39;49m\u001b[38;5;124;43m\"\u001b[39;49m\u001b[43m)\u001b[49m\n",
      "\u001b[1;31mUnsupportedOperation\u001b[0m: not writable"
     ]
    }
   ],
   "source": [
    "with open (\"./abc.txt\", \"r\" ) as file:\n",
    "    print (type(file))\n",
    "    print(file.read()) \n",
    "    file.write(\"Pakistan Zinda Abad\")"
   ]
  },
  {
   "cell_type": "code",
   "execution_count": null,
   "metadata": {},
   "outputs": [],
   "source": [
    "with open (\"./abc1.txt\", \"w\" ) as file: # write access\n",
    "    file.write(\"Pakistan Zinda Abad\")"
   ]
  },
  {
   "cell_type": "code",
   "execution_count": null,
   "metadata": {},
   "outputs": [
    {
     "name": "stdout",
     "output_type": "stream",
     "text": [
      "Pakistan Zinda Abad\n"
     ]
    }
   ],
   "source": [
    "with open (\"./abc1.txt\", \"r+\" ) as file: # read and write access\n",
    "    print (file.read())\n",
    "    file.write(\"Pakistan Zinda Abad\")"
   ]
  },
  {
   "cell_type": "code",
   "execution_count": null,
   "metadata": {},
   "outputs": [
    {
     "name": "stdout",
     "output_type": "stream",
     "text": [
      "Pakistan zinda Abad\n",
      "After Pakistan zinda Abadwe love our country !\n"
     ]
    }
   ],
   "source": [
    "with open (\"./abc1.txt\", \"r+\" ) as file: # read and write access\n",
    "    print (file.read())\n",
    "    file.write(\"we love our country !\")\n",
    "    file.seek(0)\n",
    "    print (\"After\", file.read())\n"
   ]
  },
  {
   "cell_type": "markdown",
   "metadata": {},
   "source": [
    "# Now change Modes\n",
    " * add file\n",
    " 1:06 minutes"
   ]
  },
  {
   "cell_type": "code",
   "execution_count": null,
   "metadata": {},
   "outputs": [],
   "source": [
    "with open (\"./abc2.txt\", \"w\" ) as file: # add new file if file not exist or ower write if exist\n",
    "    file.write(\"Pakistan\")\n",
    "    #print (file.read())"
   ]
  },
  {
   "cell_type": "code",
   "execution_count": null,
   "metadata": {},
   "outputs": [],
   "source": [
    "with open (\"./abc3.txt\", \"a\" ) as file: # add new file if file not exist or add content\n",
    "    file.write(\"line2\")\n",
    "    #print (file.read())"
   ]
  },
  {
   "cell_type": "code",
   "execution_count": null,
   "metadata": {},
   "outputs": [],
   "source": [
    "with open (\"./abc3.txt\", \"a\" ) as file: # add new file if file not exist orr add content\n",
    "    file.write(\"line3\")\n",
    "    #print (file.read())"
   ]
  },
  {
   "cell_type": "code",
   "execution_count": null,
   "metadata": {},
   "outputs": [
    {
     "ename": "FileExistsError",
     "evalue": "[Errno 17] File exists: './abc4.txt'",
     "output_type": "error",
     "traceback": [
      "\u001b[1;31m---------------------------------------------------------------------------\u001b[0m",
      "\u001b[1;31mFileExistsError\u001b[0m                           Traceback (most recent call last)",
      "Cell \u001b[1;32mIn[8], line 1\u001b[0m\n\u001b[1;32m----> 1\u001b[0m \u001b[38;5;28;01mwith\u001b[39;00m \u001b[38;5;28;43mopen\u001b[39;49m\u001b[43m \u001b[49m\u001b[43m(\u001b[49m\u001b[38;5;124;43m\"\u001b[39;49m\u001b[38;5;124;43m./abc4.txt\u001b[39;49m\u001b[38;5;124;43m\"\u001b[39;49m\u001b[43m,\u001b[49m\u001b[43m \u001b[49m\u001b[38;5;124;43m\"\u001b[39;49m\u001b[38;5;124;43mx\u001b[39;49m\u001b[38;5;124;43m\"\u001b[39;49m\u001b[43m \u001b[49m\u001b[43m)\u001b[49m \u001b[38;5;28;01mas\u001b[39;00m file: \u001b[38;5;66;03m# add new file if file not exist or ower write if exist\u001b[39;00m\n\u001b[0;32m      2\u001b[0m     file\u001b[38;5;241m.\u001b[39mwrite(\u001b[38;5;124m\"\u001b[39m\u001b[38;5;124mline2\u001b[39m\u001b[38;5;124m\"\u001b[39m)\n\u001b[0;32m      3\u001b[0m     \u001b[38;5;66;03m#print (file.read())\u001b[39;00m\n",
      "File \u001b[1;32m~\\AppData\\Roaming\\Python\\Python312\\site-packages\\IPython\\core\\interactiveshell.py:324\u001b[0m, in \u001b[0;36m_modified_open\u001b[1;34m(file, *args, **kwargs)\u001b[0m\n\u001b[0;32m    317\u001b[0m \u001b[38;5;28;01mif\u001b[39;00m file \u001b[38;5;129;01min\u001b[39;00m {\u001b[38;5;241m0\u001b[39m, \u001b[38;5;241m1\u001b[39m, \u001b[38;5;241m2\u001b[39m}:\n\u001b[0;32m    318\u001b[0m     \u001b[38;5;28;01mraise\u001b[39;00m \u001b[38;5;167;01mValueError\u001b[39;00m(\n\u001b[0;32m    319\u001b[0m         \u001b[38;5;124mf\u001b[39m\u001b[38;5;124m\"\u001b[39m\u001b[38;5;124mIPython won\u001b[39m\u001b[38;5;124m'\u001b[39m\u001b[38;5;124mt let you open fd=\u001b[39m\u001b[38;5;132;01m{\u001b[39;00mfile\u001b[38;5;132;01m}\u001b[39;00m\u001b[38;5;124m by default \u001b[39m\u001b[38;5;124m\"\u001b[39m\n\u001b[0;32m    320\u001b[0m         \u001b[38;5;124m\"\u001b[39m\u001b[38;5;124mas it is likely to crash IPython. If you know what you are doing, \u001b[39m\u001b[38;5;124m\"\u001b[39m\n\u001b[0;32m    321\u001b[0m         \u001b[38;5;124m\"\u001b[39m\u001b[38;5;124myou can use builtins\u001b[39m\u001b[38;5;124m'\u001b[39m\u001b[38;5;124m open.\u001b[39m\u001b[38;5;124m\"\u001b[39m\n\u001b[0;32m    322\u001b[0m     )\n\u001b[1;32m--> 324\u001b[0m \u001b[38;5;28;01mreturn\u001b[39;00m \u001b[43mio_open\u001b[49m\u001b[43m(\u001b[49m\u001b[43mfile\u001b[49m\u001b[43m,\u001b[49m\u001b[43m \u001b[49m\u001b[38;5;241;43m*\u001b[39;49m\u001b[43margs\u001b[49m\u001b[43m,\u001b[49m\u001b[43m \u001b[49m\u001b[38;5;241;43m*\u001b[39;49m\u001b[38;5;241;43m*\u001b[39;49m\u001b[43mkwargs\u001b[49m\u001b[43m)\u001b[49m\n",
      "\u001b[1;31mFileExistsError\u001b[0m: [Errno 17] File exists: './abc4.txt'"
     ]
    }
   ],
   "source": [
    "with open (\"./abc4.txt\", \"x\" ) as file: # add new file if file not exist or genrate error\n",
    "    file.write(\"line2\")\n",
    "    #print (file.read())"
   ]
  },
  {
   "cell_type": "code",
   "execution_count": null,
   "metadata": {},
   "outputs": [
    {
     "ename": "FileExistsError",
     "evalue": "[Errno 17] File exists: './abc4.txt'",
     "output_type": "error",
     "traceback": [
      "\u001b[1;31m---------------------------------------------------------------------------\u001b[0m",
      "\u001b[1;31mFileExistsError\u001b[0m                           Traceback (most recent call last)",
      "Cell \u001b[1;32mIn[5], line 1\u001b[0m\n\u001b[1;32m----> 1\u001b[0m \u001b[38;5;28;01mwith\u001b[39;00m \u001b[38;5;28;43mopen\u001b[39;49m\u001b[43m \u001b[49m\u001b[43m(\u001b[49m\u001b[38;5;124;43m\"\u001b[39;49m\u001b[38;5;124;43m./abc4.txt\u001b[39;49m\u001b[38;5;124;43m\"\u001b[39;49m\u001b[43m,\u001b[49m\u001b[43m \u001b[49m\u001b[38;5;124;43m\"\u001b[39;49m\u001b[38;5;124;43mx\u001b[39;49m\u001b[38;5;124;43m\"\u001b[39;49m\u001b[43m \u001b[49m\u001b[43m)\u001b[49m \u001b[38;5;28;01mas\u001b[39;00m file: \u001b[38;5;66;03m# add new file if file not exist or ower write if exist\u001b[39;00m\n\u001b[0;32m      2\u001b[0m     file\u001b[38;5;241m.\u001b[39mwrite(\u001b[38;5;124m\"\u001b[39m\u001b[38;5;124mline2\u001b[39m\u001b[38;5;124m\"\u001b[39m)\n\u001b[0;32m      3\u001b[0m     \u001b[38;5;66;03m#print (file.read())\u001b[39;00m\n",
      "File \u001b[1;32m~\\AppData\\Roaming\\Python\\Python312\\site-packages\\IPython\\core\\interactiveshell.py:324\u001b[0m, in \u001b[0;36m_modified_open\u001b[1;34m(file, *args, **kwargs)\u001b[0m\n\u001b[0;32m    317\u001b[0m \u001b[38;5;28;01mif\u001b[39;00m file \u001b[38;5;129;01min\u001b[39;00m {\u001b[38;5;241m0\u001b[39m, \u001b[38;5;241m1\u001b[39m, \u001b[38;5;241m2\u001b[39m}:\n\u001b[0;32m    318\u001b[0m     \u001b[38;5;28;01mraise\u001b[39;00m \u001b[38;5;167;01mValueError\u001b[39;00m(\n\u001b[0;32m    319\u001b[0m         \u001b[38;5;124mf\u001b[39m\u001b[38;5;124m\"\u001b[39m\u001b[38;5;124mIPython won\u001b[39m\u001b[38;5;124m'\u001b[39m\u001b[38;5;124mt let you open fd=\u001b[39m\u001b[38;5;132;01m{\u001b[39;00mfile\u001b[38;5;132;01m}\u001b[39;00m\u001b[38;5;124m by default \u001b[39m\u001b[38;5;124m\"\u001b[39m\n\u001b[0;32m    320\u001b[0m         \u001b[38;5;124m\"\u001b[39m\u001b[38;5;124mas it is likely to crash IPython. If you know what you are doing, \u001b[39m\u001b[38;5;124m\"\u001b[39m\n\u001b[0;32m    321\u001b[0m         \u001b[38;5;124m\"\u001b[39m\u001b[38;5;124myou can use builtins\u001b[39m\u001b[38;5;124m'\u001b[39m\u001b[38;5;124m open.\u001b[39m\u001b[38;5;124m\"\u001b[39m\n\u001b[0;32m    322\u001b[0m     )\n\u001b[1;32m--> 324\u001b[0m \u001b[38;5;28;01mreturn\u001b[39;00m \u001b[43mio_open\u001b[49m\u001b[43m(\u001b[49m\u001b[43mfile\u001b[49m\u001b[43m,\u001b[49m\u001b[43m \u001b[49m\u001b[38;5;241;43m*\u001b[39;49m\u001b[43margs\u001b[49m\u001b[43m,\u001b[49m\u001b[43m \u001b[49m\u001b[38;5;241;43m*\u001b[39;49m\u001b[38;5;241;43m*\u001b[39;49m\u001b[43mkwargs\u001b[49m\u001b[43m)\u001b[49m\n",
      "\u001b[1;31mFileExistsError\u001b[0m: [Errno 17] File exists: './abc4.txt'"
     ]
    }
   ],
   "source": [
    "with open (\"./abc4.txt\", \"x\" ) as file: # add new file if file not exist only\n",
    "    file.write(\"line2\")\n",
    "    #print (file.read())"
   ]
  },
  {
   "cell_type": "code",
   "execution_count": null,
   "metadata": {},
   "outputs": [
    {
     "name": "stdout",
     "output_type": "stream",
     "text": [
      "b'line2'\n"
     ]
    }
   ],
   "source": [
    "with open (\"./abc4.txt\", \"rb+\" ) as file: # add new file if file not exist or ower write if exist\n",
    "    #file.write(\"line2\")\n",
    "    print (file.read())"
   ]
  },
  {
   "cell_type": "markdown",
   "metadata": {},
   "source": [
    "<div class=\"s-table-container\">\n",
    "<table class=\"s-table\">\n",
    "<thead>\n",
    "<tr>\n",
    "<th style=\"text-align: center;\">Mode</th>\n",
    "<th style=\"text-align: center;\">r</th>\n",
    "<th style=\"text-align: center;\">r+</th>\n",
    "<th style=\"text-align: center;\">w</th>\n",
    "<th style=\"text-align: center;\">w+</th>\n",
    "<th style=\"text-align: center;\">a</th>\n",
    "<th style=\"text-align: center;\">a+</th>\n",
    "</tr>\n",
    "</thead>\n",
    "<tbody>\n",
    "<tr>\n",
    "<td style=\"text-align: center;\">Read</td>\n",
    "<td style=\"text-align: center;\">+</td>\n",
    "<td style=\"text-align: center;\">+</td>\n",
    "<td style=\"text-align: center;\"></td>\n",
    "<td style=\"text-align: center;\">+</td>\n",
    "<td style=\"text-align: center;\"></td>\n",
    "<td style=\"text-align: center;\">+</td>\n",
    "</tr>\n",
    "<tr>\n",
    "<td style=\"text-align: center;\">Write</td>\n",
    "<td style=\"text-align: center;\"></td>\n",
    "<td style=\"text-align: center;\">+</td>\n",
    "<td style=\"text-align: center;\">+</td>\n",
    "<td style=\"text-align: center;\">+</td>\n",
    "<td style=\"text-align: center;\">+</td>\n",
    "<td style=\"text-align: center;\">+</td>\n",
    "</tr>\n",
    "<tr>\n",
    "<td style=\"text-align: center;\">Create</td>\n",
    "<td style=\"text-align: center;\"></td>\n",
    "<td style=\"text-align: center;\"></td>\n",
    "<td style=\"text-align: center;\">+</td>\n",
    "<td style=\"text-align: center;\">+</td>\n",
    "<td style=\"text-align: center;\">+</td>\n",
    "<td style=\"text-align: center;\">+</td>\n",
    "</tr>\n",
    "<tr>\n",
    "<td style=\"text-align: center;\">Cover</td>\n",
    "<td style=\"text-align: center;\"></td>\n",
    "<td style=\"text-align: center;\"></td>\n",
    "<td style=\"text-align: center;\">+</td>\n",
    "<td style=\"text-align: center;\">+</td>\n",
    "<td style=\"text-align: center;\"></td>\n",
    "<td style=\"text-align: center;\"></td>\n",
    "</tr>\n",
    "<tr>\n",
    "<td style=\"text-align: center;\">Point in the beginning</td>\n",
    "<td style=\"text-align: center;\">+</td>\n",
    "<td style=\"text-align: center;\">+</td>\n",
    "<td style=\"text-align: center;\">+</td>\n",
    "<td style=\"text-align: center;\">+</td>\n",
    "<td style=\"text-align: center;\"></td>\n",
    "<td style=\"text-align: center;\"></td>\n",
    "</tr>\n",
    "<tr>\n",
    "<td style=\"text-align: center;\">Point in the end</td>\n",
    "<td style=\"text-align: center;\"></td>\n",
    "<td style=\"text-align: center;\"></td>\n",
    "<td style=\"text-align: center;\"></td>\n",
    "<td style=\"text-align: center;\"></td>\n",
    "<td style=\"text-align: center;\">+</td>\n",
    "<td style=\"text-align: center;\">+</td>\n",
    "</tr>\n",
    "</tbody>\n",
    "</table>\n",
    "</div>"
   ]
  },
  {
   "cell_type": "markdown",
   "metadata": {},
   "source": [
    "# read some real world data files\n",
    " * image\n",
    " * csv\n",
    " * live camera\n",
    "* to run xlsx file ,csv files:\n",
    "  * pip install pandas\n",
    "  * pip install openpyxl\n",
    "  * pip install matplotli\n",
    "  ! can use to instal in jupyter nootebook: !pip install matplotli\n",
    " "
   ]
  },
  {
   "cell_type": "code",
   "execution_count": 5,
   "metadata": {},
   "outputs": [
    {
     "data": {
      "text/html": [
       "<div>\n",
       "<style scoped>\n",
       "    .dataframe tbody tr th:only-of-type {\n",
       "        vertical-align: middle;\n",
       "    }\n",
       "\n",
       "    .dataframe tbody tr th {\n",
       "        vertical-align: top;\n",
       "    }\n",
       "\n",
       "    .dataframe thead th {\n",
       "        text-align: right;\n",
       "    }\n",
       "</style>\n",
       "<table border=\"1\" class=\"dataframe\">\n",
       "  <thead>\n",
       "    <tr style=\"text-align: right;\">\n",
       "      <th></th>\n",
       "      <th>id</th>\n",
       "      <th>name</th>\n",
       "      <th>education</th>\n",
       "    </tr>\n",
       "  </thead>\n",
       "  <tbody>\n",
       "    <tr>\n",
       "      <th>0</th>\n",
       "      <td>1</td>\n",
       "      <td>khan</td>\n",
       "      <td>mcs</td>\n",
       "    </tr>\n",
       "    <tr>\n",
       "      <th>1</th>\n",
       "      <td>2</td>\n",
       "      <td>sarwar</td>\n",
       "      <td>MA</td>\n",
       "    </tr>\n",
       "    <tr>\n",
       "      <th>2</th>\n",
       "      <td>3</td>\n",
       "      <td>Shafqat</td>\n",
       "      <td>CA</td>\n",
       "    </tr>\n",
       "    <tr>\n",
       "      <th>3</th>\n",
       "      <td>4</td>\n",
       "      <td>Muhammed</td>\n",
       "      <td>Mphil</td>\n",
       "    </tr>\n",
       "  </tbody>\n",
       "</table>\n",
       "</div>"
      ],
      "text/plain": [
       "   id      name  education\n",
       "0   1      khan        mcs\n",
       "1   2    sarwar         MA\n",
       "2   3   Shafqat         CA\n",
       "3   4  Muhammed      Mphil"
      ]
     },
     "execution_count": 5,
     "metadata": {},
     "output_type": "execute_result"
    }
   ],
   "source": [
    "import pandas as pd\n",
    "df: pd.DataFrame = pd.read_csv (\"./data.csv\")\n",
    "df"
   ]
  },
  {
   "cell_type": "code",
   "execution_count": 4,
   "metadata": {},
   "outputs": [
    {
     "data": {
      "text/html": [
       "<div>\n",
       "<style scoped>\n",
       "    .dataframe tbody tr th:only-of-type {\n",
       "        vertical-align: middle;\n",
       "    }\n",
       "\n",
       "    .dataframe tbody tr th {\n",
       "        vertical-align: top;\n",
       "    }\n",
       "\n",
       "    .dataframe thead th {\n",
       "        text-align: right;\n",
       "    }\n",
       "</style>\n",
       "<table border=\"1\" class=\"dataframe\">\n",
       "  <thead>\n",
       "    <tr style=\"text-align: right;\">\n",
       "      <th></th>\n",
       "      <th>Unnamed: 0</th>\n",
       "      <th>Unnamed: 1</th>\n",
       "      <th>Unnamed: 2</th>\n",
       "      <th>Unnamed: 3</th>\n",
       "      <th>Unnamed: 4</th>\n",
       "      <th>Unnamed: 5</th>\n",
       "    </tr>\n",
       "  </thead>\n",
       "  <tbody>\n",
       "    <tr>\n",
       "      <th>0</th>\n",
       "      <td>NaN</td>\n",
       "      <td>My List</td>\n",
       "      <td>NaN</td>\n",
       "      <td>NaN</td>\n",
       "      <td>NaN</td>\n",
       "      <td>NaN</td>\n",
       "    </tr>\n",
       "    <tr>\n",
       "      <th>1</th>\n",
       "      <td>NaN</td>\n",
       "      <td>NaN</td>\n",
       "      <td>NaN</td>\n",
       "      <td>NaN</td>\n",
       "      <td>NaN</td>\n",
       "      <td>NaN</td>\n",
       "    </tr>\n",
       "    <tr>\n",
       "      <th>2</th>\n",
       "      <td>NaN</td>\n",
       "      <td>Column 1</td>\n",
       "      <td>Column 2</td>\n",
       "      <td>Column 3</td>\n",
       "      <td>Column 4</td>\n",
       "      <td>Column 5</td>\n",
       "    </tr>\n",
       "    <tr>\n",
       "      <th>3</th>\n",
       "      <td>NaN</td>\n",
       "      <td>Item 1</td>\n",
       "      <td>1</td>\n",
       "      <td>NaN</td>\n",
       "      <td>NaN</td>\n",
       "      <td>NaN</td>\n",
       "    </tr>\n",
       "    <tr>\n",
       "      <th>4</th>\n",
       "      <td>NaN</td>\n",
       "      <td>Item 2</td>\n",
       "      <td>2</td>\n",
       "      <td>NaN</td>\n",
       "      <td>NaN</td>\n",
       "      <td>NaN</td>\n",
       "    </tr>\n",
       "    <tr>\n",
       "      <th>5</th>\n",
       "      <td>NaN</td>\n",
       "      <td>Item 3</td>\n",
       "      <td>3</td>\n",
       "      <td>NaN</td>\n",
       "      <td>NaN</td>\n",
       "      <td>NaN</td>\n",
       "    </tr>\n",
       "  </tbody>\n",
       "</table>\n",
       "</div>"
      ],
      "text/plain": [
       "   Unnamed: 0 Unnamed: 1 Unnamed: 2 Unnamed: 3 Unnamed: 4 Unnamed: 5\n",
       "0         NaN    My List        NaN        NaN        NaN        NaN\n",
       "1         NaN        NaN        NaN        NaN        NaN        NaN\n",
       "2         NaN   Column 1   Column 2   Column 3   Column 4   Column 5\n",
       "3         NaN     Item 1          1        NaN        NaN        NaN\n",
       "4         NaN     Item 2          2        NaN        NaN        NaN\n",
       "5         NaN     Item 3          3        NaN        NaN        NaN"
      ]
     },
     "execution_count": 4,
     "metadata": {},
     "output_type": "execute_result"
    }
   ],
   "source": [
    "import pandas as pd\n",
    "df: pd.DataFrame = pd.read_excel (\"./book1.xlsx\")\n",
    "df"
   ]
  },
  {
   "cell_type": "code",
   "execution_count": 5,
   "metadata": {},
   "outputs": [
    {
     "name": "stdout",
     "output_type": "stream",
     "text": [
      "Pandas imported successfully!\n",
      "   Unnamed: 0 Unnamed: 1 Unnamed: 2 Unnamed: 3 Unnamed: 4 Unnamed: 5\n",
      "0         NaN    My List        NaN        NaN        NaN        NaN\n",
      "1         NaN        NaN        NaN        NaN        NaN        NaN\n",
      "2         NaN   Column 1   Column 2   Column 3   Column 4   Column 5\n",
      "3         NaN     Item 1          1        NaN        NaN        NaN\n",
      "4         NaN     Item 2          2        NaN        NaN        NaN\n"
     ]
    }
   ],
   "source": [
    "try:\n",
    "    import pandas as pd\n",
    "    print(\"Pandas imported successfully!\")\n",
    "\n",
    "    # Test reading an Excel file if you have one\n",
    "    df = pd.read_excel('./book1.xlsx')\n",
    "    print(df.head())\n",
    "except ImportError as e:\n",
    "    print(\"Error importing pandas or openpyxl:\", e)\n",
    "\n"
   ]
  },
  {
   "cell_type": "code",
   "execution_count": 2,
   "metadata": {},
   "outputs": [
    {
     "name": "stdout",
     "output_type": "stream",
     "text": [
      "Collecting matplotlib\n",
      "  Downloading matplotlib-3.9.0-cp312-cp312-win_amd64.whl.metadata (11 kB)\n",
      "Collecting contourpy>=1.0.1 (from matplotlib)\n",
      "  Downloading contourpy-1.2.1-cp312-cp312-win_amd64.whl.metadata (5.8 kB)\n",
      "Collecting cycler>=0.10 (from matplotlib)\n",
      "  Downloading cycler-0.12.1-py3-none-any.whl.metadata (3.8 kB)\n",
      "Collecting fonttools>=4.22.0 (from matplotlib)\n",
      "  Downloading fonttools-4.53.0-cp312-cp312-win_amd64.whl.metadata (165 kB)\n",
      "     ---------------------------------------- 0.0/165.5 kB ? eta -:--:--\n",
      "     -- ------------------------------------- 10.2/165.5 kB ? eta -:--:--\n",
      "     ------ ------------------------------ 30.7/165.5 kB 325.1 kB/s eta 0:00:01\n",
      "     ------ ------------------------------ 30.7/165.5 kB 325.1 kB/s eta 0:00:01\n",
      "     ------ ------------------------------ 30.7/165.5 kB 325.1 kB/s eta 0:00:01\n",
      "     ------ ------------------------------ 30.7/165.5 kB 325.1 kB/s eta 0:00:01\n",
      "     --------- --------------------------- 41.0/165.5 kB 140.3 kB/s eta 0:00:01\n",
      "     ------------- ----------------------- 61.4/165.5 kB 182.2 kB/s eta 0:00:01\n",
      "     ------------- ----------------------- 61.4/165.5 kB 182.2 kB/s eta 0:00:01\n",
      "     ---------------- -------------------- 71.7/165.5 kB 163.8 kB/s eta 0:00:01\n",
      "     -------------------- ---------------- 92.2/165.5 kB 187.0 kB/s eta 0:00:01\n",
      "     ------------------------ ----------- 112.6/165.5 kB 218.3 kB/s eta 0:00:01\n",
      "     ------------------------------- ---- 143.4/165.5 kB 243.4 kB/s eta 0:00:01\n",
      "     ------------------------------------ 165.5/165.5 kB 261.4 kB/s eta 0:00:00\n",
      "Collecting kiwisolver>=1.3.1 (from matplotlib)\n",
      "  Downloading kiwisolver-1.4.5-cp312-cp312-win_amd64.whl.metadata (6.5 kB)\n",
      "Requirement already satisfied: numpy>=1.23 in c:\\python312\\lib\\site-packages (from matplotlib) (1.26.4)\n",
      "Requirement already satisfied: packaging>=20.0 in c:\\users\\st\\appdata\\roaming\\python\\python312\\site-packages (from matplotlib) (23.2)\n",
      "Collecting pillow>=8 (from matplotlib)\n",
      "  Downloading pillow-10.3.0-cp312-cp312-win_amd64.whl.metadata (9.4 kB)\n",
      "Collecting pyparsing>=2.3.1 (from matplotlib)\n",
      "  Downloading pyparsing-3.1.2-py3-none-any.whl.metadata (5.1 kB)\n",
      "Requirement already satisfied: python-dateutil>=2.7 in c:\\users\\st\\appdata\\roaming\\python\\python312\\site-packages (from matplotlib) (2.9.0.post0)\n",
      "Requirement already satisfied: six>=1.5 in c:\\users\\st\\appdata\\roaming\\python\\python312\\site-packages (from python-dateutil>=2.7->matplotlib) (1.16.0)\n",
      "Downloading matplotlib-3.9.0-cp312-cp312-win_amd64.whl (8.0 MB)\n",
      "   ---------------------------------------- 0.0/8.0 MB ? eta -:--:--\n",
      "   ---------------------------------------- 0.0/8.0 MB ? eta -:--:--\n",
      "   ---------------------------------------- 0.1/8.0 MB 812.7 kB/s eta 0:00:10\n",
      "   ---------------------------------------- 0.1/8.0 MB 651.6 kB/s eta 0:00:13\n",
      "    --------------------------------------- 0.1/8.0 MB 653.6 kB/s eta 0:00:12\n",
      "    --------------------------------------- 0.2/8.0 MB 654.6 kB/s eta 0:00:12\n",
      "    --------------------------------------- 0.2/8.0 MB 556.2 kB/s eta 0:00:14\n",
      "   - -------------------------------------- 0.2/8.0 MB 600.7 kB/s eta 0:00:13\n",
      "   - -------------------------------------- 0.3/8.0 MB 584.5 kB/s eta 0:00:14\n",
      "   - -------------------------------------- 0.3/8.0 MB 633.4 kB/s eta 0:00:13\n",
      "   - -------------------------------------- 0.3/8.0 MB 549.2 kB/s eta 0:00:14\n",
      "   - -------------------------------------- 0.4/8.0 MB 573.4 kB/s eta 0:00:14\n",
      "   -- ------------------------------------- 0.4/8.0 MB 595.3 kB/s eta 0:00:13\n",
      "   -- ------------------------------------- 0.4/8.0 MB 571.2 kB/s eta 0:00:14\n",
      "   -- ------------------------------------- 0.5/8.0 MB 603.1 kB/s eta 0:00:13\n",
      "   -- ------------------------------------- 0.5/8.0 MB 604.6 kB/s eta 0:00:13\n",
      "   -- ------------------------------------- 0.5/8.0 MB 597.6 kB/s eta 0:00:13\n",
      "   -- ------------------------------------- 0.6/8.0 MB 612.5 kB/s eta 0:00:13\n",
      "   --- ------------------------------------ 0.6/8.0 MB 604.2 kB/s eta 0:00:13\n",
      "   --- ------------------------------------ 0.7/8.0 MB 625.9 kB/s eta 0:00:12\n",
      "   --- ------------------------------------ 0.7/8.0 MB 636.5 kB/s eta 0:00:12\n",
      "   --- ------------------------------------ 0.7/8.0 MB 637.2 kB/s eta 0:00:12\n",
      "   --- ------------------------------------ 0.7/8.0 MB 604.8 kB/s eta 0:00:12\n",
      "   --- ------------------------------------ 0.8/8.0 MB 606.6 kB/s eta 0:00:12\n",
      "   ---- ----------------------------------- 0.8/8.0 MB 609.5 kB/s eta 0:00:12\n",
      "   ---- ----------------------------------- 0.8/8.0 MB 609.9 kB/s eta 0:00:12\n",
      "   ---- ----------------------------------- 0.9/8.0 MB 598.2 kB/s eta 0:00:12\n",
      "   ---- ----------------------------------- 0.9/8.0 MB 621.2 kB/s eta 0:00:12\n",
      "   ---- ----------------------------------- 1.0/8.0 MB 642.1 kB/s eta 0:00:11\n",
      "   ----- ---------------------------------- 1.0/8.0 MB 648.8 kB/s eta 0:00:11\n",
      "   ----- ---------------------------------- 1.1/8.0 MB 661.5 kB/s eta 0:00:11\n",
      "   ----- ---------------------------------- 1.2/8.0 MB 679.4 kB/s eta 0:00:11\n",
      "   ------ --------------------------------- 1.2/8.0 MB 696.3 kB/s eta 0:00:10\n",
      "   ------ --------------------------------- 1.3/8.0 MB 712.3 kB/s eta 0:00:10\n",
      "   ------ --------------------------------- 1.3/8.0 MB 712.3 kB/s eta 0:00:10\n",
      "   ------ --------------------------------- 1.3/8.0 MB 699.0 kB/s eta 0:00:10\n",
      "   ------ --------------------------------- 1.3/8.0 MB 676.1 kB/s eta 0:00:10\n",
      "   ------- -------------------------------- 1.4/8.0 MB 685.7 kB/s eta 0:00:10\n",
      "   ------- -------------------------------- 1.5/8.0 MB 709.6 kB/s eta 0:00:10\n",
      "   ------- -------------------------------- 1.5/8.0 MB 713.4 kB/s eta 0:00:10\n",
      "   ------- -------------------------------- 1.5/8.0 MB 697.3 kB/s eta 0:00:10\n",
      "   ------- -------------------------------- 1.6/8.0 MB 701.4 kB/s eta 0:00:10\n",
      "   -------- ------------------------------- 1.7/8.0 MB 722.2 kB/s eta 0:00:09\n",
      "   -------- ------------------------------- 1.7/8.0 MB 724.6 kB/s eta 0:00:09\n",
      "   -------- ------------------------------- 1.8/8.0 MB 727.8 kB/s eta 0:00:09\n",
      "   --------- ------------------------------ 1.8/8.0 MB 743.1 kB/s eta 0:00:09\n",
      "   --------- ------------------------------ 1.8/8.0 MB 737.6 kB/s eta 0:00:09\n",
      "   --------- ------------------------------ 1.9/8.0 MB 730.9 kB/s eta 0:00:09\n",
      "   --------- ------------------------------ 1.9/8.0 MB 733.7 kB/s eta 0:00:09\n",
      "   --------- ------------------------------ 2.0/8.0 MB 731.4 kB/s eta 0:00:09\n",
      "   ---------- ----------------------------- 2.0/8.0 MB 734.4 kB/s eta 0:00:09\n",
      "   ---------- ----------------------------- 2.1/8.0 MB 743.8 kB/s eta 0:00:08\n",
      "   ---------- ----------------------------- 2.1/8.0 MB 723.0 kB/s eta 0:00:09\n",
      "   ---------- ----------------------------- 2.1/8.0 MB 722.4 kB/s eta 0:00:09\n",
      "   ---------- ----------------------------- 2.1/8.0 MB 710.1 kB/s eta 0:00:09\n",
      "   ---------- ----------------------------- 2.2/8.0 MB 709.5 kB/s eta 0:00:09\n",
      "   ---------- ----------------------------- 2.2/8.0 MB 705.4 kB/s eta 0:00:09\n",
      "   ----------- ---------------------------- 2.2/8.0 MB 707.4 kB/s eta 0:00:09\n",
      "   ----------- ---------------------------- 2.4/8.0 MB 732.1 kB/s eta 0:00:08\n",
      "   ----------- ---------------------------- 2.4/8.0 MB 734.8 kB/s eta 0:00:08\n",
      "   ------------ --------------------------- 2.4/8.0 MB 726.8 kB/s eta 0:00:08\n",
      "   ------------ --------------------------- 2.5/8.0 MB 725.1 kB/s eta 0:00:08\n",
      "   ------------ --------------------------- 2.5/8.0 MB 727.2 kB/s eta 0:00:08\n",
      "   ------------ --------------------------- 2.6/8.0 MB 738.0 kB/s eta 0:00:08\n",
      "   ------------- -------------------------- 2.6/8.0 MB 740.2 kB/s eta 0:00:08\n",
      "   ------------- -------------------------- 2.7/8.0 MB 741.2 kB/s eta 0:00:08\n",
      "   ------------- -------------------------- 2.7/8.0 MB 754.2 kB/s eta 0:00:07\n",
      "   -------------- ------------------------- 2.8/8.0 MB 772.5 kB/s eta 0:00:07\n",
      "   -------------- ------------------------- 2.9/8.0 MB 761.9 kB/s eta 0:00:07\n",
      "   -------------- ------------------------- 2.9/8.0 MB 768.6 kB/s eta 0:00:07\n",
      "   -------------- ------------------------- 2.9/8.0 MB 767.7 kB/s eta 0:00:07\n",
      "   -------------- ------------------------- 2.9/8.0 MB 767.7 kB/s eta 0:00:07\n",
      "   -------------- ------------------------- 3.0/8.0 MB 757.2 kB/s eta 0:00:07\n",
      "   --------------- ------------------------ 3.0/8.0 MB 755.9 kB/s eta 0:00:07\n",
      "   --------------- ------------------------ 3.0/8.0 MB 755.2 kB/s eta 0:00:07\n",
      "   --------------- ------------------------ 3.1/8.0 MB 745.4 kB/s eta 0:00:07\n",
      "   --------------- ------------------------ 3.1/8.0 MB 742.2 kB/s eta 0:00:07\n",
      "   --------------- ------------------------ 3.1/8.0 MB 748.2 kB/s eta 0:00:07\n",
      "   --------------- ------------------------ 3.2/8.0 MB 744.5 kB/s eta 0:00:07\n",
      "   ---------------- ----------------------- 3.2/8.0 MB 743.9 kB/s eta 0:00:07\n",
      "   ---------------- ----------------------- 3.2/8.0 MB 737.5 kB/s eta 0:00:07\n",
      "   ---------------- ----------------------- 3.2/8.0 MB 734.6 kB/s eta 0:00:07\n",
      "   ---------------- ----------------------- 3.3/8.0 MB 726.4 kB/s eta 0:00:07\n",
      "   ---------------- ----------------------- 3.3/8.0 MB 723.3 kB/s eta 0:00:07\n",
      "   ---------------- ----------------------- 3.3/8.0 MB 720.6 kB/s eta 0:00:07\n",
      "   ---------------- ----------------------- 3.3/8.0 MB 717.5 kB/s eta 0:00:07\n",
      "   ---------------- ----------------------- 3.3/8.0 MB 717.1 kB/s eta 0:00:07\n",
      "   ---------------- ----------------------- 3.3/8.0 MB 717.1 kB/s eta 0:00:07\n",
      "   ---------------- ----------------------- 3.4/8.0 MB 704.9 kB/s eta 0:00:07\n",
      "   ----------------- ---------------------- 3.4/8.0 MB 699.7 kB/s eta 0:00:07\n",
      "   ----------------- ---------------------- 3.4/8.0 MB 699.7 kB/s eta 0:00:07\n",
      "   ----------------- ---------------------- 3.4/8.0 MB 695.0 kB/s eta 0:00:07\n",
      "   ----------------- ---------------------- 3.5/8.0 MB 690.2 kB/s eta 0:00:07\n",
      "   ----------------- ---------------------- 3.5/8.0 MB 690.2 kB/s eta 0:00:07\n",
      "   ----------------- ---------------------- 3.5/8.0 MB 683.6 kB/s eta 0:00:07\n",
      "   ----------------- ---------------------- 3.5/8.0 MB 681.5 kB/s eta 0:00:07\n",
      "   ----------------- ---------------------- 3.5/8.0 MB 677.0 kB/s eta 0:00:07\n",
      "   ----------------- ---------------------- 3.6/8.0 MB 684.8 kB/s eta 0:00:07\n",
      "   ------------------ --------------------- 3.6/8.0 MB 682.5 kB/s eta 0:00:07\n",
      "   ------------------ --------------------- 3.7/8.0 MB 695.4 kB/s eta 0:00:07\n",
      "   ------------------- -------------------- 3.8/8.0 MB 700.9 kB/s eta 0:00:06\n",
      "   ------------------- -------------------- 3.9/8.0 MB 704.2 kB/s eta 0:00:06\n",
      "   ------------------- -------------------- 3.9/8.0 MB 704.2 kB/s eta 0:00:06\n",
      "   ------------------- -------------------- 3.9/8.0 MB 704.2 kB/s eta 0:00:06\n",
      "   ------------------- -------------------- 3.9/8.0 MB 704.2 kB/s eta 0:00:06\n",
      "   ------------------- -------------------- 3.9/8.0 MB 704.2 kB/s eta 0:00:06\n",
      "   ------------------- -------------------- 3.9/8.0 MB 704.2 kB/s eta 0:00:06\n",
      "   ------------------- -------------------- 3.9/8.0 MB 662.3 kB/s eta 0:00:07\n",
      "   ------------------- -------------------- 3.9/8.0 MB 667.6 kB/s eta 0:00:07\n",
      "   -------------------- ------------------- 4.0/8.0 MB 674.3 kB/s eta 0:00:06\n",
      "   -------------------- ------------------- 4.0/8.0 MB 670.7 kB/s eta 0:00:06\n",
      "   -------------------- ------------------- 4.0/8.0 MB 667.2 kB/s eta 0:00:06\n",
      "   -------------------- ------------------- 4.1/8.0 MB 663.7 kB/s eta 0:00:06\n",
      "   -------------------- ------------------- 4.1/8.0 MB 663.7 kB/s eta 0:00:06\n",
      "   -------------------- ------------------- 4.1/8.0 MB 653.7 kB/s eta 0:00:06\n",
      "   -------------------- ------------------- 4.1/8.0 MB 652.1 kB/s eta 0:00:06\n",
      "   -------------------- ------------------- 4.1/8.0 MB 652.1 kB/s eta 0:00:06\n",
      "   -------------------- ------------------- 4.1/8.0 MB 652.1 kB/s eta 0:00:06\n",
      "   -------------------- ------------------- 4.1/8.0 MB 637.8 kB/s eta 0:00:07\n",
      "   -------------------- ------------------- 4.1/8.0 MB 637.8 kB/s eta 0:00:07\n",
      "   -------------------- ------------------- 4.1/8.0 MB 628.8 kB/s eta 0:00:07\n",
      "   -------------------- ------------------- 4.1/8.0 MB 628.8 kB/s eta 0:00:07\n",
      "   -------------------- ------------------- 4.1/8.0 MB 617.0 kB/s eta 0:00:07\n",
      "   -------------------- ------------------- 4.1/8.0 MB 617.0 kB/s eta 0:00:07\n",
      "   -------------------- ------------------- 4.2/8.0 MB 611.6 kB/s eta 0:00:07\n",
      "   --------------------- ------------------ 4.2/8.0 MB 616.4 kB/s eta 0:00:07\n",
      "   --------------------- ------------------ 4.2/8.0 MB 616.4 kB/s eta 0:00:07\n",
      "   --------------------- ------------------ 4.3/8.0 MB 615.6 kB/s eta 0:00:06\n",
      "   ---------------------- ----------------- 4.4/8.0 MB 624.6 kB/s eta 0:00:06\n",
      "   ---------------------- ----------------- 4.4/8.0 MB 627.7 kB/s eta 0:00:06\n",
      "   ---------------------- ----------------- 4.5/8.0 MB 626.5 kB/s eta 0:00:06\n",
      "   ---------------------- ----------------- 4.5/8.0 MB 626.5 kB/s eta 0:00:06\n",
      "   ---------------------- ----------------- 4.5/8.0 MB 624.1 kB/s eta 0:00:06\n",
      "   ----------------------- ---------------- 4.7/8.0 MB 642.7 kB/s eta 0:00:06\n",
      "   ------------------------ --------------- 4.8/8.0 MB 648.4 kB/s eta 0:00:05\n",
      "   ------------------------ --------------- 4.9/8.0 MB 655.4 kB/s eta 0:00:05\n",
      "   ------------------------- -------------- 5.0/8.0 MB 663.5 kB/s eta 0:00:05\n",
      "   ------------------------- -------------- 5.1/8.0 MB 670.2 kB/s eta 0:00:05\n",
      "   ------------------------- -------------- 5.1/8.0 MB 672.9 kB/s eta 0:00:05\n",
      "   -------------------------- ------------- 5.2/8.0 MB 676.8 kB/s eta 0:00:05\n",
      "   -------------------------- ------------- 5.2/8.0 MB 676.8 kB/s eta 0:00:05\n",
      "   -------------------------- ------------- 5.2/8.0 MB 669.9 kB/s eta 0:00:05\n",
      "   -------------------------- ------------- 5.2/8.0 MB 668.5 kB/s eta 0:00:05\n",
      "   -------------------------- ------------- 5.3/8.0 MB 669.6 kB/s eta 0:00:05\n",
      "   -------------------------- ------------- 5.3/8.0 MB 672.2 kB/s eta 0:00:04\n",
      "   --------------------------- ------------ 5.4/8.0 MB 674.6 kB/s eta 0:00:04\n",
      "   --------------------------- ------------ 5.4/8.0 MB 674.4 kB/s eta 0:00:04\n",
      "   --------------------------- ------------ 5.5/8.0 MB 676.8 kB/s eta 0:00:04\n",
      "   --------------------------- ------------ 5.5/8.0 MB 676.7 kB/s eta 0:00:04\n",
      "   --------------------------- ------------ 5.6/8.0 MB 679.1 kB/s eta 0:00:04\n",
      "   ---------------------------- ----------- 5.6/8.0 MB 678.9 kB/s eta 0:00:04\n",
      "   ---------------------------- ----------- 5.7/8.0 MB 682.6 kB/s eta 0:00:04\n",
      "   ---------------------------- ----------- 5.7/8.0 MB 686.0 kB/s eta 0:00:04\n",
      "   ----------------------------- ---------- 5.8/8.0 MB 689.5 kB/s eta 0:00:04\n",
      "   ----------------------------- ---------- 5.8/8.0 MB 688.1 kB/s eta 0:00:04\n",
      "   ----------------------------- ---------- 5.8/8.0 MB 686.7 kB/s eta 0:00:04\n",
      "   ----------------------------- ---------- 6.0/8.0 MB 691.0 kB/s eta 0:00:03\n",
      "   ------------------------------ --------- 6.0/8.0 MB 695.6 kB/s eta 0:00:03\n",
      "   ------------------------------ --------- 6.1/8.0 MB 704.8 kB/s eta 0:00:03\n",
      "   ------------------------------- -------- 6.2/8.0 MB 709.2 kB/s eta 0:00:03\n",
      "   ------------------------------- -------- 6.3/8.0 MB 715.9 kB/s eta 0:00:03\n",
      "   ------------------------------- -------- 6.4/8.0 MB 719.0 kB/s eta 0:00:03\n",
      "   ------------------------------- -------- 6.4/8.0 MB 719.0 kB/s eta 0:00:03\n",
      "   ------------------------------- -------- 6.4/8.0 MB 719.0 kB/s eta 0:00:03\n",
      "   ------------------------------- -------- 6.4/8.0 MB 719.0 kB/s eta 0:00:03\n",
      "   ------------------------------- -------- 6.4/8.0 MB 719.0 kB/s eta 0:00:03\n",
      "   ------------------------------- -------- 6.4/8.0 MB 719.0 kB/s eta 0:00:03\n",
      "   ------------------------------- -------- 6.4/8.0 MB 719.0 kB/s eta 0:00:03\n",
      "   ------------------------------- -------- 6.4/8.0 MB 719.0 kB/s eta 0:00:03\n",
      "   -------------------------------- ------- 6.5/8.0 MB 694.0 kB/s eta 0:00:03\n",
      "   --------------------------------- ------ 6.6/8.0 MB 702.4 kB/s eta 0:00:02\n",
      "   --------------------------------- ------ 6.6/8.0 MB 705.5 kB/s eta 0:00:02\n",
      "   --------------------------------- ------ 6.8/8.0 MB 713.9 kB/s eta 0:00:02\n",
      "   ---------------------------------- ----- 6.8/8.0 MB 715.8 kB/s eta 0:00:02\n",
      "   ---------------------------------- ----- 6.8/8.0 MB 715.5 kB/s eta 0:00:02\n",
      "   ---------------------------------- ----- 6.9/8.0 MB 718.2 kB/s eta 0:00:02\n",
      "   ----------------------------------- ---- 7.0/8.0 MB 727.3 kB/s eta 0:00:02\n",
      "   ----------------------------------- ---- 7.1/8.0 MB 728.2 kB/s eta 0:00:02\n",
      "   ----------------------------------- ---- 7.1/8.0 MB 728.2 kB/s eta 0:00:02\n",
      "   ----------------------------------- ---- 7.1/8.0 MB 722.1 kB/s eta 0:00:02\n",
      "   ------------------------------------ --- 7.2/8.0 MB 726.9 kB/s eta 0:00:02\n",
      "   ------------------------------------ --- 7.2/8.0 MB 728.6 kB/s eta 0:00:02\n",
      "   ------------------------------------ --- 7.3/8.0 MB 733.3 kB/s eta 0:00:01\n",
      "   ------------------------------------- -- 7.5/8.0 MB 742.1 kB/s eta 0:00:01\n",
      "   ------------------------------------- -- 7.5/8.0 MB 743.6 kB/s eta 0:00:01\n",
      "   ------------------------------------- -- 7.5/8.0 MB 743.2 kB/s eta 0:00:01\n",
      "   -------------------------------------- - 7.6/8.0 MB 744.8 kB/s eta 0:00:01\n",
      "   -------------------------------------- - 7.8/8.0 MB 754.0 kB/s eta 0:00:01\n",
      "   ---------------------------------------  7.8/8.0 MB 757.6 kB/s eta 0:00:01\n",
      "   ---------------------------------------  7.9/8.0 MB 758.8 kB/s eta 0:00:01\n",
      "   ---------------------------------------  7.9/8.0 MB 761.5 kB/s eta 0:00:01\n",
      "   ---------------------------------------- 8.0/8.0 MB 760.2 kB/s eta 0:00:00\n",
      "Downloading contourpy-1.2.1-cp312-cp312-win_amd64.whl (189 kB)\n",
      "   ---------------------------------------- 0.0/189.9 kB ? eta -:--:--\n",
      "   -------- ------------------------------ 41.0/189.9 kB 991.0 kB/s eta 0:00:01\n",
      "   ----------------------- ---------------- 112.6/189.9 kB 1.3 MB/s eta 0:00:01\n",
      "   -------------------------------------- - 184.3/189.9 kB 1.2 MB/s eta 0:00:01\n",
      "   ---------------------------------------- 189.9/189.9 kB 1.0 MB/s eta 0:00:00\n",
      "Downloading cycler-0.12.1-py3-none-any.whl (8.3 kB)\n",
      "Downloading fonttools-4.53.0-cp312-cp312-win_amd64.whl (2.2 MB)\n",
      "   ---------------------------------------- 0.0/2.2 MB ? eta -:--:--\n",
      "    --------------------------------------- 0.0/2.2 MB 960.0 kB/s eta 0:00:03\n",
      "   - -------------------------------------- 0.1/2.2 MB 1.1 MB/s eta 0:00:03\n",
      "   --- ------------------------------------ 0.2/2.2 MB 1.2 MB/s eta 0:00:02\n",
      "   ---- ----------------------------------- 0.2/2.2 MB 1.2 MB/s eta 0:00:02\n",
      "   ---- ----------------------------------- 0.2/2.2 MB 1.2 MB/s eta 0:00:02\n",
      "   ----- ---------------------------------- 0.3/2.2 MB 1.0 MB/s eta 0:00:02\n",
      "   ------ --------------------------------- 0.4/2.2 MB 1.1 MB/s eta 0:00:02\n",
      "   ------- -------------------------------- 0.4/2.2 MB 1.0 MB/s eta 0:00:02\n",
      "   -------- ------------------------------- 0.4/2.2 MB 981.9 kB/s eta 0:00:02\n",
      "   -------- ------------------------------- 0.4/2.2 MB 981.9 kB/s eta 0:00:02\n",
      "   -------- ------------------------------- 0.5/2.2 MB 842.4 kB/s eta 0:00:03\n",
      "   -------- ------------------------------- 0.5/2.2 MB 842.4 kB/s eta 0:00:03\n",
      "   -------- ------------------------------- 0.5/2.2 MB 842.4 kB/s eta 0:00:03\n",
      "   -------- ------------------------------- 0.5/2.2 MB 842.4 kB/s eta 0:00:03\n",
      "   -------- ------------------------------- 0.5/2.2 MB 842.4 kB/s eta 0:00:03\n",
      "   -------- ------------------------------- 0.5/2.2 MB 842.4 kB/s eta 0:00:03\n",
      "   -------- ------------------------------- 0.5/2.2 MB 842.4 kB/s eta 0:00:03\n",
      "   -------- ------------------------------- 0.5/2.2 MB 842.4 kB/s eta 0:00:03\n",
      "   -------- ------------------------------- 0.5/2.2 MB 842.4 kB/s eta 0:00:03\n",
      "   -------- ------------------------------- 0.5/2.2 MB 842.4 kB/s eta 0:00:03\n",
      "   -------- ------------------------------- 0.5/2.2 MB 842.4 kB/s eta 0:00:03\n",
      "   -------- ------------------------------- 0.5/2.2 MB 842.4 kB/s eta 0:00:03\n",
      "   -------- ------------------------------- 0.5/2.2 MB 842.4 kB/s eta 0:00:03\n",
      "   -------- ------------------------------- 0.5/2.2 MB 842.4 kB/s eta 0:00:03\n",
      "   -------- ------------------------------- 0.5/2.2 MB 842.4 kB/s eta 0:00:03\n",
      "   -------- ------------------------------- 0.5/2.2 MB 842.4 kB/s eta 0:00:03\n",
      "   -------- ------------------------------- 0.5/2.2 MB 842.4 kB/s eta 0:00:03\n",
      "   -------- ------------------------------- 0.5/2.2 MB 842.4 kB/s eta 0:00:03\n",
      "   -------- ------------------------------- 0.5/2.2 MB 842.4 kB/s eta 0:00:03\n",
      "   -------- ------------------------------- 0.5/2.2 MB 842.4 kB/s eta 0:00:03\n",
      "   --------- ------------------------------ 0.5/2.2 MB 312.3 kB/s eta 0:00:06\n",
      "   ------------- -------------------------- 0.7/2.2 MB 400.1 kB/s eta 0:00:04\n",
      "   -------------- ------------------------- 0.8/2.2 MB 420.1 kB/s eta 0:00:04\n",
      "   --------------- ------------------------ 0.9/2.2 MB 453.3 kB/s eta 0:00:03\n",
      "   ---------------- ----------------------- 0.9/2.2 MB 468.8 kB/s eta 0:00:03\n",
      "   ------------------ --------------------- 1.0/2.2 MB 509.7 kB/s eta 0:00:03\n",
      "   -------------------- ------------------- 1.1/2.2 MB 543.5 kB/s eta 0:00:02\n",
      "   --------------------- ------------------ 1.2/2.2 MB 561.8 kB/s eta 0:00:02\n",
      "   ---------------------- ----------------- 1.2/2.2 MB 582.4 kB/s eta 0:00:02\n",
      "   ----------------------- ---------------- 1.3/2.2 MB 589.3 kB/s eta 0:00:02\n",
      "   ----------------------- ---------------- 1.3/2.2 MB 589.7 kB/s eta 0:00:02\n",
      "   ------------------------ --------------- 1.3/2.2 MB 578.4 kB/s eta 0:00:02\n",
      "   ------------------------ --------------- 1.3/2.2 MB 567.9 kB/s eta 0:00:02\n",
      "   ------------------------ --------------- 1.3/2.2 MB 567.9 kB/s eta 0:00:02\n",
      "   ------------------------- -------------- 1.4/2.2 MB 555.2 kB/s eta 0:00:02\n",
      "   ------------------------- -------------- 1.4/2.2 MB 555.2 kB/s eta 0:00:02\n",
      "   ------------------------- -------------- 1.4/2.2 MB 555.2 kB/s eta 0:00:02\n",
      "   ------------------------- -------------- 1.4/2.2 MB 555.2 kB/s eta 0:00:02\n",
      "   ------------------------- -------------- 1.4/2.2 MB 519.6 kB/s eta 0:00:02\n",
      "   ------------------------- -------------- 1.4/2.2 MB 519.6 kB/s eta 0:00:02\n",
      "   ------------------------- -------------- 1.4/2.2 MB 519.6 kB/s eta 0:00:02\n",
      "   ------------------------- -------------- 1.4/2.2 MB 519.6 kB/s eta 0:00:02\n",
      "   ------------------------- -------------- 1.4/2.2 MB 519.6 kB/s eta 0:00:02\n",
      "   ------------------------- -------------- 1.4/2.2 MB 519.6 kB/s eta 0:00:02\n",
      "   ------------------------- -------------- 1.4/2.2 MB 464.2 kB/s eta 0:00:02\n",
      "   ------------------------- -------------- 1.4/2.2 MB 464.2 kB/s eta 0:00:02\n",
      "   -------------------------- ------------- 1.4/2.2 MB 453.2 kB/s eta 0:00:02\n",
      "   ---------------------------- ----------- 1.6/2.2 MB 483.5 kB/s eta 0:00:02\n",
      "   ------------------------------ --------- 1.7/2.2 MB 508.6 kB/s eta 0:00:02\n",
      "   -------------------------------- ------- 1.8/2.2 MB 532.8 kB/s eta 0:00:01\n",
      "   ---------------------------------- ----- 1.9/2.2 MB 561.7 kB/s eta 0:00:01\n",
      "   ------------------------------------- -- 2.1/2.2 MB 593.5 kB/s eta 0:00:01\n",
      "   ---------------------------------------  2.2/2.2 MB 620.3 kB/s eta 0:00:01\n",
      "   ---------------------------------------- 2.2/2.2 MB 612.5 kB/s eta 0:00:00\n",
      "Downloading kiwisolver-1.4.5-cp312-cp312-win_amd64.whl (56 kB)\n",
      "   ---------------------------------------- 0.0/56.0 kB ? eta -:--:--\n",
      "   ------------------------------------ --- 51.2/56.0 kB 2.6 MB/s eta 0:00:01\n",
      "   ---------------------------------------- 56.0/56.0 kB 586.7 kB/s eta 0:00:00\n",
      "Downloading pillow-10.3.0-cp312-cp312-win_amd64.whl (2.5 MB)\n",
      "   ---------------------------------------- 0.0/2.5 MB ? eta -:--:--\n",
      "   - -------------------------------------- 0.1/2.5 MB 3.0 MB/s eta 0:00:01\n",
      "   --- ------------------------------------ 0.2/2.5 MB 2.8 MB/s eta 0:00:01\n",
      "   ---- ----------------------------------- 0.3/2.5 MB 2.4 MB/s eta 0:00:01\n",
      "   ----- ---------------------------------- 0.3/2.5 MB 2.0 MB/s eta 0:00:02\n",
      "   -------- ------------------------------- 0.5/2.5 MB 2.1 MB/s eta 0:00:01\n",
      "   --------- ------------------------------ 0.6/2.5 MB 2.0 MB/s eta 0:00:01\n",
      "   ---------- ----------------------------- 0.7/2.5 MB 1.9 MB/s eta 0:00:02\n",
      "   ------------ --------------------------- 0.8/2.5 MB 1.7 MB/s eta 0:00:02\n",
      "   -------------- ------------------------- 0.9/2.5 MB 1.8 MB/s eta 0:00:01\n",
      "   --------------- ------------------------ 1.0/2.5 MB 1.8 MB/s eta 0:00:01\n",
      "   ---------------- ----------------------- 1.1/2.5 MB 1.8 MB/s eta 0:00:01\n",
      "   ------------------ --------------------- 1.2/2.5 MB 1.8 MB/s eta 0:00:01\n",
      "   -------------------- ------------------- 1.3/2.5 MB 1.8 MB/s eta 0:00:01\n",
      "   --------------------- ------------------ 1.4/2.5 MB 1.8 MB/s eta 0:00:01\n",
      "   ---------------------- ----------------- 1.5/2.5 MB 1.7 MB/s eta 0:00:01\n",
      "   ----------------------- ---------------- 1.5/2.5 MB 1.7 MB/s eta 0:00:01\n",
      "   ------------------------- -------------- 1.6/2.5 MB 1.7 MB/s eta 0:00:01\n",
      "   ------------------------- -------------- 1.6/2.5 MB 1.7 MB/s eta 0:00:01\n",
      "   -------------------------- ------------- 1.7/2.5 MB 1.6 MB/s eta 0:00:01\n",
      "   ----------------------------- ---------- 1.9/2.5 MB 1.7 MB/s eta 0:00:01\n",
      "   ------------------------------- -------- 2.0/2.5 MB 1.8 MB/s eta 0:00:01\n",
      "   ------------------------------- -------- 2.0/2.5 MB 1.8 MB/s eta 0:00:01\n",
      "   ------------------------------- -------- 2.0/2.5 MB 1.8 MB/s eta 0:00:01\n",
      "   ------------------------------- -------- 2.0/2.5 MB 1.8 MB/s eta 0:00:01\n",
      "   ------------------------------- -------- 2.0/2.5 MB 1.8 MB/s eta 0:00:01\n",
      "   ------------------------------- -------- 2.0/2.5 MB 1.8 MB/s eta 0:00:01\n",
      "   ---------------------------------------  2.5/2.5 MB 1.8 MB/s eta 0:00:01\n",
      "   ---------------------------------------- 2.5/2.5 MB 1.7 MB/s eta 0:00:00\n",
      "Downloading pyparsing-3.1.2-py3-none-any.whl (103 kB)\n",
      "   ---------------------------------------- 0.0/103.2 kB ? eta -:--:--\n",
      "   ---------------------------------------  102.4/103.2 kB 6.1 MB/s eta 0:00:01\n",
      "   ---------------------------------------- 103.2/103.2 kB 2.0 MB/s eta 0:00:00\n",
      "Installing collected packages: pyparsing, pillow, kiwisolver, fonttools, cycler, contourpy, matplotlib\n"
     ]
    },
    {
     "name": "stderr",
     "output_type": "stream",
     "text": [
      "ERROR: Could not install packages due to an OSError: [WinError 5] Access is denied: 'C:\\\\Python312\\\\share'\n",
      "Consider using the `--user` option or check the permissions.\n",
      "\n"
     ]
    }
   ],
   "source": []
  },
  {
   "cell_type": "code",
   "execution_count": 6,
   "metadata": {},
   "outputs": [
    {
     "data": {
      "text/plain": [
       "<matplotlib.image.AxesImage at 0x2f33403cfb0>"
      ]
     },
     "execution_count": 6,
     "metadata": {},
     "output_type": "execute_result"
    },
    {
     "data": {
      "image/png": "[encoded data removed]",
      "text/plain": [
       "<Figure size 640x480 with 1 Axes>"
      ]
     },
     "metadata": {},
     "output_type": "display_data"
    }
   ],
   "source": [
    "import matplotlib.pyplot as plt\n",
    "import matplotlib.image as mpimg\n",
    "\n",
    "img = mpimg.imread(\"img1.jpg\") # convert into numpy array\n",
    "plt.imshow(img) # img1.jpg D:\\Panaverse\\Q-3\\Python-classes\\img1.jpg img1.jpg"
   ]
  },
  {
   "cell_type": "code",
   "execution_count": 9,
   "metadata": {},
   "outputs": [
    {
     "data": {
      "text/plain": [
       "['React JS',\n",
       " '',\n",
       " '',\n",
       " '',\n",
       " 'Features AngularJS ReactJS VueJS\\nArchitecture Full-featured MVC \\nframeworkComponent -based \\nlibraryComponent -based \\nlibrary\\nLearning Curve Steeper learning \\ncurve for beginnersRelatively easier to \\nlearnEasier to learn\\nPerformance Can be slower due to \\ntwo -way data bindingOptimized with the \\nuse of Virtual DOMOptimized with the \\nuse of Virtual DOM\\nSize Larger file size Smaller file Smaller file\\nData Binding Two -way data \\nbindingOne -way data \\nbindingTwo -way data \\nbinding',\n",
       " '',\n",
       " '',\n",
       " '',\n",
       " '',\n",
       " '',\n",
       " '',\n",
       " '']"
      ]
     },
     "execution_count": 9,
     "metadata": {},
     "output_type": "execute_result"
    }
   ],
   "source": [
    "from typing import List\n",
    "import PyPDF2\n",
    "\n",
    "def read_pdf(file_path: str) -> List[str]:\n",
    "    with open(file_path, 'rb') as file: \n",
    "        reader: PyPDF2.PdfReader = PyPDF2.PdfReader(file)\n",
    "        text_content: List[str] = [page.extract_text () for page in reader.pages]\n",
    "        return text_content\n",
    "pages: list[str] = read_pdf(\"./React_slides.pdf\")\n",
    "pages"
   ]
  },
  {
   "cell_type": "code",
   "execution_count": 8,
   "metadata": {},
   "outputs": [
    {
     "name": "stderr",
     "output_type": "stream",
     "text": [
      "C:\\Users\\ST\\AppData\\Local\\Temp\\ipykernel_2328\\3355569580.py:8: DeprecationWarning: The binary mode of fromstring is deprecated, as it behaves surprisingly on unicode inputs. Use frombuffer instead\n",
      "  signals = np.fromstring(signals, dtype=np.int16)\n"
     ]
    },
    {
     "data": {
      "image/png": "[encoded data removed]",
      "text/plain": [
       "<Figure size 640x480 with 1 Axes>"
      ]
     },
     "metadata": {},
     "output_type": "display_data"
    }
   ],
   "source": [
    "import matplotlib.pyplot as plt\n",
    "import numpy as np\n",
    "import wave \n",
    "import sys\n",
    "\n",
    "audio_file = wave.open(\"Deewna.wav\") \n",
    "signals = audio_file.readframes(-1)\n",
    "signals = np.fromstring(signals, dtype=np.int16)\n",
    "plt.figure(1)\n",
    "plt.title(\"Signals wave ....\")\n",
    "plt.plot(signals)\n",
    "plt.show()\n",
    "\n"
   ]
  },
  {
   "cell_type": "code",
   "execution_count": 2,
   "metadata": {},
   "outputs": [
    {
     "name": "stdout",
     "output_type": "stream",
     "text": [
      "Requirement already satisfied: PyPdf2 in c:\\python312\\lib\\site-packages (3.0.1)\n"
     ]
    }
   ],
   "source": []
  }
 ],
 "metadata": {
  "kernelspec": {
   "display_name": "Python 3",
   "language": "python",
   "name": "python3"
  },
  "language_info": {
   "codemirror_mode": {
    "name": "ipython",
    "version": 3
   },
   "file_extension": ".py",
   "mimetype": "text/x-python",
   "name": "python",
   "nbconvert_exporter": "python",
   "pygments_lexer": "ipython3",
   "version": "3.12.2"
  }
 },
 "nbformat": 4,
 "nbformat_minor": 2
}
