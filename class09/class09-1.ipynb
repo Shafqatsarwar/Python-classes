{
 "cells": [
  {
   "cell_type": "markdown",
   "metadata": {},
   "source": [
    "# input from user\n",
    "* input function \n",
    "  * default type = string\n",
    "* sys.argv (for console input in abc.py file)\n",
    "  * default type = object"
   ]
  },
  {
   "cell_type": "code",
   "execution_count": null,
   "metadata": {
    "vscode": {
     "languageId": "plaintext"
    }
   },
   "outputs": [],
   "source": [
    "#                 01234567\n",
    "l1 : dict[str,str] = {\"name\":\"khan\", \"fname\":\"sarwar\"}\n",
    "\n",
    "for k in l1:\n",
    "    print (f\"dictionary key:{k} and value is {l1[k]}\")"
   ]
  }
 ],
 "metadata": {
  "language_info": {
   "name": "python"
  }
 },
 "nbformat": 4,
 "nbformat_minor": 2
}
