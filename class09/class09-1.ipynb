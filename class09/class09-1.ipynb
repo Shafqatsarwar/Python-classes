{
 "cells": [
  {
   "cell_type": "markdown",
   "metadata": {},
   "source": [
    "# input from user\n",
    "* input function \n",
    "  * default type = string\n",
    "* sys.argv (for console input in abc.py file)\n",
    "  * default type = object"
   ]
  },
  {
   "cell_type": "code",
   "execution_count": null,
   "metadata": {},
   "outputs": [],
   "source": [
    "#                 01234567\n",
    "l1 : dict[str,str] = {\"name\":\"khan\", \"fname\":\"sarwar\"}\n",
    "\n",
    "for k in l1:\n",
    "    print (f\"dictionary key:{k} and value is {l1[k]}\")"
   ]
  },
  {
   "cell_type": "code",
   "execution_count": 4,
   "metadata": {},
   "outputs": [
    {
     "name": "stdout",
     "output_type": "stream",
     "text": [
      "<class 'str'>\n",
      "Well come dear user khan!\n"
     ]
    }
   ],
   "source": [
    "name : str = input(\"what is your Name? :\\t\")\n",
    "print (type(name))\n",
    "print (f\"Well come dear user {name}!\")"
   ]
  },
  {
   "cell_type": "markdown",
   "metadata": {},
   "source": []
  },
  {
   "cell_type": "code",
   "execution_count": 5,
   "metadata": {},
   "outputs": [
    {
     "name": "stdout",
     "output_type": "stream",
     "text": [
      "line1\n",
      "line2\n",
      "['C:\\\\Users\\\\ST\\\\AppData\\\\Roaming\\\\Python\\\\Python312\\\\site-packages\\\\ipykernel_launcher.py', '--f=c:\\\\Users\\\\ST\\\\AppData\\\\Roaming\\\\jupyter\\\\runtime\\\\kernel-v2-6600QkNpd2QrpOGr.json']\n"
     ]
    }
   ],
   "source": [
    "import sys\n",
    "\n",
    "print (\"line1\")\n",
    "print (\"line2\")\n",
    "\n",
    "print (sys.argv)"
   ]
  },
  {
   "cell_type": "code",
   "execution_count": 1,
   "metadata": {},
   "outputs": [
    {
     "data": {
      "text/plain": [
       "[('a', 'x', 1), ('b', 'y', 2), ('c', 'z', 3)]"
      ]
     },
     "execution_count": 1,
     "metadata": {},
     "output_type": "execute_result"
    }
   ],
   "source": [
    "names : list [str] = ['a', 'b', 'c']\n",
    "fname : list [str] = ['x', 'y', 'z']\n",
    "age : list[int] = [1,2,3]\n",
    "list (zip(names, fname, age))\n",
    "\n",
    "for name,fn,ag in zip(names,fname,age):\n",
    "    print (f\" Wellcome dear {name}, S/O {fname}, years {age} !\")"
   ]
  },
  {
   "cell_type": "markdown",
   "metadata": {},
   "source": [
    "40 minutes"
   ]
  }
 ],
 "metadata": {
  "kernelspec": {
   "display_name": "Python 3",
   "language": "python",
   "name": "python3"
  },
  "language_info": {
   "codemirror_mode": {
    "name": "ipython",
    "version": 3
   },
   "file_extension": ".py",
   "mimetype": "text/x-python",
   "name": "python",
   "nbconvert_exporter": "python",
   "pygments_lexer": "ipython3",
   "version": "3.12.2"
  }
 },
 "nbformat": 4,
 "nbformat_minor": 2
}
