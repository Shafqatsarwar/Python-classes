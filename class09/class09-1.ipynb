{
 "cells": [
  {
   "cell_type": "markdown",
   "metadata": {},
   "source": [
    "# input from user\n",
    "* input function \n",
    "  * default type = string\n",
    "* sys.argv (for console input in abc.py file)\n",
    "  * default type = object"
   ]
  },
  {
   "cell_type": "code",
   "execution_count": null,
   "metadata": {},
   "outputs": [],
   "source": [
    "#                 01234567\n",
    "l1 : dict[str,str] = {\"name\":\"khan\", \"fname\":\"sarwar\"}\n",
    "\n",
    "for k in l1:\n",
    "    print (f\"dictionary key:{k} and value is {l1[k]}\")"
   ]
  },
  {
   "cell_type": "code",
   "execution_count": 4,
   "metadata": {},
   "outputs": [
    {
     "name": "stdout",
     "output_type": "stream",
     "text": [
      "<class 'str'>\n",
      "Well come dear user khan!\n"
     ]
    }
   ],
   "source": [
    "name : str = input(\"what is your Name? :\\t\")\n",
    "print (type(name))\n",
    "print (f\"Well come dear user {name}!\")"
   ]
  },
  {
   "cell_type": "code",
   "execution_count": 5,
   "metadata": {},
   "outputs": [
    {
     "name": "stdout",
     "output_type": "stream",
     "text": [
      "line1\n",
      "line2\n",
      "['C:\\\\Users\\\\ST\\\\AppData\\\\Roaming\\\\Python\\\\Python312\\\\site-packages\\\\ipykernel_launcher.py', '--f=c:\\\\Users\\\\ST\\\\AppData\\\\Roaming\\\\jupyter\\\\runtime\\\\kernel-v2-6600QkNpd2QrpOGr.json']\n"
     ]
    }
   ],
   "source": [
    "import sys\n",
    "\n",
    "print (\"line1\")\n",
    "print (\"line2\")\n",
    "\n",
    "print (sys.argv)"
   ]
  },
  {
   "cell_type": "code",
   "execution_count": 3,
   "metadata": {},
   "outputs": [
    {
     "name": "stdout",
     "output_type": "stream",
     "text": [
      " Wellcome dear a, S/O x, years 1 !\n",
      " Wellcome dear b, S/O y, years 2 !\n",
      " Wellcome dear c, S/O z, years 3 !\n"
     ]
    }
   ],
   "source": [
    "names : list [str] = ['a', 'b', 'c']\n",
    "fname : list [str] = ['x', 'y', 'z']\n",
    "age : list[int] = [1,2,3]\n",
    "list (zip(names, fname, age))\n",
    "\n",
    "for name,fn,ag in zip(names,fname,age):\n",
    "    print (f\" Wellcome dear {name}, S/O {fn}, years {ag} !\")"
   ]
  },
  {
   "cell_type": "markdown",
   "metadata": {},
   "source": [
    "# While loop\n",
    "while logic: # True/FDalse"
   ]
  },
  {
   "cell_type": "code",
   "execution_count": 4,
   "metadata": {},
   "outputs": [
    {
     "name": "stdout",
     "output_type": "stream",
     "text": [
      " current_number is : 0 \n",
      " current_number is : 1 \n",
      " current_number is : 2 \n",
      " current_number is : 3 \n",
      " current_number is : 4 \n",
      " current_number is : 5 \n",
      " current_number is : 6 \n",
      " current_number is : 7 \n",
      " current_number is : 8 \n",
      " current_number is : 9 \n"
     ]
    }
   ],
   "source": [
    "flag : bool = True\n",
    "current_number : int = 0\n",
    "while flag:\n",
    "    print (f\" current_number is : {current_number} \")\n",
    "    current_number +=1\n",
    "\n",
    "    if current_number  == 10:\n",
    "        break\n"
   ]
  },
  {
   "cell_type": "code",
   "execution_count": 5,
   "metadata": {},
   "outputs": [
    {
     "name": "stdout",
     "output_type": "stream",
     "text": [
      " current index is : 0 and list value is 100\n",
      " current index is : 1 and list value is 200\n",
      " current index is : 2 and list value is 300\n"
     ]
    }
   ],
   "source": [
    "l1 : list[int] = [100,200,300]\n",
    "index : int = 0\n",
    "\n",
    "while index < len(l1):\n",
    "    print (f\" current index is : {index} and list value is {l1[index]}\")\n",
    "    index += 1"
   ]
  },
  {
   "cell_type": "code",
   "execution_count": 8,
   "metadata": {},
   "outputs": [
    {
     "name": "stdout",
     "output_type": "stream",
     "text": [
      "write stop or exit to stop this program\n"
     ]
    },
    {
     "data": {
      "text/plain": [
       "[{'name': 'khan',\n",
       "  'fname': 'sarwar',\n",
       "  'age': '35',\n",
       "  'education': 'MCS',\n",
       "  'hoby': 'python'}]"
      ]
     },
     "metadata": {},
     "output_type": "display_data"
    },
    {
     "name": "stdout",
     "output_type": "stream",
     "text": [
      "write stop or exit to stop this program\n"
     ]
    }
   ],
   "source": [
    "data : list[dict[str,str]] = []\n",
    "flag : bool = True\n",
    "while flag:\n",
    "    print (\"write stop or exit to stop this program\")\n",
    "    name : str = input (\"your Good Name please > \\t\")\n",
    "    fname : str = input (\"your Fathe Name please > \\t\")\n",
    "    age: str = input (\"your Age please > \\t\")\n",
    "    education : str = input (\"your Qualification please > \\t\")\n",
    "    hoby : str = input (\"your Interest please > \\t\")\n",
    "\n",
    "    if name in [ 'stop', 'exit'] or fname in [ 'stop', 'exit'] or education in [ 'stop', 'exit'] or age in [ 'stop', 'exit'] :\n",
    "        flag = False\n",
    "        break\n",
    "    data.append ({\"name\":name,\n",
    "                  \"fname\":fname,\n",
    "                  \"age\":age,\n",
    "                  \"education\":education,\n",
    "                  \"hoby\":hoby})\n",
    "    display (data)"
   ]
  }
 ],
 "metadata": {
  "kernelspec": {
   "display_name": "Python 3",
   "language": "python",
   "name": "python3"
  },
  "language_info": {
   "codemirror_mode": {
    "name": "ipython",
    "version": 3
   },
   "file_extension": ".py",
   "mimetype": "text/x-python",
   "name": "python",
   "nbconvert_exporter": "python",
   "pygments_lexer": "ipython3",
   "version": "3.12.2"
  }
 },
 "nbformat": 4,
 "nbformat_minor": 2
}
