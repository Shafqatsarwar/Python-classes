{
 "cells": [
  {
   "cell_type": "markdown",
   "metadata": {},
   "source": [
    "# input from user\n",
    "* input function "
   ]
  },
  {
   "cell_type": "code",
   "execution_count": null,
   "metadata": {
    "vscode": {
     "languageId": "plaintext"
    }
   },
   "outputs": [],
   "source": [
    "#                 01234567\n",
    "l1 : dict[str,str] = {\"name\":\"khan\", \"fname\":\"sarwar\"}\n",
    "\n",
    "for k in l1:\n",
    "    print (f\"dictionary key:{k} and value is {l1[k]}\")"
   ]
  }
 ],
 "metadata": {
  "language_info": {
   "name": "python"
  }
 },
 "nbformat": 4,
 "nbformat_minor": 2
}
